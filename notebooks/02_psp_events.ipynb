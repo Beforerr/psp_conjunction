{
 "cells": [
  {
   "cell_type": "code",
   "execution_count": 1,
   "metadata": {},
   "outputs": [],
   "source": [
    "#| hide\n",
    "%load_ext autoreload\n",
    "%autoreload 2"
   ]
  },
  {
   "cell_type": "code",
   "execution_count": 2,
   "metadata": {},
   "outputs": [
    {
     "data": {
      "text/html": [
       "<pre style=\"white-space:pre;overflow-x:auto;line-height:normal;font-family:Menlo,'DejaVu Sans Mono',consolas,'Courier New',monospace\"><span style=\"color: #7fbfbf; text-decoration-color: #7fbfbf\">06-Feb-24 15:49:16 </span><span style=\"color: #800000; text-decoration-color: #800000\">WARNING </span> <span style=\"color: #008080; text-decoration-color: #008080; font-weight: bold\">06</span>-Feb-<span style=\"color: #008080; text-decoration-color: #008080; font-weight: bold\">24</span> <span style=\"color: #00ff00; text-decoration-color: #00ff00; font-weight: bold\">15:49:16</span>: UserWarning: Traceback <span style=\"font-weight: bold\">(</span>most recent call last<span style=\"font-weight: bold\">)</span>:       <a href=\"file:///Users/zijin/micromamba/envs/psp_conjunction/lib/python3.11/site-packages/astropy/logger.py\" target=\"_blank\"><span style=\"color: #7f7f7f; text-decoration-color: #7f7f7f\">logger.py</span></a><span style=\"color: #7f7f7f; text-decoration-color: #7f7f7f\">:</span><a href=\"file:///Users/zijin/micromamba/envs/psp_conjunction/lib/python3.11/site-packages/astropy/logger.py#205\" target=\"_blank\"><span style=\"color: #7f7f7f; text-decoration-color: #7f7f7f\">205</span></a>\n",
       "<span style=\"color: #7fbfbf; text-decoration-color: #7fbfbf\">                   </span>           File                                                                    <span style=\"color: #7f7f7f; text-decoration-color: #7f7f7f\">             </span>\n",
       "<span style=\"color: #7fbfbf; text-decoration-color: #7fbfbf\">                   </span>         <span style=\"color: #008000; text-decoration-color: #008000\">\"/Users/zijin/micromamba/envs/psp_conjunction/lib/python3.11/site-package</span> <span style=\"color: #7f7f7f; text-decoration-color: #7f7f7f\">             </span>\n",
       "<span style=\"color: #7fbfbf; text-decoration-color: #7fbfbf\">                   </span>         <span style=\"color: #008000; text-decoration-color: #008000\">s/pdpipe/__init__.py\"</span>, line <span style=\"color: #008080; text-decoration-color: #008080; font-weight: bold\">85</span>, in <span style=\"font-weight: bold\">&lt;</span><span style=\"color: #ff00ff; text-decoration-color: #ff00ff; font-weight: bold\">module</span><span style=\"color: #000000; text-decoration-color: #000000\">&gt;</span>                               <span style=\"color: #7f7f7f; text-decoration-color: #7f7f7f\">             </span>\n",
       "<span style=\"color: #7fbfbf; text-decoration-color: #7fbfbf\">                   </span>         <span style=\"color: #000000; text-decoration-color: #000000\">    from . import skintegrate</span>                                             <span style=\"color: #7f7f7f; text-decoration-color: #7f7f7f\">             </span>\n",
       "<span style=\"color: #7fbfbf; text-decoration-color: #7fbfbf\">                   </span>         <span style=\"color: #000000; text-decoration-color: #000000\">  File </span>                                                                   <span style=\"color: #7f7f7f; text-decoration-color: #7f7f7f\">             </span>\n",
       "<span style=\"color: #7fbfbf; text-decoration-color: #7fbfbf\">                   </span>         <span style=\"color: #008000; text-decoration-color: #008000\">\"/Users/zijin/micromamba/envs/psp_conjunction/lib/python3.11/site-package</span> <span style=\"color: #7f7f7f; text-decoration-color: #7f7f7f\">             </span>\n",
       "<span style=\"color: #7fbfbf; text-decoration-color: #7fbfbf\">                   </span>         <span style=\"color: #008000; text-decoration-color: #008000\">s/pdpipe/skintegrate.py\"</span><span style=\"color: #000000; text-decoration-color: #000000\">, line </span><span style=\"color: #008080; text-decoration-color: #008080; font-weight: bold\">20</span><span style=\"color: #000000; text-decoration-color: #000000\">, in &lt;module</span><span style=\"font-weight: bold\">&gt;</span>                            <span style=\"color: #7f7f7f; text-decoration-color: #7f7f7f\">             </span>\n",
       "<span style=\"color: #7fbfbf; text-decoration-color: #7fbfbf\">                   </span>             from sklearn.base import BaseEstimator                                <span style=\"color: #7f7f7f; text-decoration-color: #7f7f7f\">             </span>\n",
       "<span style=\"color: #7fbfbf; text-decoration-color: #7fbfbf\">                   </span>         ModuleNotFoundError: No module named <span style=\"color: #008000; text-decoration-color: #008000\">'sklearn'</span>                            <span style=\"color: #7f7f7f; text-decoration-color: #7f7f7f\">             </span>\n",
       "<span style=\"color: #7fbfbf; text-decoration-color: #7fbfbf\">                   </span>                                                                                   <span style=\"color: #7f7f7f; text-decoration-color: #7f7f7f\">             </span>\n",
       "<span style=\"color: #7fbfbf; text-decoration-color: #7fbfbf\">                   </span>                                                                                   <span style=\"color: #7f7f7f; text-decoration-color: #7f7f7f\">             </span>\n",
       "</pre>\n"
      ],
      "text/plain": [
       "\u001b[2;36m06-Feb-24 15:49:16\u001b[0m\u001b[2;36m \u001b[0m\u001b[31mWARNING \u001b[0m \u001b[1;36m06\u001b[0m-Feb-\u001b[1;36m24\u001b[0m \u001b[1;92m15:49:16\u001b[0m: UserWarning: Traceback \u001b[1m(\u001b[0mmost recent call last\u001b[1m)\u001b[0m:       \u001b]8;id=707665;file:///Users/zijin/micromamba/envs/psp_conjunction/lib/python3.11/site-packages/astropy/logger.py\u001b\\\u001b[2mlogger.py\u001b[0m\u001b]8;;\u001b\\\u001b[2m:\u001b[0m\u001b]8;id=491710;file:///Users/zijin/micromamba/envs/psp_conjunction/lib/python3.11/site-packages/astropy/logger.py#205\u001b\\\u001b[2m205\u001b[0m\u001b]8;;\u001b\\\n",
       "\u001b[2;36m                   \u001b[0m           File                                                                    \u001b[2m             \u001b[0m\n",
       "\u001b[2;36m                   \u001b[0m         \u001b[32m\"/Users/zijin/micromamba/envs/psp_conjunction/lib/python3.11/site-package\u001b[0m \u001b[2m             \u001b[0m\n",
       "\u001b[2;36m                   \u001b[0m         \u001b[32ms/pdpipe/__init__.py\"\u001b[0m, line \u001b[1;36m85\u001b[0m, in \u001b[1m<\u001b[0m\u001b[1;95mmodule\u001b[0m\u001b[39m>\u001b[0m                               \u001b[2m             \u001b[0m\n",
       "\u001b[2;36m                   \u001b[0m         \u001b[39m    from . import skintegrate\u001b[0m                                             \u001b[2m             \u001b[0m\n",
       "\u001b[2;36m                   \u001b[0m         \u001b[39m  File \u001b[0m                                                                   \u001b[2m             \u001b[0m\n",
       "\u001b[2;36m                   \u001b[0m         \u001b[32m\"/Users/zijin/micromamba/envs/psp_conjunction/lib/python3.11/site-package\u001b[0m \u001b[2m             \u001b[0m\n",
       "\u001b[2;36m                   \u001b[0m         \u001b[32ms/pdpipe/skintegrate.py\"\u001b[0m\u001b[39m, line \u001b[0m\u001b[1;36m20\u001b[0m\u001b[39m, in <module\u001b[0m\u001b[1m>\u001b[0m                            \u001b[2m             \u001b[0m\n",
       "\u001b[2;36m                   \u001b[0m             from sklearn.base import BaseEstimator                                \u001b[2m             \u001b[0m\n",
       "\u001b[2;36m                   \u001b[0m         ModuleNotFoundError: No module named \u001b[32m'sklearn'\u001b[0m                            \u001b[2m             \u001b[0m\n",
       "\u001b[2;36m                   \u001b[0m                                                                                   \u001b[2m             \u001b[0m\n",
       "\u001b[2;36m                   \u001b[0m                                                                                   \u001b[2m             \u001b[0m\n"
      ]
     },
     "metadata": {},
     "output_type": "display_data"
    },
    {
     "data": {
      "text/html": [
       "<pre style=\"white-space:pre;overflow-x:auto;line-height:normal;font-family:Menlo,'DejaVu Sans Mono',consolas,'Courier New',monospace\"><span style=\"color: #7fbfbf; text-decoration-color: #7fbfbf\">                   </span><span style=\"color: #800000; text-decoration-color: #800000\">WARNING </span> <span style=\"color: #008080; text-decoration-color: #008080; font-weight: bold\">06</span>-Feb-<span style=\"color: #008080; text-decoration-color: #008080; font-weight: bold\">24</span> <span style=\"color: #00ff00; text-decoration-color: #00ff00; font-weight: bold\">15:49:16</span>: UserWarning: pdpipe: Scikit-learn or skutil import    <a href=\"file:///Users/zijin/micromamba/envs/psp_conjunction/lib/python3.11/site-packages/astropy/logger.py\" target=\"_blank\"><span style=\"color: #7f7f7f; text-decoration-color: #7f7f7f\">logger.py</span></a><span style=\"color: #7f7f7f; text-decoration-color: #7f7f7f\">:</span><a href=\"file:///Users/zijin/micromamba/envs/psp_conjunction/lib/python3.11/site-packages/astropy/logger.py#205\" target=\"_blank\"><span style=\"color: #7f7f7f; text-decoration-color: #7f7f7f\">205</span></a>\n",
       "<span style=\"color: #7fbfbf; text-decoration-color: #7fbfbf\">                   </span>         failed. Scikit-learn-dependent pipeline stages will not be loaded.        <span style=\"color: #7f7f7f; text-decoration-color: #7f7f7f\">             </span>\n",
       "<span style=\"color: #7fbfbf; text-decoration-color: #7fbfbf\">                   </span>                                                                                   <span style=\"color: #7f7f7f; text-decoration-color: #7f7f7f\">             </span>\n",
       "</pre>\n"
      ],
      "text/plain": [
       "\u001b[2;36m                  \u001b[0m\u001b[2;36m \u001b[0m\u001b[31mWARNING \u001b[0m \u001b[1;36m06\u001b[0m-Feb-\u001b[1;36m24\u001b[0m \u001b[1;92m15:49:16\u001b[0m: UserWarning: pdpipe: Scikit-learn or skutil import    \u001b]8;id=270165;file:///Users/zijin/micromamba/envs/psp_conjunction/lib/python3.11/site-packages/astropy/logger.py\u001b\\\u001b[2mlogger.py\u001b[0m\u001b]8;;\u001b\\\u001b[2m:\u001b[0m\u001b]8;id=799943;file:///Users/zijin/micromamba/envs/psp_conjunction/lib/python3.11/site-packages/astropy/logger.py#205\u001b\\\u001b[2m205\u001b[0m\u001b]8;;\u001b\\\n",
       "\u001b[2;36m                   \u001b[0m         failed. Scikit-learn-dependent pipeline stages will not be loaded.        \u001b[2m             \u001b[0m\n",
       "\u001b[2;36m                   \u001b[0m                                                                                   \u001b[2m             \u001b[0m\n"
      ]
     },
     "metadata": {},
     "output_type": "display_data"
    },
    {
     "data": {
      "text/html": [
       "<pre style=\"white-space:pre;overflow-x:auto;line-height:normal;font-family:Menlo,'DejaVu Sans Mono',consolas,'Courier New',monospace\"><span style=\"color: #7fbfbf; text-decoration-color: #7fbfbf\">                   </span><span style=\"color: #800000; text-decoration-color: #800000\">WARNING </span> <span style=\"color: #008080; text-decoration-color: #008080; font-weight: bold\">06</span>-Feb-<span style=\"color: #008080; text-decoration-color: #008080; font-weight: bold\">24</span> <span style=\"color: #00ff00; text-decoration-color: #00ff00; font-weight: bold\">15:49:16</span>: UserWarning: Traceback <span style=\"font-weight: bold\">(</span>most recent call last<span style=\"font-weight: bold\">)</span>:       <a href=\"file:///Users/zijin/micromamba/envs/psp_conjunction/lib/python3.11/site-packages/astropy/logger.py\" target=\"_blank\"><span style=\"color: #7f7f7f; text-decoration-color: #7f7f7f\">logger.py</span></a><span style=\"color: #7f7f7f; text-decoration-color: #7f7f7f\">:</span><a href=\"file:///Users/zijin/micromamba/envs/psp_conjunction/lib/python3.11/site-packages/astropy/logger.py#205\" target=\"_blank\"><span style=\"color: #7f7f7f; text-decoration-color: #7f7f7f\">205</span></a>\n",
       "<span style=\"color: #7fbfbf; text-decoration-color: #7fbfbf\">                   </span>           File                                                                    <span style=\"color: #7f7f7f; text-decoration-color: #7f7f7f\">             </span>\n",
       "<span style=\"color: #7fbfbf; text-decoration-color: #7fbfbf\">                   </span>         <span style=\"color: #008000; text-decoration-color: #008000\">\"/Users/zijin/micromamba/envs/psp_conjunction/lib/python3.11/site-package</span> <span style=\"color: #7f7f7f; text-decoration-color: #7f7f7f\">             </span>\n",
       "<span style=\"color: #7fbfbf; text-decoration-color: #7fbfbf\">                   </span>         <span style=\"color: #008000; text-decoration-color: #008000\">s/pdpipe/__init__.py\"</span>, line <span style=\"color: #008080; text-decoration-color: #008080; font-weight: bold\">105</span>, in <span style=\"font-weight: bold\">&lt;</span><span style=\"color: #ff00ff; text-decoration-color: #ff00ff; font-weight: bold\">module</span><span style=\"color: #000000; text-decoration-color: #000000\">&gt;</span>                              <span style=\"color: #7f7f7f; text-decoration-color: #7f7f7f\">             </span>\n",
       "<span style=\"color: #7fbfbf; text-decoration-color: #7fbfbf\">                   </span>         <span style=\"color: #000000; text-decoration-color: #000000\">    from . import nltk_stages</span>                                             <span style=\"color: #7f7f7f; text-decoration-color: #7f7f7f\">             </span>\n",
       "<span style=\"color: #7fbfbf; text-decoration-color: #7fbfbf\">                   </span>         <span style=\"color: #000000; text-decoration-color: #000000\">  File </span>                                                                   <span style=\"color: #7f7f7f; text-decoration-color: #7f7f7f\">             </span>\n",
       "<span style=\"color: #7fbfbf; text-decoration-color: #7fbfbf\">                   </span>         <span style=\"color: #008000; text-decoration-color: #008000\">\"/Users/zijin/micromamba/envs/psp_conjunction/lib/python3.11/site-package</span> <span style=\"color: #7f7f7f; text-decoration-color: #7f7f7f\">             </span>\n",
       "<span style=\"color: #7fbfbf; text-decoration-color: #7fbfbf\">                   </span>         <span style=\"color: #008000; text-decoration-color: #008000\">s/pdpipe/nltk_stages.py\"</span><span style=\"color: #000000; text-decoration-color: #000000\">, line </span><span style=\"color: #008080; text-decoration-color: #008080; font-weight: bold\">19</span><span style=\"color: #000000; text-decoration-color: #000000\">, in &lt;module</span><span style=\"font-weight: bold\">&gt;</span>                            <span style=\"color: #7f7f7f; text-decoration-color: #7f7f7f\">             </span>\n",
       "<span style=\"color: #7fbfbf; text-decoration-color: #7fbfbf\">                   </span>             import nltk                                                           <span style=\"color: #7f7f7f; text-decoration-color: #7f7f7f\">             </span>\n",
       "<span style=\"color: #7fbfbf; text-decoration-color: #7fbfbf\">                   </span>         ModuleNotFoundError: No module named <span style=\"color: #008000; text-decoration-color: #008000\">'nltk'</span>                               <span style=\"color: #7f7f7f; text-decoration-color: #7f7f7f\">             </span>\n",
       "<span style=\"color: #7fbfbf; text-decoration-color: #7fbfbf\">                   </span>                                                                                   <span style=\"color: #7f7f7f; text-decoration-color: #7f7f7f\">             </span>\n",
       "<span style=\"color: #7fbfbf; text-decoration-color: #7fbfbf\">                   </span>                                                                                   <span style=\"color: #7f7f7f; text-decoration-color: #7f7f7f\">             </span>\n",
       "</pre>\n"
      ],
      "text/plain": [
       "\u001b[2;36m                  \u001b[0m\u001b[2;36m \u001b[0m\u001b[31mWARNING \u001b[0m \u001b[1;36m06\u001b[0m-Feb-\u001b[1;36m24\u001b[0m \u001b[1;92m15:49:16\u001b[0m: UserWarning: Traceback \u001b[1m(\u001b[0mmost recent call last\u001b[1m)\u001b[0m:       \u001b]8;id=833483;file:///Users/zijin/micromamba/envs/psp_conjunction/lib/python3.11/site-packages/astropy/logger.py\u001b\\\u001b[2mlogger.py\u001b[0m\u001b]8;;\u001b\\\u001b[2m:\u001b[0m\u001b]8;id=934851;file:///Users/zijin/micromamba/envs/psp_conjunction/lib/python3.11/site-packages/astropy/logger.py#205\u001b\\\u001b[2m205\u001b[0m\u001b]8;;\u001b\\\n",
       "\u001b[2;36m                   \u001b[0m           File                                                                    \u001b[2m             \u001b[0m\n",
       "\u001b[2;36m                   \u001b[0m         \u001b[32m\"/Users/zijin/micromamba/envs/psp_conjunction/lib/python3.11/site-package\u001b[0m \u001b[2m             \u001b[0m\n",
       "\u001b[2;36m                   \u001b[0m         \u001b[32ms/pdpipe/__init__.py\"\u001b[0m, line \u001b[1;36m105\u001b[0m, in \u001b[1m<\u001b[0m\u001b[1;95mmodule\u001b[0m\u001b[39m>\u001b[0m                              \u001b[2m             \u001b[0m\n",
       "\u001b[2;36m                   \u001b[0m         \u001b[39m    from . import nltk_stages\u001b[0m                                             \u001b[2m             \u001b[0m\n",
       "\u001b[2;36m                   \u001b[0m         \u001b[39m  File \u001b[0m                                                                   \u001b[2m             \u001b[0m\n",
       "\u001b[2;36m                   \u001b[0m         \u001b[32m\"/Users/zijin/micromamba/envs/psp_conjunction/lib/python3.11/site-package\u001b[0m \u001b[2m             \u001b[0m\n",
       "\u001b[2;36m                   \u001b[0m         \u001b[32ms/pdpipe/nltk_stages.py\"\u001b[0m\u001b[39m, line \u001b[0m\u001b[1;36m19\u001b[0m\u001b[39m, in <module\u001b[0m\u001b[1m>\u001b[0m                            \u001b[2m             \u001b[0m\n",
       "\u001b[2;36m                   \u001b[0m             import nltk                                                           \u001b[2m             \u001b[0m\n",
       "\u001b[2;36m                   \u001b[0m         ModuleNotFoundError: No module named \u001b[32m'nltk'\u001b[0m                               \u001b[2m             \u001b[0m\n",
       "\u001b[2;36m                   \u001b[0m                                                                                   \u001b[2m             \u001b[0m\n",
       "\u001b[2;36m                   \u001b[0m                                                                                   \u001b[2m             \u001b[0m\n"
      ]
     },
     "metadata": {},
     "output_type": "display_data"
    },
    {
     "data": {
      "text/html": [
       "<pre style=\"white-space:pre;overflow-x:auto;line-height:normal;font-family:Menlo,'DejaVu Sans Mono',consolas,'Courier New',monospace\"><span style=\"color: #7fbfbf; text-decoration-color: #7fbfbf\">                   </span><span style=\"color: #800000; text-decoration-color: #800000\">WARNING </span> <span style=\"color: #008080; text-decoration-color: #008080; font-weight: bold\">06</span>-Feb-<span style=\"color: #008080; text-decoration-color: #008080; font-weight: bold\">24</span> <span style=\"color: #00ff00; text-decoration-color: #00ff00; font-weight: bold\">15:49:16</span>: UserWarning: pdpipe: nltk import failed.              <a href=\"file:///Users/zijin/micromamba/envs/psp_conjunction/lib/python3.11/site-packages/astropy/logger.py\" target=\"_blank\"><span style=\"color: #7f7f7f; text-decoration-color: #7f7f7f\">logger.py</span></a><span style=\"color: #7f7f7f; text-decoration-color: #7f7f7f\">:</span><a href=\"file:///Users/zijin/micromamba/envs/psp_conjunction/lib/python3.11/site-packages/astropy/logger.py#205\" target=\"_blank\"><span style=\"color: #7f7f7f; text-decoration-color: #7f7f7f\">205</span></a>\n",
       "<span style=\"color: #7fbfbf; text-decoration-color: #7fbfbf\">                   </span>         nltk-dependent  pipeline stages will not be loaded.                       <span style=\"color: #7f7f7f; text-decoration-color: #7f7f7f\">             </span>\n",
       "<span style=\"color: #7fbfbf; text-decoration-color: #7fbfbf\">                   </span>                                                                                   <span style=\"color: #7f7f7f; text-decoration-color: #7f7f7f\">             </span>\n",
       "</pre>\n"
      ],
      "text/plain": [
       "\u001b[2;36m                  \u001b[0m\u001b[2;36m \u001b[0m\u001b[31mWARNING \u001b[0m \u001b[1;36m06\u001b[0m-Feb-\u001b[1;36m24\u001b[0m \u001b[1;92m15:49:16\u001b[0m: UserWarning: pdpipe: nltk import failed.              \u001b]8;id=624778;file:///Users/zijin/micromamba/envs/psp_conjunction/lib/python3.11/site-packages/astropy/logger.py\u001b\\\u001b[2mlogger.py\u001b[0m\u001b]8;;\u001b\\\u001b[2m:\u001b[0m\u001b]8;id=322425;file:///Users/zijin/micromamba/envs/psp_conjunction/lib/python3.11/site-packages/astropy/logger.py#205\u001b\\\u001b[2m205\u001b[0m\u001b]8;;\u001b\\\n",
       "\u001b[2;36m                   \u001b[0m         nltk-dependent  pipeline stages will not be loaded.                       \u001b[2m             \u001b[0m\n",
       "\u001b[2;36m                   \u001b[0m                                                                                   \u001b[2m             \u001b[0m\n"
      ]
     },
     "metadata": {},
     "output_type": "display_data"
    }
   ],
   "source": [
    "from discontinuitypy.datasets import IDsDataset\n",
    "from discontinuitypy.utils.basic import resample\n",
    "from beforerr.polars import pl_norm\n",
    "\n",
    "from sunpy.time import TimeRange\n",
    "from datetime import timedelta\n",
    "from space_analysis.utils.speasy import Variables"
   ]
  },
  {
   "cell_type": "code",
   "execution_count": 37,
   "metadata": {},
   "outputs": [],
   "source": [
    "start = '2019-04-06T12:00'\n",
    "start = '2019-04-07T01:00'\n",
    "end = '2019-04-07T12:00'\n",
    "\n",
    "earth_start = '2019-04-09'\n",
    "earth_end = '2019-04-12'\n",
    "\n",
    "tau = timedelta(seconds=10)\n",
    "ts = timedelta(seconds=1/264)"
   ]
  },
  {
   "cell_type": "code",
   "execution_count": 4,
   "metadata": {},
   "outputs": [],
   "source": [
    "psp_timerange = TimeRange(start, end)\n",
    "timerange_earth = TimeRange(earth_start, earth_end)"
   ]
  },
  {
   "cell_type": "code",
   "execution_count": 5,
   "metadata": {},
   "outputs": [],
   "source": [
    "def validate(timerange):\n",
    "    if isinstance(timerange, TimeRange):\n",
    "        return [timerange.start.to_string(), timerange.end.to_string()]"
   ]
  },
  {
   "cell_type": "code",
   "execution_count": 6,
   "metadata": {},
   "outputs": [],
   "source": [
    "psp_mag_data = Variables(\n",
    "    dataset=\"PSP_FLD_L2_MAG_RTN\",\n",
    "    parameters=[\"psp_fld_l2_mag_RTN\"],\n",
    "    timerange=validate(psp_timerange),\n",
    ").to_polars()"
   ]
  },
  {
   "cell_type": "markdown",
   "metadata": {},
   "source": [
    "PSP plasma data"
   ]
  },
  {
   "cell_type": "code",
   "execution_count": 7,
   "metadata": {},
   "outputs": [],
   "source": [
    "dataset = \"PSP_SWP_SPI_SF00_L3_MOM\"\n",
    "parameters = [\"DENS\", \"VEL_RTN_SUN\", \"TEMP\", \"SUN_DIST\"]\n",
    "vec_cols = [\"Vx RTN\", \"Vy RTN\", \"Vz RTN\"]\n",
    "\n",
    "psp_plasma = (\n",
    "    Variables(dataset=dataset, parameters=parameters, timerange=validate(psp_timerange))\n",
    "    .to_polars()\n",
    "    .with_columns(plasma_speed=pl_norm(vec_cols))\n",
    "    .rename(\n",
    "        {\n",
    "            \"Density\": \"plasma_density\",\n",
    "            \"Temperature\": \"plasma_temperature\",\n",
    "        }\n",
    "    )\n",
    ")\n",
    "\n",
    "psp_plasma_tau = psp_plasma.pipe(resample, every=tau)"
   ]
  },
  {
   "cell_type": "code",
   "execution_count": 36,
   "metadata": {},
   "outputs": [
    {
     "data": {
      "text/html": [
       "<pre style=\"white-space:pre;overflow-x:auto;line-height:normal;font-family:Menlo,'DejaVu Sans Mono',consolas,'Courier New',monospace\"><span style=\"color: #7fbfbf; text-decoration-color: #7fbfbf\">06-Feb-24 16:09:48 </span><span style=\"color: #800000; text-decoration-color: #800000\">WARNING </span> <span style=\"color: #008080; text-decoration-color: #008080; font-weight: bold\">06</span>-Feb-<span style=\"color: #008080; text-decoration-color: #008080; font-weight: bold\">24</span> <span style=\"color: #00ff00; text-decoration-color: #00ff00; font-weight: bold\">16:09:48</span>: UserWarning: Distributing <span style=\"font-weight: bold\">&lt;</span><span style=\"color: #ff00ff; text-decoration-color: #ff00ff; font-weight: bold\">class</span><span style=\"color: #000000; text-decoration-color: #000000\"> </span>                     <a href=\"file:///Users/zijin/micromamba/envs/psp_conjunction/lib/python3.11/site-packages/astropy/logger.py\" target=\"_blank\"><span style=\"color: #7f7f7f; text-decoration-color: #7f7f7f\">logger.py</span></a><span style=\"color: #7f7f7f; text-decoration-color: #7f7f7f\">:</span><a href=\"file:///Users/zijin/micromamba/envs/psp_conjunction/lib/python3.11/site-packages/astropy/logger.py#205\" target=\"_blank\"><span style=\"color: #7f7f7f; text-decoration-color: #7f7f7f\">205</span></a>\n",
       "<span style=\"color: #7fbfbf; text-decoration-color: #7fbfbf\">                   </span>         <span style=\"color: #008000; text-decoration-color: #008000\">'pandas.core.frame.DataFrame'</span><span style=\"font-weight: bold\">&gt;</span> object. This may take some time.           <span style=\"color: #7f7f7f; text-decoration-color: #7f7f7f\">             </span>\n",
       "<span style=\"color: #7fbfbf; text-decoration-color: #7fbfbf\">                   </span>                                                                                   <span style=\"color: #7f7f7f; text-decoration-color: #7f7f7f\">             </span>\n",
       "</pre>\n"
      ],
      "text/plain": [
       "\u001b[2;36m06-Feb-24 16:09:48\u001b[0m\u001b[2;36m \u001b[0m\u001b[31mWARNING \u001b[0m \u001b[1;36m06\u001b[0m-Feb-\u001b[1;36m24\u001b[0m \u001b[1;92m16:09:48\u001b[0m: UserWarning: Distributing \u001b[1m<\u001b[0m\u001b[1;95mclass\u001b[0m\u001b[39m \u001b[0m                     \u001b]8;id=167115;file:///Users/zijin/micromamba/envs/psp_conjunction/lib/python3.11/site-packages/astropy/logger.py\u001b\\\u001b[2mlogger.py\u001b[0m\u001b]8;;\u001b\\\u001b[2m:\u001b[0m\u001b]8;id=92925;file:///Users/zijin/micromamba/envs/psp_conjunction/lib/python3.11/site-packages/astropy/logger.py#205\u001b\\\u001b[2m205\u001b[0m\u001b]8;;\u001b\\\n",
       "\u001b[2;36m                   \u001b[0m         \u001b[32m'pandas.core.frame.DataFrame'\u001b[0m\u001b[1m>\u001b[0m object. This may take some time.           \u001b[2m             \u001b[0m\n",
       "\u001b[2;36m                   \u001b[0m                                                                                   \u001b[2m             \u001b[0m\n"
      ]
     },
     "metadata": {},
     "output_type": "display_data"
    },
    {
     "data": {
      "application/vnd.jupyter.widget-view+json": {
       "model_id": "0e897025cf2c40eaadc92d23837f8137",
       "version_major": 2,
       "version_minor": 0
      },
      "text/plain": [
       "Distributing Dataframe:   0%           Elapsed time: 00:00, estimated remaining time: ?"
      ]
     },
     "metadata": {},
     "output_type": "display_data"
    },
    {
     "data": {
      "application/vnd.jupyter.widget-view+json": {
       "model_id": "a6095930f5064b48b70f5478f01c4bda",
       "version_major": 2,
       "version_minor": 0
      },
      "text/plain": [
       "Estimated completion of line 9:   0%           Elapsed time: 00:00, estimated remaining time: ?"
      ]
     },
     "metadata": {},
     "output_type": "display_data"
    }
   ],
   "source": [
    "psp_ids_dataset = (\n",
    "    IDsDataset(\n",
    "        mag_data=psp_mag_data,\n",
    "        plasma_data=psp_plasma_tau,\n",
    "        tau=tau,\n",
    "        ts=ts,\n",
    "        vec_cols=vec_cols,\n",
    "    )\n",
    "    .find_events()\n",
    "    .update_candidates_with_plasma_data()\n",
    "    .export(\"../data/psp_ids_dataset.arrow\")\n",
    ")"
   ]
  },
  {
   "cell_type": "code",
   "execution_count": 46,
   "metadata": {},
   "outputs": [],
   "source": [
    "# Resampled dataset\n",
    "\n",
    "ts = timedelta(seconds=1 / 11)\n",
    "\n",
    "psp_mag_data_r = psp_mag_data.pipe(resample, every=ts)"
   ]
  },
  {
   "cell_type": "code",
   "execution_count": 35,
   "metadata": {},
   "outputs": [
    {
     "data": {
      "text/html": [
       "<pre style=\"white-space:pre;overflow-x:auto;line-height:normal;font-family:Menlo,'DejaVu Sans Mono',consolas,'Courier New',monospace\"><span style=\"color: #7fbfbf; text-decoration-color: #7fbfbf\">06-Feb-24 16:09:35 </span><span style=\"color: #800000; text-decoration-color: #800000\">WARNING </span> <span style=\"color: #008080; text-decoration-color: #008080; font-weight: bold\">06</span>-Feb-<span style=\"color: #008080; text-decoration-color: #008080; font-weight: bold\">24</span> <span style=\"color: #00ff00; text-decoration-color: #00ff00; font-weight: bold\">16:09:35</span>: UserWarning: Distributing <span style=\"font-weight: bold\">&lt;</span><span style=\"color: #ff00ff; text-decoration-color: #ff00ff; font-weight: bold\">class</span><span style=\"color: #000000; text-decoration-color: #000000\"> </span>                     <a href=\"file:///Users/zijin/micromamba/envs/psp_conjunction/lib/python3.11/site-packages/astropy/logger.py\" target=\"_blank\"><span style=\"color: #7f7f7f; text-decoration-color: #7f7f7f\">logger.py</span></a><span style=\"color: #7f7f7f; text-decoration-color: #7f7f7f\">:</span><a href=\"file:///Users/zijin/micromamba/envs/psp_conjunction/lib/python3.11/site-packages/astropy/logger.py#205\" target=\"_blank\"><span style=\"color: #7f7f7f; text-decoration-color: #7f7f7f\">205</span></a>\n",
       "<span style=\"color: #7fbfbf; text-decoration-color: #7fbfbf\">                   </span>         <span style=\"color: #008000; text-decoration-color: #008000\">'pandas.core.frame.DataFrame'</span><span style=\"font-weight: bold\">&gt;</span> object. This may take some time.           <span style=\"color: #7f7f7f; text-decoration-color: #7f7f7f\">             </span>\n",
       "<span style=\"color: #7fbfbf; text-decoration-color: #7fbfbf\">                   </span>                                                                                   <span style=\"color: #7f7f7f; text-decoration-color: #7f7f7f\">             </span>\n",
       "</pre>\n"
      ],
      "text/plain": [
       "\u001b[2;36m06-Feb-24 16:09:35\u001b[0m\u001b[2;36m \u001b[0m\u001b[31mWARNING \u001b[0m \u001b[1;36m06\u001b[0m-Feb-\u001b[1;36m24\u001b[0m \u001b[1;92m16:09:35\u001b[0m: UserWarning: Distributing \u001b[1m<\u001b[0m\u001b[1;95mclass\u001b[0m\u001b[39m \u001b[0m                     \u001b]8;id=810181;file:///Users/zijin/micromamba/envs/psp_conjunction/lib/python3.11/site-packages/astropy/logger.py\u001b\\\u001b[2mlogger.py\u001b[0m\u001b]8;;\u001b\\\u001b[2m:\u001b[0m\u001b]8;id=617257;file:///Users/zijin/micromamba/envs/psp_conjunction/lib/python3.11/site-packages/astropy/logger.py#205\u001b\\\u001b[2m205\u001b[0m\u001b]8;;\u001b\\\n",
       "\u001b[2;36m                   \u001b[0m         \u001b[32m'pandas.core.frame.DataFrame'\u001b[0m\u001b[1m>\u001b[0m object. This may take some time.           \u001b[2m             \u001b[0m\n",
       "\u001b[2;36m                   \u001b[0m                                                                                   \u001b[2m             \u001b[0m\n"
      ]
     },
     "metadata": {},
     "output_type": "display_data"
    },
    {
     "data": {
      "application/vnd.jupyter.widget-view+json": {
       "model_id": "6d098c8962ce4b809555ae3644a7a96b",
       "version_major": 2,
       "version_minor": 0
      },
      "text/plain": [
       "Distributing Dataframe:   0%           Elapsed time: 00:00, estimated remaining time: ?"
      ]
     },
     "metadata": {},
     "output_type": "display_data"
    },
    {
     "data": {
      "application/vnd.jupyter.widget-view+json": {
       "model_id": "8b075644d91e4a9c880e82b1e48b9fb6",
       "version_major": 2,
       "version_minor": 0
      },
      "text/plain": [
       "Estimated completion of line 9:   0%           Elapsed time: 00:00, estimated remaining time: ?"
      ]
     },
     "metadata": {},
     "output_type": "display_data"
    }
   ],
   "source": [
    "psp_ids_dataset_r = (\n",
    "    IDsDataset(\n",
    "        mag_data=psp_mag_data_r,\n",
    "        plasma_data=psp_plasma_tau,\n",
    "        tau=tau,\n",
    "        ts=ts,\n",
    "        vec_cols=vec_cols,\n",
    "    )\n",
    "    .find_events()\n",
    "    .update_candidates_with_plasma_data()\n",
    "    .export(\"../data/psp_ids_dataset_r.arrow\")\n",
    ")"
   ]
  },
  {
   "cell_type": "markdown",
   "metadata": {},
   "source": [
    "## Wind dataset"
   ]
  },
  {
   "cell_type": "code",
   "execution_count": 51,
   "metadata": {},
   "outputs": [
    {
     "data": {
      "text/html": [
       "<pre style=\"white-space:pre;overflow-x:auto;line-height:normal;font-family:Menlo,'DejaVu Sans Mono',consolas,'Courier New',monospace\"><span style=\"color: #7fbfbf; text-decoration-color: #7fbfbf\">06-Feb-24 17:02:22 </span><span style=\"color: #800000; text-decoration-color: #800000\">WARNING </span> <span style=\"color: #008080; text-decoration-color: #008080; font-weight: bold\">06</span>-Feb-<span style=\"color: #008080; text-decoration-color: #008080; font-weight: bold\">24</span> <span style=\"color: #00ff00; text-decoration-color: #00ff00; font-weight: bold\">17:02:22</span>: UserWarning: Distributing <span style=\"font-weight: bold\">&lt;</span><span style=\"color: #ff00ff; text-decoration-color: #ff00ff; font-weight: bold\">class</span><span style=\"color: #000000; text-decoration-color: #000000\"> </span>                     <a href=\"file:///Users/zijin/micromamba/envs/psp_conjunction/lib/python3.11/site-packages/astropy/logger.py\" target=\"_blank\"><span style=\"color: #7f7f7f; text-decoration-color: #7f7f7f\">logger.py</span></a><span style=\"color: #7f7f7f; text-decoration-color: #7f7f7f\">:</span><a href=\"file:///Users/zijin/micromamba/envs/psp_conjunction/lib/python3.11/site-packages/astropy/logger.py#205\" target=\"_blank\"><span style=\"color: #7f7f7f; text-decoration-color: #7f7f7f\">205</span></a>\n",
       "<span style=\"color: #7fbfbf; text-decoration-color: #7fbfbf\">                   </span>         <span style=\"color: #008000; text-decoration-color: #008000\">'pandas.core.frame.DataFrame'</span><span style=\"font-weight: bold\">&gt;</span> object. This may take some time.           <span style=\"color: #7f7f7f; text-decoration-color: #7f7f7f\">             </span>\n",
       "<span style=\"color: #7fbfbf; text-decoration-color: #7fbfbf\">                   </span>                                                                                   <span style=\"color: #7f7f7f; text-decoration-color: #7f7f7f\">             </span>\n",
       "</pre>\n"
      ],
      "text/plain": [
       "\u001b[2;36m06-Feb-24 17:02:22\u001b[0m\u001b[2;36m \u001b[0m\u001b[31mWARNING \u001b[0m \u001b[1;36m06\u001b[0m-Feb-\u001b[1;36m24\u001b[0m \u001b[1;92m17:02:22\u001b[0m: UserWarning: Distributing \u001b[1m<\u001b[0m\u001b[1;95mclass\u001b[0m\u001b[39m \u001b[0m                     \u001b]8;id=35254;file:///Users/zijin/micromamba/envs/psp_conjunction/lib/python3.11/site-packages/astropy/logger.py\u001b\\\u001b[2mlogger.py\u001b[0m\u001b]8;;\u001b\\\u001b[2m:\u001b[0m\u001b]8;id=385671;file:///Users/zijin/micromamba/envs/psp_conjunction/lib/python3.11/site-packages/astropy/logger.py#205\u001b\\\u001b[2m205\u001b[0m\u001b]8;;\u001b\\\n",
       "\u001b[2;36m                   \u001b[0m         \u001b[32m'pandas.core.frame.DataFrame'\u001b[0m\u001b[1m>\u001b[0m object. This may take some time.           \u001b[2m             \u001b[0m\n",
       "\u001b[2;36m                   \u001b[0m                                                                                   \u001b[2m             \u001b[0m\n"
      ]
     },
     "metadata": {},
     "output_type": "display_data"
    },
    {
     "data": {
      "application/vnd.jupyter.widget-view+json": {
       "model_id": "5f58c3c4b2b7477ebb30d11eb5d3c2d6",
       "version_major": 2,
       "version_minor": 0
      },
      "text/plain": [
       "Distributing Dataframe:   0%           Elapsed time: 00:00, estimated remaining time: ?"
      ]
     },
     "metadata": {},
     "output_type": "display_data"
    },
    {
     "data": {
      "application/vnd.jupyter.widget-view+json": {
       "model_id": "6e2bb4a8343a41429234242277af1a11",
       "version_major": 2,
       "version_minor": 0
      },
      "text/plain": [
       "Estimated completion of line 36:   0%           Elapsed time: 00:00, estimated remaining time: ?"
      ]
     },
     "metadata": {},
     "output_type": "display_data"
    }
   ],
   "source": [
    "ts = timedelta(seconds=1 / 11)\n",
    "tau = timedelta(seconds=30)\n",
    "\n",
    "wind_vec_cols = [\"VX (GSM)\", \"VY (GSM)\", \"VZ (GSM)\"]\n",
    "\n",
    "\n",
    "wind_mag_data = Variables(\n",
    "    dataset=\"WI_H2_MFI\",\n",
    "    parameters=[\"BGSM\"],\n",
    "    timerange=validate(timerange_earth),\n",
    ").to_polars()\n",
    "\n",
    "wind_plasma_data = (\n",
    "    Variables(\n",
    "        dataset=\"WI_K0_SWE\",\n",
    "        parameters=[\"V_GSM\", \"Np\"],\n",
    "        timerange=validate(timerange_earth),\n",
    "    )\n",
    "    .to_polars()\n",
    "    .with_columns(plasma_speed=pl_norm(wind_vec_cols))\n",
    "    .rename(\n",
    "        {\n",
    "            \"Ion Np\": \"plasma_density\",\n",
    "        }\n",
    "    )\n",
    ")\n",
    "\n",
    "wind_ids_dataset = (\n",
    "    IDsDataset(\n",
    "        mag_data=wind_mag_data,\n",
    "        plasma_data=wind_plasma_data,\n",
    "        tau=tau,\n",
    "        ts=ts,\n",
    "        vec_cols=wind_vec_cols,\n",
    "    )\n",
    "    .find_events()\n",
    "    .update_candidates_with_plasma_data()\n",
    "    .export(\"../data/wind_ids_dataset_r.arrow\")\n",
    ")"
   ]
  }
 ],
 "metadata": {
  "kernelspec": {
   "display_name": "cool_planet",
   "language": "python",
   "name": "python3"
  },
  "language_info": {
   "codemirror_mode": {
    "name": "ipython",
    "version": 3
   },
   "file_extension": ".py",
   "mimetype": "text/x-python",
   "name": "python",
   "nbconvert_exporter": "python",
   "pygments_lexer": "ipython3",
   "version": "3.11.7"
  }
 },
 "nbformat": 4,
 "nbformat_minor": 2
}

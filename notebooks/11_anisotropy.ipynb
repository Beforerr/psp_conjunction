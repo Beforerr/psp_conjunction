{
 "cells": [
  {
   "cell_type": "markdown",
   "metadata": {},
   "source": [
    "# Anisotropy\n",
    "\n",
    "- PSP_SWP_SPI_SF00_L3_MOM\n",
    "    \n",
    "    - Notes: Partial moments of the Proton distribution function in the SPAN-Ion instrument, PSP spacecraft, and RTN coordinate systems. User should be aware that the full ion distribution is typically NOT in the FOV of the instrument.\n",
    "\n",
    "    - `T_TENSOR`  Partial Moment Temperature Tensor in instrument frame\n",
    "\n",
    "\n",
    "- WI_H0_SWE\n",
    "    \n",
    "    - `Te_anisotropy`\tTemperature anisotropy = Te_para / Te_perp\n",
    "\n",
    "- WI_PLSP_3DP\n",
    "    \n",
    "    - `MOM.P.MAGT3`\t---> [P.SYMM_MAGT3] Proton temperature tensor... rotated into a field-aligned coordinate basis and then taking the diagonal elements only\n",
    "\n",
    "- WI_ELM2_3DP : Wind 3dp, PESA Low (~24 sec resolution) energy spectra with ion moments \n",
    "    \n",
    "    - `MAGT3`\t---> [MAGT3] electron temperature tensor... rotated into a field-aligned coordinate basis and then taking the diagonal elements only\n",
    "\n",
    "- THB_L2_ESA\n",
    "\n",
    "    - `thb_peeb_magt3Q`\t-----Electron Temperature, Field Aligned (Tprp1FA, Tprp2FA, TparFA)\n",
    "\n",
    "    - `thb_peef_magt3Q`\t-----Electron Temperature, Field Aligned (Tprp1FA, Tprp2FA, TparFA)\n",
    "\n",
    "    - `thb_peif_magt3Q`\t-----Temperature, Field Aligned (TprpFA1, TprpFA2, TparFA)\n",
    "\n",
    "- THB_L2_MOM\n",
    "\t\n",
    "    - `thb_peem_ptens_magQ`\t-----Electron Pressure Tensor, Field Aligned\n",
    "\n",
    "    - `thb_peem_t3_magQ`\t-----Electron Temperature, Field Aligned (TprpFA1, TprpFA2, TparFA)\n",
    "\n",
    "    - `thb_peim_ptens_magQ`\t-----Ion Pressure Tensor, Field Aligned\n",
    "    \n",
    "    - `thb_peim_t3_magQ`\t-----Ion Temperature, Field Aligned (TprpFA1, TprpFA2, TparFA)"
   ]
  }
 ],
 "metadata": {
  "language_info": {
   "name": "python"
  }
 },
 "nbformat": 4,
 "nbformat_minor": 2
}

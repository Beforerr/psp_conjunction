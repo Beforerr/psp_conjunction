{
 "cells": [
  {
   "cell_type": "markdown",
   "metadata": {},
   "source": [
    "# Time of arrival"
   ],
   "id": "1aff823c-aa05-4f8f-8a41-2d38fd63b856"
  },
  {
   "cell_type": "code",
   "execution_count": 2,
   "metadata": {},
   "outputs": [],
   "source": [
    "from plasmapy.formulary import beta\n",
    "import astropy.units as u"
   ],
   "id": "cell-0"
  },
  {
   "cell_type": "code",
   "execution_count": 4,
   "metadata": {},
   "outputs": [
    {
     "output_type": "stream",
     "name": "stdout",
     "text": [
      "Coeficiente for beta at T=1K, n=1cm^-3, B=1nT:  3.469949406357831e-05\n",
      "Coeficiente for beta at T=1eV, n=1cm^-3, B=1nT:  0.402670907669414"
     ]
    }
   ],
   "source": [
    "c1 = beta(1*u.K, 1*u.cm**-3, 1*u.nT)\n",
    "c2 = beta(1*u.eV, 1*u.cm**-3, 1*u.nT)\n",
    "\n",
    "print(\"Coeficiente for beta at T=1K, n=1cm^-3, B=1nT: \", c1)\n",
    "print(\"Coeficiente for beta at T=1eV, n=1cm^-3, B=1nT: \", c2)"
   ],
   "id": "cell-1"
  },
  {
   "cell_type": "markdown",
   "metadata": {},
   "source": [
    "## Time of arrival"
   ],
   "id": "cell-2"
  },
  {
   "cell_type": "code",
   "execution_count": 13,
   "metadata": {},
   "outputs": [
    {
     "output_type": "stream",
     "name": "stdout",
     "text": [
      "Fast wind (800.0 km / s) to travel 1 AU : 2.1643210460069446 d\n",
      "Slow wind (300.0 km / s) to travel 1 AU : 5.771522789351852 d"
     ]
    }
   ],
   "source": [
    "r = 1 * u.AU\n",
    "v_fast = 800*u.km/u.s\n",
    "v_slow = 300*u.km/u.s\n",
    "\n",
    "t_min = r/v_fast\n",
    "t_max = r/v_slow\n",
    "\n",
    "\n",
    "print(f'Fast wind ({v_fast}) to travel 1 AU : {t_min.to(u.day)}')\n",
    "print(f'Slow wind ({v_slow}) to travel 1 AU : {t_max.to(u.day)}')"
   ],
   "id": "cell-3"
  }
 ],
 "nbformat": 4,
 "nbformat_minor": 5,
 "metadata": {}
}

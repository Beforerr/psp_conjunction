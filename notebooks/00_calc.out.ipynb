{
  "cells": [
    {
      "cell_type": "markdown",
      "metadata": {},
      "source": [
        "#"
      ],
      "id": "ae3dc494-f652-4694-b49d-d9aa6e52799b"
    },
    {
      "cell_type": "code",
      "execution_count": 2,
      "metadata": {},
      "outputs": [],
      "source": [
        "from plasmapy.formulary.dimensionless import beta"
      ],
      "id": "cell-0"
    },
    {
      "cell_type": "code",
      "execution_count": 3,
      "metadata": {},
      "outputs": [],
      "source": [
        "import astropy.units as u\n",
        "\n",
        "beta(1*u.K, 1*u.cm**-3, 1*u.nT)\n",
        "\n",
        "beta(1*u.eV, 1*u.cm**-3, 1*u.nT)"
      ],
      "id": "cell-1"
    },
    {
      "cell_type": "code",
      "execution_count": 6,
      "metadata": {},
      "outputs": [
        {
          "output_type": "stream",
          "name": "stdout",
          "text": [
            "1.0821605230034723 d\n",
            "2.885761394675926 d"
          ]
        }
      ],
      "source": [
        "r = 0.5*u.AU\n",
        "v_fast = 800*u.km/u.s\n",
        "v_slow = 300*u.km/u.s\n",
        "\n",
        "t_min = r/v_fast\n",
        "t_max = r/v_slow\n",
        "\n",
        "print(t_min.to(u.day))\n",
        "print(t_max.to(u.day))"
      ],
      "id": "cell-2"
    }
  ],
  "nbformat": 4,
  "nbformat_minor": 5,
  "metadata": {
    "kernelspec": {
      "name": "python3",
      "display_name": "Python 3",
      "language": "python"
    },
    "language_info": {
      "name": "python",
      "codemirror_mode": {
        "name": "ipython",
        "version": "3"
      },
      "file_extension": ".py",
      "mimetype": "text/x-python",
      "nbconvert_exporter": "python",
      "pygments_lexer": "ipython3",
      "version": "3.10.12"
    }
  }
}
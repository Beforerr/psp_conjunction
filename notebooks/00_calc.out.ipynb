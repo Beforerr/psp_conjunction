{
 "cells": [
  {
   "cell_type": "markdown",
   "metadata": {},
   "source": [
    "#"
   ],
   "id": "e053940d-20b4-4917-91a4-33259f6198d8"
  },
  {
   "cell_type": "code",
   "execution_count": 2,
   "metadata": {},
   "outputs": [],
   "source": [
    "from plasmapy.formulary.dimensionless import beta"
   ],
   "id": "cell-0"
  },
  {
   "cell_type": "code",
   "execution_count": 3,
   "metadata": {},
   "outputs": [],
   "source": [
    "import astropy.units as u\n",
    "\n",
    "beta(1*u.K, 1*u.cm**-3, 1*u.nT)\n",
    "\n",
    "beta(1*u.eV, 1*u.cm**-3, 1*u.nT)"
   ],
   "id": "cell-1"
  },
  {
   "cell_type": "code",
   "execution_count": 6,
   "metadata": {},
   "outputs": [
    {
     "output_type": "stream",
     "name": "stdout",
     "text": [
      "1.0821605230034723 d\n",
      "2.885761394675926 d"
     ]
    }
   ],
   "source": [
    "r = 0.5*u.AU\n",
    "v_fast = 800*u.km/u.s\n",
    "v_slow = 300*u.km/u.s\n",
    "\n",
    "t_min = r/v_fast\n",
    "t_max = r/v_slow\n",
    "\n",
    "print(t_min.to(u.day))\n",
    "print(t_max.to(u.day))"
   ],
   "id": "cell-2"
  }
 ],
 "nbformat": 4,
 "nbformat_minor": 5,
 "metadata": {}
}

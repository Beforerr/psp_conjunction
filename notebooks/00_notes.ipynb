{
 "cells": [
  {
   "cell_type": "markdown",
   "metadata": {},
   "source": [
    "---\n",
    "title: Notes\n",
    "---"
   ]
  },
  {
   "cell_type": "markdown",
   "metadata": {},
   "source": [
    "## Estimation"
   ]
  },
  {
   "cell_type": "code",
   "execution_count": null,
   "metadata": {},
   "outputs": [],
   "source": [
    "from plasmapy.formulary import beta\n",
    "import astropy.units as u"
   ]
  },
  {
   "cell_type": "code",
   "execution_count": null,
   "metadata": {},
   "outputs": [
    {
     "name": "stdout",
     "output_type": "stream",
     "text": [
      "Coeficiente for beta at T=1K, n=1cm^-3, B=1nT:  3.469949406357831e-05\n",
      "Coeficiente for beta at T=1eV, n=1cm^-3, B=1nT:  0.402670907669414\n"
     ]
    }
   ],
   "source": [
    "c1 = beta(1 * u.K, 1 * u.cm**-3, 1 * u.nT)\n",
    "c2 = beta(1 * u.eV, 1 * u.cm**-3, 1 * u.nT)\n",
    "\n",
    "print(\"Coeficiente for beta at T=1K, n=1cm^-3, B=1nT: \", c1)\n",
    "print(\"Coeficiente for beta at T=1eV, n=1cm^-3, B=1nT: \", c2)"
   ]
  },
  {
   "cell_type": "markdown",
   "metadata": {},
   "source": [
    "## Time of arrival"
   ]
  },
  {
   "cell_type": "code",
   "execution_count": null,
   "metadata": {},
   "outputs": [
    {
     "name": "stdout",
     "output_type": "stream",
     "text": [
      "Fast wind (800.0 km / s) to travel 1 AU : 2.1643210460069446 d\n",
      "Slow wind (300.0 km / s) to travel 1 AU : 5.771522789351852 d\n"
     ]
    }
   ],
   "source": [
    "r = 1 * u.AU\n",
    "v_fast = 800 * u.km / u.s\n",
    "v_slow = 300 * u.km / u.s\n",
    "\n",
    "t_min = r / v_fast\n",
    "t_max = r / v_slow\n",
    "\n",
    "\n",
    "print(f\"Fast wind ({v_fast}) to travel 1 AU : {t_min.to(u.day)}\")\n",
    "print(f\"Slow wind ({v_slow}) to travel 1 AU : {t_max.to(u.day)}\")"
   ]
  },
  {
   "cell_type": "markdown",
   "metadata": {},
   "source": [
    "# Anisotropy\n",
    "\n",
    "- PSP_SWP_SPI_SF00_L3_MOM\n",
    "    \n",
    "    - Notes: Partial moments of the Proton distribution function in the SPAN-Ion instrument, PSP spacecraft, and RTN coordinate systems. User should be aware that the full ion distribution is typically NOT in the FOV of the instrument.\n",
    "\n",
    "    - `T_TENSOR`  Partial Moment Temperature Tensor in instrument frame\n",
    "\n",
    "\n",
    "- WI_H0_SWE\n",
    "    \n",
    "    - `Te_anisotropy`\tTemperature anisotropy = Te_para / Te_perp\n",
    "\n",
    "- WI_PLSP_3DP\n",
    "    \n",
    "    - `MOM.P.MAGT3`\t---> [P.SYMM_MAGT3] Proton temperature tensor... rotated into a field-aligned coordinate basis and then taking the diagonal elements only\n",
    "\n",
    "- WI_ELM2_3DP : Wind 3dp, PESA Low (~24 sec resolution) energy spectra with ion moments \n",
    "    \n",
    "    - `MAGT3`\t---> [MAGT3] electron temperature tensor... rotated into a field-aligned coordinate basis and then taking the diagonal elements only\n",
    "\n",
    "- THB_L2_ESA\n",
    "\n",
    "    - `thb_peeb_magt3Q`\t-----Electron Temperature, Field Aligned (Tprp1FA, Tprp2FA, TparFA)\n",
    "\n",
    "    - `thb_peef_magt3Q`\t-----Electron Temperature, Field Aligned (Tprp1FA, Tprp2FA, TparFA)\n",
    "\n",
    "    - `thb_peif_magt3Q`\t-----Temperature, Field Aligned (TprpFA1, TprpFA2, TparFA)\n",
    "\n",
    "- THB_L2_MOM\n",
    "\t\n",
    "    - `thb_peem_ptens_magQ`\t-----Electron Pressure Tensor, Field Aligned\n",
    "\n",
    "    - `thb_peem_t3_magQ`\t-----Electron Temperature, Field Aligned (TprpFA1, TprpFA2, TparFA)\n",
    "\n",
    "    - `thb_peim_ptens_magQ`\t-----Ion Pressure Tensor, Field Aligned\n",
    "    \n",
    "    - `thb_peim_t3_magQ`\t-----Ion Temperature, Field Aligned (TprpFA1, TprpFA2, TparFA)"
   ]
  }
 ],
 "metadata": {
  "kernelspec": {
   "display_name": "cool_planet",
   "language": "python",
   "name": "python3"
  },
  "language_info": {
   "codemirror_mode": {
    "name": "ipython",
    "version": 3
   },
   "file_extension": ".py",
   "mimetype": "text/x-python",
   "name": "python",
   "nbconvert_exporter": "python",
   "pygments_lexer": "ipython3",
   "version": "3.11.9"
  }
 },
 "nbformat": 4,
 "nbformat_minor": 2
}

{
 "cells": [
  {
   "cell_type": "markdown",
   "metadata": {},
   "source": [
    "# Parker Solar Probe data"
   ]
  },
  {
   "cell_type": "markdown",
   "metadata": {},
   "source": [
    "The parameters are:\n",
    "\n",
    "- 'psp_fld_l2_mag_RTN_4_Sa_per_Cyc' (B in RTN, 0.25s resolution)\n",
    "- 'psp_swp_spi_sf00_L3_DENS' (Ion density, regular resolution)\n",
    "- 'psp_swp_spi_af00_L3_DENS' (Ion density, burst resolution)\n",
    "- 'psp_swp_spi_sf00_L3_VEL_RTN_SUN' (velocity in RTN in Sun's frame, regular resolution)\n",
    "- 'psp_swp_spi_af00_L3_VEL_RTN_SUN' (velocity in RTN in Sun's frame, burst resolution)\n",
    "- 'psp_swp_spi_sf00_L3_VEL_RTN' (velocity in RTN in spacecraft frame, regular resolution, you need this to calculate current sheet thickness)\n",
    "- 'psp_swp_spi_af00_L3_VEL_RTN' (velocity in RTN in spacecraft frame, burst resolution, you need this to calculate current sheet thickness)\n",
    "- 'Tp_spani_b' (Ion parallel and perpendicular ion temperature, regular resolution. Blue (first element in array): parallel, Red: perp)\n",
    "- 'Tp_spanib_b' (Ion parallel and perpendicular ion temperature, burst resolution. Blue (first element in array): parallel, Red: perp)"
   ]
  },
  {
   "cell_type": "code",
   "execution_count": 4,
   "metadata": {},
   "outputs": [],
   "source": [
    "%load_ext autoreload\n",
    "%autoreload 2"
   ]
  },
  {
   "cell_type": "code",
   "execution_count": 5,
   "metadata": {},
   "outputs": [],
   "source": [
    "from psp.config.psp import PSPConfig\n",
    "from utils.temp import calc_pressure_anisotropy"
   ]
  },
  {
   "cell_type": "code",
   "execution_count": 1,
   "metadata": {},
   "outputs": [
    {
     "ename": "NameError",
     "evalue": "name 'IDsDataset' is not defined",
     "output_type": "error",
     "traceback": [
      "\u001b[0;31m---------------------------------------------------------------------------\u001b[0m",
      "\u001b[0;31mNameError\u001b[0m                                 Traceback (most recent call last)",
      "Cell \u001b[0;32mIn[1], line 1\u001b[0m\n\u001b[0;32m----> 1\u001b[0m ids_dataset \u001b[38;5;241m=\u001b[39m \u001b[43mIDsDataset\u001b[49m(\n\u001b[1;32m      2\u001b[0m     mag_data\u001b[38;5;241m=\u001b[39mmag_data,\n\u001b[1;32m      3\u001b[0m     ts\u001b[38;5;241m=\u001b[39mts,\n\u001b[1;32m      4\u001b[0m )\n\u001b[1;32m      5\u001b[0m ids_dataset\u001b[38;5;241m.\u001b[39mfind_events()\u001b[38;5;241m.\u001b[39mupdate_events()\n\u001b[1;32m      7\u001b[0m ids_dataset\u001b[38;5;241m.\u001b[39mevents \u001b[38;5;241m=\u001b[39m ids_dataset\u001b[38;5;241m.\u001b[39mevents\u001b[38;5;241m.\u001b[39mpipe(calc_pressure_anisotropy)\n",
      "\u001b[0;31mNameError\u001b[0m: name 'IDsDataset' is not defined"
     ]
    }
   ],
   "source": [
    "ids_dataset = IDsDataset(\n",
    "    mag_data=mag_data,\n",
    "    ts=ts,\n",
    ")\n",
    "ids_dataset.find_events().update_events()\n",
    "\n",
    "ids_dataset.events = ids_dataset.events.pipe(calc_pressure_anisotropy)"
   ]
  },
  {
   "cell_type": "code",
   "execution_count": null,
   "metadata": {},
   "outputs": [],
   "source": [
    "path = f\"../data/enc{enc}/events.PSP.arrow\"\n",
    "ids_dataset.export(path)"
   ]
  },
  {
   "cell_type": "markdown",
   "metadata": {},
   "source": [
    "ids_dataset"
   ]
  }
 ],
 "metadata": {
  "kernelspec": {
   "display_name": "Python 3",
   "language": "python",
   "name": "python3"
  },
  "language_info": {
   "codemirror_mode": {
    "name": "ipython",
    "version": 3
   },
   "file_extension": ".py",
   "mimetype": "text/x-python",
   "name": "python",
   "nbconvert_exporter": "python",
   "pygments_lexer": "ipython3",
   "version": "3.11.9"
  }
 },
 "nbformat": 4,
 "nbformat_minor": 2
}

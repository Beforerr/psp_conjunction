{
 "cells": [
  {
   "cell_type": "markdown",
   "metadata": {},
   "source": [
    "# Parker Solar Probe data"
   ]
  },
  {
   "cell_type": "markdown",
   "metadata": {},
   "source": [
    "The parameters are:\n",
    "\n",
    "- 'psp_fld_l2_mag_RTN_4_Sa_per_Cyc' (B in RTN, 0.25s resolution)\n",
    "- 'psp_swp_spi_sf00_L3_DENS' (Ion density, regular resolution)\n",
    "- 'psp_swp_spi_af00_L3_DENS' (Ion density, burst resolution)\n",
    "- 'psp_swp_spi_sf00_L3_VEL_RTN_SUN' (velocity in RTN in Sun's frame, regular resolution)\n",
    "- 'psp_swp_spi_af00_L3_VEL_RTN_SUN' (velocity in RTN in Sun's frame, burst resolution)\n",
    "- 'psp_swp_spi_sf00_L3_VEL_RTN' (velocity in RTN in spacecraft frame, regular resolution, you need this to calculate current sheet thickness)\n",
    "- 'psp_swp_spi_af00_L3_VEL_RTN' (velocity in RTN in spacecraft frame, burst resolution, you need this to calculate current sheet thickness)\n",
    "- 'Tp_spani_b' (Ion parallel and perpendicular ion temperature, regular resolution. Blue (first element in array): parallel, Red: perp)\n",
    "- 'Tp_spanib_b' (Ion parallel and perpendicular ion temperature, burst resolution. Blue (first element in array): parallel, Red: perp)"
   ]
  },
  {
   "cell_type": "code",
   "execution_count": 1,
   "metadata": {},
   "outputs": [],
   "source": [
    "%load_ext autoreload\n",
    "%autoreload 2"
   ]
  },
  {
   "cell_type": "code",
   "execution_count": 2,
   "metadata": {},
   "outputs": [],
   "source": [
    "from psp.io import get_data_lf\n",
    "from psp.io.psp import load_psp_data\n",
    "from psp.io.psp import PSP_MAG_TNAME, PSP_DEN_TNAME, PSP_VEL_TNAME, PSP_TEMP_TNAME"
   ]
  },
  {
   "cell_type": "code",
   "execution_count": 3,
   "metadata": {},
   "outputs": [],
   "source": [
    "from discontinuitypy.datasets import IDsDataset\n",
    "from space_analysis.meta import PlasmaDataset\n",
    "import numpy as np\n",
    "from utils.temp import calc_pressure_anisotropy"
   ]
  },
  {
   "cell_type": "code",
   "execution_count": 4,
   "metadata": {},
   "outputs": [],
   "source": [
    "enc = 7\n",
    "tau = 16\n",
    "name = \"psp\""
   ]
  },
  {
   "cell_type": "code",
   "execution_count": 5,
   "metadata": {},
   "outputs": [
    {
     "name": "stdout",
     "output_type": "stream",
     "text": [
      "0 : psp_fld_l2_mag_RTN_4_Sa_per_Cyc\n",
      "1 : psp_swp_spi_sf00_L3_DENS\n",
      "2 : psp_swp_spi_sf00_L3_VEL_RTN_SUN\n",
      "3 : psp_swp_spi_sf00_L3_VEL_RTN\n",
      "4 : psp_swp_spi_af00_L3_DENS\n",
      "5 : psp_swp_spi_af00_L3_VEL_RTN_SUN\n",
      "6 : psp_swp_spi_af00_L3_VEL_RTN\n",
      "7 : Tp_spani_b\n",
      "8 : Tp_spanib_b\n"
     ]
    },
    {
     "data": {
      "text/plain": [
       "['psp_fld_l2_mag_RTN_4_Sa_per_Cyc',\n",
       " 'psp_swp_spi_sf00_L3_DENS',\n",
       " 'psp_swp_spi_sf00_L3_VEL_RTN_SUN',\n",
       " 'psp_swp_spi_sf00_L3_VEL_RTN',\n",
       " 'psp_swp_spi_af00_L3_DENS',\n",
       " 'psp_swp_spi_af00_L3_VEL_RTN_SUN',\n",
       " 'psp_swp_spi_af00_L3_VEL_RTN',\n",
       " 'Tp_spani_b',\n",
       " 'Tp_spanib_b']"
      ]
     },
     "execution_count": 5,
     "metadata": {},
     "output_type": "execute_result"
    }
   ],
   "source": [
    "load_psp_data(enc=enc)"
   ]
  },
  {
   "cell_type": "code",
   "execution_count": 6,
   "metadata": {},
   "outputs": [],
   "source": [
    "density_col = \"plasma_density\"\n",
    "velocity_cols = [\"v_R\", \"v_T\", \"v_N\"]\n",
    "\n",
    "mag_data = get_data_lf(PSP_MAG_TNAME)\n",
    "density_data = get_data_lf(PSP_DEN_TNAME).rename({\"0\": density_col})\n",
    "velocity_data = get_data_lf(PSP_VEL_TNAME).rename({\"0\": \"v_R\", \"1\": \"v_T\", \"2\": \"v_N\"})\n",
    "ion_temp_data = get_data_lf(PSP_TEMP_TNAME).rename(\n",
    "    {\"0\": \"ion_temp_para\", \"1\": \"ion_temp_perp\"}\n",
    ")\n",
    "\n",
    "plasma_data = density_data.join(velocity_data, on=\"time\")\n",
    "\n",
    "plasma_meta = PlasmaDataset(\n",
    "    density_col=density_col,\n",
    "    velocity_cols=velocity_cols,\n",
    ")"
   ]
  },
  {
   "cell_type": "code",
   "execution_count": 8,
   "metadata": {},
   "outputs": [],
   "source": [
    "time = mag_data.collect().get_column(\"time\").to_numpy()\n",
    "ts = np.median(np.diff(time)).item()"
   ]
  },
  {
   "cell_type": "code",
   "execution_count": 15,
   "metadata": {},
   "outputs": [],
   "source": [
    "def remove(list: list, item):\n",
    "    temp_list = list.copy()\n",
    "    temp_list.remove(item)\n",
    "    return temp_list"
   ]
  },
  {
   "cell_type": "code",
   "execution_count": 21,
   "metadata": {},
   "outputs": [
    {
     "name": "stderr",
     "output_type": "stream",
     "text": [
      "04-Jul-24 06:06:54: DeprecationWarning: invalid escape sequence '\\m'\n",
      "\n",
      "04-Jul-24 06:06:54: DeprecationWarning: invalid escape sequence '\\c'\n",
      "\n",
      "04-Jul-24 06:06:54: DeprecationWarning: invalid escape sequence '\\S'\n",
      "\n",
      "04-Jul-24 06:06:54: PydanticDeprecatedSince20: Support for class-based `config` is deprecated, use ConfigDict instead. Deprecated in Pydantic V2.0 to be removed in V3.0. See Pydantic V2 Migration Guide at https://errors.pydantic.dev/2.7/migration/\n",
      "\n",
      "04-Jul-24 06:06:55: UserWarning: Converting non-nanosecond precision datetime values to nanosecond precision. This behavior can eventually be relaxed in xarray, as it is an artifact from pandas which is now beginning to support non-nanosecond precision values. This warning is caused by passing non-nanosecond np.datetime64 or np.timedelta64 values to the DataArray or Variable constructor; it can be silenced by converting the values to nanosecond precision ahead of time.\n",
      "\n"
     ]
    },
    {
     "data": {
      "application/vnd.jupyter.widget-view+json": {
       "model_id": "729600c3cbdb4fcfa1204a4ff211f90c",
       "version_major": 2,
       "version_minor": 0
      },
      "text/plain": [
       "Distributing Dataframe:   0%           Elapsed time: 00:00, estimated remaining time: ?"
      ]
     },
     "metadata": {},
     "output_type": "display_data"
    },
    {
     "name": "stderr",
     "output_type": "stream",
     "text": [
      "04-Jul-24 06:06:55: Using sequential splitting in '.from_pandas()' because of some of the conditions are False: enough_elements=False; all_numeric_types=False; async_mode_on=False\n"
     ]
    },
    {
     "data": {
      "application/vnd.jupyter.widget-view+json": {
       "model_id": "963285939a424fc1824dca89e7443bd5",
       "version_major": 2,
       "version_minor": 0
      },
      "text/plain": [
       "Estimated completion of line 15:   0%           Elapsed time: 00:00, estimated remaining time: ?"
      ]
     },
     "metadata": {},
     "output_type": "display_data"
    },
    {
     "data": {
      "application/vnd.jupyter.widget-view+json": {
       "model_id": "8ebfa4ee6ead45d9a7196d076578ef36",
       "version_major": 2,
       "version_minor": 0
      },
      "text/plain": [
       "Distributing Dataframe:   0%           Elapsed time: 00:00, estimated remaining time: ?"
      ]
     },
     "metadata": {},
     "output_type": "display_data"
    },
    {
     "name": "stderr",
     "output_type": "stream",
     "text": [
      "04-Jul-24 06:06:59: Using sequential splitting in '.from_pandas()' because of some of the conditions are False: enough_elements=False; all_numeric_types=False; async_mode_on=False\n"
     ]
    },
    {
     "data": {
      "application/vnd.jupyter.widget-view+json": {
       "model_id": "dfde21d8594d493f88e31281107839ea",
       "version_major": 2,
       "version_minor": 0
      },
      "text/plain": [
       "Distributing Dataframe:   0%           Elapsed time: 00:00, estimated remaining time: ?"
      ]
     },
     "metadata": {},
     "output_type": "display_data"
    },
    {
     "name": "stderr",
     "output_type": "stream",
     "text": [
      "04-Jul-24 06:06:59: Using sequential splitting in '.from_pandas()' because of some of the conditions are False: enough_elements=False; all_numeric_types=True; async_mode_on=False\n"
     ]
    },
    {
     "data": {
      "application/vnd.jupyter.widget-view+json": {
       "model_id": "97c6aaf43c2c469fbf7dc555606b6916",
       "version_major": 2,
       "version_minor": 0
      },
      "text/plain": [
       "Distributing Dataframe:   0%           Elapsed time: 00:00, estimated remaining time: ?"
      ]
     },
     "metadata": {},
     "output_type": "display_data"
    },
    {
     "name": "stderr",
     "output_type": "stream",
     "text": [
      "04-Jul-24 06:06:59: Using sequential splitting in '.from_pandas()' because of some of the conditions are False: enough_elements=False; all_numeric_types=False; async_mode_on=False\n",
      "04-Jul-24 06:07:00: UserWarning: Converting non-nanosecond precision datetime values to nanosecond precision. This behavior can eventually be relaxed in xarray, as it is an artifact from pandas which is now beginning to support non-nanosecond precision values. This warning is caused by passing non-nanosecond np.datetime64 or np.timedelta64 values to the DataArray or Variable constructor; it can be silenced by converting the values to nanosecond precision ahead of time.\n",
      "\n",
      "04-Jul-24 06:07:00: UserWarning: Converting non-nanosecond precision datetime values to nanosecond precision. This behavior can eventually be relaxed in xarray, as it is an artifact from pandas which is now beginning to support non-nanosecond precision values. This warning is caused by passing non-nanosecond np.datetime64 or np.timedelta64 values to the DataArray or Variable constructor; it can be silenced by converting the values to nanosecond precision ahead of time.\n",
      "\n",
      "04-Jul-24 06:07:00: PendingDeprecationWarning: The `dims` argument has been renamed to `dim`, and will be removed in the future. This renaming is taking place throughout xarray over the next few releases.\n",
      "\n",
      "04-Jul-24 06:07:00: UserWarning: Converting non-nanosecond precision datetime values to nanosecond precision. This behavior can eventually be relaxed in xarray, as it is an artifact from pandas which is now beginning to support non-nanosecond precision values. This warning is caused by passing non-nanosecond np.datetime64 or np.timedelta64 values to the DataArray or Variable constructor; it can be silenced by converting the values to nanosecond precision ahead of time.\n",
      "\n",
      "04-Jul-24 06:07:00: UserWarning: Converting non-nanosecond precision datetime values to nanosecond precision. This behavior can eventually be relaxed in xarray, as it is an artifact from pandas which is now beginning to support non-nanosecond precision values. This warning is caused by passing non-nanosecond np.datetime64 or np.timedelta64 values to the DataArray or Variable constructor; it can be silenced by converting the values to nanosecond precision ahead of time.\n",
      "\n",
      "04-Jul-24 06:07:00: PendingDeprecationWarning: The `dims` argument has been renamed to `dim`, and will be removed in the future. This renaming is taking place throughout xarray over the next few releases.\n",
      "\n",
      "04-Jul-24 06:07:00: UserWarning: Converting non-nanosecond precision datetime values to nanosecond precision. This behavior can eventually be relaxed in xarray, as it is an artifact from pandas which is now beginning to support non-nanosecond precision values. This warning is caused by passing non-nanosecond np.datetime64 or np.timedelta64 values to the DataArray or Variable constructor; it can be silenced by converting the values to nanosecond precision ahead of time.\n",
      "\n",
      "04-Jul-24 06:07:00: UserWarning: Converting non-nanosecond precision datetime values to nanosecond precision. This behavior can eventually be relaxed in xarray, as it is an artifact from pandas which is now beginning to support non-nanosecond precision values. This warning is caused by passing non-nanosecond np.datetime64 or np.timedelta64 values to the DataArray or Variable constructor; it can be silenced by converting the values to nanosecond precision ahead of time.\n",
      "\n",
      "04-Jul-24 06:07:00: PendingDeprecationWarning: The `dims` argument has been renamed to `dim`, and will be removed in the future. This renaming is taking place throughout xarray over the next few releases.\n",
      "\n",
      "04-Jul-24 06:07:00: UserWarning: Converting non-nanosecond precision datetime values to nanosecond precision. This behavior can eventually be relaxed in xarray, as it is an artifact from pandas which is now beginning to support non-nanosecond precision values. This warning is caused by passing non-nanosecond np.datetime64 or np.timedelta64 values to the DataArray or Variable constructor; it can be silenced by converting the values to nanosecond precision ahead of time.\n",
      "\n",
      "04-Jul-24 06:07:00: UserWarning: Converting non-nanosecond precision datetime values to nanosecond precision. This behavior can eventually be relaxed in xarray, as it is an artifact from pandas which is now beginning to support non-nanosecond precision values. This warning is caused by passing non-nanosecond np.datetime64 or np.timedelta64 values to the DataArray or Variable constructor; it can be silenced by converting the values to nanosecond precision ahead of time.\n",
      "\n",
      "04-Jul-24 06:07:00: PendingDeprecationWarning: The `dims` argument has been renamed to `dim`, and will be removed in the future. This renaming is taking place throughout xarray over the next few releases.\n",
      "\n",
      "04-Jul-24 06:07:00: UserWarning: Converting non-nanosecond precision datetime values to nanosecond precision. This behavior can eventually be relaxed in xarray, as it is an artifact from pandas which is now beginning to support non-nanosecond precision values. This warning is caused by passing non-nanosecond np.datetime64 or np.timedelta64 values to the DataArray or Variable constructor; it can be silenced by converting the values to nanosecond precision ahead of time.\n",
      "\n",
      "04-Jul-24 06:07:00: UserWarning: Converting non-nanosecond precision datetime values to nanosecond precision. This behavior can eventually be relaxed in xarray, as it is an artifact from pandas which is now beginning to support non-nanosecond precision values. This warning is caused by passing non-nanosecond np.datetime64 or np.timedelta64 values to the DataArray or Variable constructor; it can be silenced by converting the values to nanosecond precision ahead of time.\n",
      "\n",
      "04-Jul-24 06:07:00: PendingDeprecationWarning: The `dims` argument has been renamed to `dim`, and will be removed in the future. This renaming is taking place throughout xarray over the next few releases.\n",
      "\n",
      "\u001b[32m2024-07-04 06:07:00.571\u001b[0m | \u001b[1mINFO    \u001b[0m | \u001b[36mdiscontinuitypy.datasets\u001b[0m:\u001b[36mupdate_events_with_temp_data\u001b[0m:\u001b[36m176\u001b[0m - \u001b[1mElectron temperature data is not available.\u001b[0m\n",
      "\u001b[32m2024-07-04 06:07:00.573\u001b[0m | \u001b[1mINFO    \u001b[0m | \u001b[36mutils.temp\u001b[0m:\u001b[36mcalc_pressure_anisotropy\u001b[0m:\u001b[36m41\u001b[0m - \u001b[1mElectron temperature columns not found\u001b[0m\n"
     ]
    }
   ],
   "source": [
    "from space_analysis.meta import MagDataset\n",
    "\n",
    "mag_meta = MagDataset(B_cols=remove(mag_data.columns, \"time\"))\n",
    "\n",
    "ids_dataset = IDsDataset(\n",
    "    name=name,\n",
    "    mag_data=mag_data,\n",
    "    mag_meta=mag_meta,\n",
    "    tau=tau,\n",
    "    ts=ts,\n",
    "    ion_temp_data=ion_temp_data,\n",
    "    plasma_data=plasma_data,\n",
    "    plasma_meta=plasma_meta,\n",
    ")\n",
    "ids_dataset.find_events().update_events()\n",
    "\n",
    "ids_dataset.events = ids_dataset.events.pipe(calc_pressure_anisotropy)"
   ]
  },
  {
   "cell_type": "code",
   "execution_count": null,
   "metadata": {},
   "outputs": [],
   "source": [
    "path = f\"../data/enc{enc}/events.PSP.arrow\"\n",
    "ids_dataset.export(path)"
   ]
  },
  {
   "cell_type": "markdown",
   "metadata": {},
   "source": [
    "ids_dataset"
   ]
  }
 ],
 "metadata": {
  "kernelspec": {
   "display_name": "Python 3",
   "language": "python",
   "name": "python3"
  },
  "language_info": {
   "codemirror_mode": {
    "name": "ipython",
    "version": 3
   },
   "file_extension": ".py",
   "mimetype": "text/x-python",
   "name": "python",
   "nbconvert_exporter": "python",
   "pygments_lexer": "ipython3",
   "version": "3.11.9"
  }
 },
 "nbformat": 4,
 "nbformat_minor": 2
}

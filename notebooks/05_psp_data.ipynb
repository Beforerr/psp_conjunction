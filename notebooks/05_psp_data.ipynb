{
 "cells": [
  {
   "cell_type": "code",
   "execution_count": null,
   "metadata": {},
   "outputs": [],
   "source": [
    "from pytplot import tplot_restore, tplot_names, tplot, get_data\n",
    "from discontinuitypy import IDsDataset\n",
    "from space_analysis.ds.meta import Meta, PlasmaMeta, TempMeta\n",
    "import polars as pl\n",
    "import numpy as np"
   ]
  },
  {
   "cell_type": "code",
   "execution_count": null,
   "metadata": {},
   "outputs": [],
   "source": [
    "enc = 7\n",
    "tau = 16\n",
    "name = 'psp'"
   ]
  },
  {
   "cell_type": "code",
   "execution_count": null,
   "metadata": {},
   "outputs": [],
   "source": [
    "file_name = f\"../data/psp_e{enc:02}.tplot\"\n",
    "\n",
    "tplot_restore(file_name)\n",
    "# sav_data = readsav(file_name, python_dict=True, verbose=True)\n",
    "# print(sav_data.keys())"
   ]
  },
  {
   "cell_type": "code",
   "execution_count": null,
   "metadata": {},
   "outputs": [],
   "source": [
    "tnames = tplot_names()"
   ]
  },
  {
   "cell_type": "code",
   "execution_count": null,
   "metadata": {},
   "outputs": [],
   "source": [
    "def get_data_lf(name):\n",
    "    da = get_data(name, xarray=True)\n",
    "    df = da.to_pandas().reset_index()\n",
    "    return pl.LazyFrame(df).with_columns(\n",
    "        pl.col(\"time\").dt.cast_time_unit('us'),\n",
    "    )\n",
    "\n",
    "density_col = 'plasma_density'\n",
    "velocity_cols = ['v_R', 'v_T', 'v_N']\n",
    "\n",
    "mag_data = get_data_lf('psp_fld_l2_mag_RTN_4_Sa_per_Cyc')\n",
    "density_data = get_data_lf('psp_swp_spi_sf00_L3_DENS').rename({'0': density_col})\n",
    "velocity_data = get_data_lf('psp_swp_spi_sf00_L3_VEL_RTN').rename({'0': 'v_R', '1': 'v_T', '2': 'v_N'}) # velocity in RTN in spacecraft frame, regular resolution, you need this to calculate current sheet thickness\n",
    "ion_temp_data = get_data_lf('Tp_spani_b').rename({'0': 'ion_temp_para', '1': 'ion_temp_perp'})\n",
    "\n",
    "plasma_data = density_data.join(velocity_data, on='time')\n",
    "\n",
    "plasma_meta = PlasmaMeta(\n",
    "    density_col=density_col,\n",
    "    velocity_cols=velocity_cols,\n",
    ")"
   ]
  },
  {
   "cell_type": "code",
   "execution_count": null,
   "metadata": {},
   "outputs": [],
   "source": [
    "time = mag_data.collect().get_column(\"time\").to_numpy()\n",
    "ts = np.median(np.diff(time)).item()"
   ]
  },
  {
   "cell_type": "code",
   "execution_count": null,
   "metadata": {},
   "outputs": [],
   "source": [
    "from utils.temp import calc_pressure_anisotropy"
   ]
  },
  {
   "cell_type": "code",
   "execution_count": null,
   "metadata": {},
   "outputs": [],
   "source": [
    "ids_dataset = IDsDataset(\n",
    "    name=name,\n",
    "    mag_data=mag_data,\n",
    "    tau=tau,\n",
    "    ts=ts,\n",
    "    ion_temp_data = ion_temp_data,\n",
    "    plasma_data=plasma_data,\n",
    "    plasma_meta=plasma_meta\n",
    "    \n",
    ")\n",
    "ids_dataset.find_events().update_events()\n",
    "\n",
    "ids_dataset.events = ids_dataset.events.pipe(calc_pressure_anisotropy)"
   ]
  },
  {
   "cell_type": "code",
   "execution_count": null,
   "metadata": {},
   "outputs": [],
   "source": [
    "path = f\"../data/enc{enc}/events.PSP.arrow\"\n",
    "ids_dataset.export(path)"
   ]
  },
  {
   "cell_type": "code",
   "execution_count": null,
   "metadata": {},
   "outputs": [],
   "source": [
    "\n",
    "tplot(tnames)"
   ]
  }
 ],
 "metadata": {
  "kernelspec": {
   "display_name": "Python 3",
   "language": "python",
   "name": "python3"
  },
  "language_info": {
   "codemirror_mode": {
    "name": "ipython",
    "version": 3
   },
   "file_extension": ".py",
   "mimetype": "text/x-python",
   "name": "python",
   "nbconvert_exporter": "python",
   "pygments_lexer": "ipython3",
   "version": "3.11.7"
  }
 },
 "nbformat": 4,
 "nbformat_minor": 2
}

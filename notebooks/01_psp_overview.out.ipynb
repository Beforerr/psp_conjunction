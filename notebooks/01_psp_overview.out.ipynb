{
 "cells": [
  {
   "cell_type": "markdown",
   "metadata": {},
   "source": [
    "# Overview of the event\n",
    "\n",
    "::: {#cell-1 .cell 0=‘h’ 1=‘i’ 2=‘d’ 3=‘e’ execution_count=1}\n",
    "\n",
    "``` python\n",
    "%load_ext autoreload\n",
    "%autoreload 2\n",
    "```\n",
    "\n",
    ":::"
   ],
   "id": "2da68fe0-e49d-4141-9872-34db1c1ad63a"
  },
  {
   "cell_type": "code",
   "execution_count": 6,
   "metadata": {},
   "outputs": [],
   "source": [
    "start = '2019-04-06T12:00'\n",
    "end = '2019-04-07T12:00'\n",
    "\n",
    "earth_start = '2019-04-09'\n",
    "earth_end = '2019-04-14'"
   ],
   "id": "cell-2"
  }
 ],
 "nbformat": 4,
 "nbformat_minor": 5,
 "metadata": {}
}

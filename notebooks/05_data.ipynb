{
 "cells": [
  {
   "cell_type": "markdown",
   "metadata": {},
   "source": [
    "# Data\n"
   ]
  },
  {
   "cell_type": "code",
   "execution_count": null,
   "metadata": {},
   "outputs": [],
   "source": [
    "%load_ext autoreload\n",
    "%autoreload 2"
   ]
  },
  {
   "cell_type": "code",
   "execution_count": null,
   "metadata": {},
   "outputs": [],
   "source": [
    "from speasy.core.requests_scheduling.request_dispatch import init_cdaweb\n",
    "from space_analysis.ds.spz.plot import spz_plot\n",
    "from psp import get_timerange"
   ]
  },
  {
   "cell_type": "code",
   "execution_count": null,
   "metadata": {},
   "outputs": [],
   "source": [
    "init_cdaweb()\n",
    "\n",
    "enc = 8\n",
    "timerange = get_timerange(7)"
   ]
  },
  {
   "cell_type": "markdown",
   "metadata": {},
   "source": [
    "## Parker Solar Probe data\n",
    "\n",
    "The parameters are:\n",
    "\n",
    "- 'psp_fld_l2_mag_RTN_4_Sa_per_Cyc' (B in RTN, 0.25s resolution)\n",
    "- 'psp_swp_spi_sf00_L3_DENS' (Ion density, regular resolution)\n",
    "- 'psp_swp_spi_af00_L3_DENS' (Ion density, burst resolution)\n",
    "- 'psp_swp_spi_sf00_L3_VEL_RTN_SUN' (velocity in RTN in Sun's frame, regular resolution)\n",
    "- 'psp_swp_spi_af00_L3_VEL_RTN_SUN' (velocity in RTN in Sun's frame, burst resolution)\n",
    "- 'psp_swp_spi_sf00_L3_VEL_RTN' (velocity in RTN in spacecraft frame, regular resolution, you need this to calculate current sheet thickness)\n",
    "- 'psp_swp_spi_af00_L3_VEL_RTN' (velocity in RTN in spacecraft frame, burst resolution, you need this to calculate current sheet thickness)\n",
    "- 'Tp_spani_b' (Ion parallel and perpendicular ion temperature, regular resolution. Blue (first element in array): parallel, Red: perp)\n",
    "- 'Tp_spanib_b' (Ion parallel and perpendicular ion temperature, burst resolution. Blue (first element in array): parallel, Red: perp)\n"
   ]
  },
  {
   "cell_type": "code",
   "execution_count": null,
   "metadata": {},
   "outputs": [],
   "source": [
    "from psp.io.psp import load_psp_data\n",
    "from psp.plot import preview_psp_data\n",
    "from space_analysis.ds.tplot.utils import get_time_resolution"
   ]
  },
  {
   "cell_type": "code",
   "execution_count": null,
   "metadata": {},
   "outputs": [],
   "source": [
    "enc = 8"
   ]
  },
  {
   "cell_type": "code",
   "execution_count": null,
   "metadata": {},
   "outputs": [],
   "source": [
    "tnames = load_psp_data(enc)\n",
    "preview_psp_data()"
   ]
  },
  {
   "cell_type": "code",
   "execution_count": null,
   "metadata": {},
   "outputs": [],
   "source": [
    "trs = get_time_resolution(tnames)\n",
    "trs"
   ]
  },
  {
   "cell_type": "code",
   "execution_count": null,
   "metadata": {},
   "outputs": [],
   "source": [
    "tr = [\"2021-04-28T23:00\", \"2021-04-29T07:00\"]\n",
    "products = [\n",
    "    \"cda/PSP_FLD_L2_MAG_RTN_1MIN/psp_fld_l2_mag_RTN_1min\",\n",
    "    \"cda/PSP_SWP_SPI_SF00_L3_MOM/DENS\",\n",
    "    \"cda/PSP_SWP_SPI_SF00_L3_MOM/VEL_RTN_SUN\",\n",
    "    \"cda/PSP_SWP_SPI_SF00_L3_MOM/TEMP\",\n",
    "]\n",
    "spz_plot(products, tr)"
   ]
  },
  {
   "cell_type": "markdown",
   "metadata": {},
   "source": [
    "## SOLO data\n"
   ]
  },
  {
   "cell_type": "code",
   "execution_count": null,
   "metadata": {},
   "outputs": [],
   "source": [
    "tr = [\"2021-05-04T05:45:00\", \"2021-05-05T01:45:00\"]\n",
    "products = [\n",
    "    \"cda/SOLO_L2_MAG-RTN-NORMAL-1-MINUTE/B_RTN\",\n",
    "    \"cda/SOLO_L2_SWA-PAS-GRND-MOM/N\",\n",
    "    \"cda/SOLO_L2_SWA-PAS-GRND-MOM/V_RTN\",\n",
    "    \"cda/SOLO_L2_SWA-PAS-GRND-MOM/T\",\n",
    "]\n",
    "spz_plot(products, tr)"
   ]
  },
  {
   "cell_type": "markdown",
   "metadata": {},
   "source": [
    "## STEREO data\n",
    "\n",
    "No data available for velocity in RTN during this time\n"
   ]
  },
  {
   "cell_type": "code",
   "execution_count": null,
   "metadata": {},
   "outputs": [],
   "source": [
    "tr = timerange[\"earth\"]\n",
    "\n",
    "products = [\n",
    "    # \"cda/STA_L1_MAG_RTN/BFIELD\",\n",
    "    \"cda/STA_L2_PLA_1DMAX_1MIN/proton_number_density\",\n",
    "    \"cda/STA_L2_PLA_1DMAX_1MIN/proton_bulk_speed\",\n",
    "    \"cda/STA_L2_PLA_1DMAX_1MIN/proton_n_s_flow_angle_inst\",\n",
    "    \"cda/STA_L2_PLA_1DMAX_1MIN/proton_e_w_flow_angle_inst\",\n",
    "    \"cda/STA_L2_PLA_1DMAX_1MIN/proton_Vr_RTN\",\n",
    "]\n",
    "\n",
    "spz_plot(products, tr)"
   ]
  }
 ],
 "metadata": {
  "kernelspec": {
   "display_name": "dev",
   "language": "python",
   "name": "python3"
  },
  "language_info": {
   "codemirror_mode": {
    "name": "ipython",
    "version": 3
   },
   "file_extension": ".py",
   "mimetype": "text/x-python",
   "name": "python",
   "nbconvert_exporter": "python",
   "pygments_lexer": "ipython3",
   "version": "3.12.8"
  }
 },
 "nbformat": 4,
 "nbformat_minor": 2
}

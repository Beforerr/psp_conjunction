{
  "cells": [
    {
      "cell_type": "markdown",
      "metadata": {},
      "source": [
        "# Notes"
      ],
      "id": "014b5662-9ecd-40f3-9306-d713f8a444f2"
    },
    {
      "cell_type": "code",
      "execution_count": 1,
      "metadata": {},
      "outputs": [],
      "source": [
        "import polars as pl\n",
        "from beforerr.project import datadir"
      ],
      "id": "cell-1"
    },
    {
      "cell_type": "code",
      "execution_count": 2,
      "metadata": {},
      "outputs": [],
      "source": [
        "df = pl.read_csv(datadir() / 'psp_events.csv', try_parse_dates=True)\n",
        "df.to_pandas()"
      ],
      "id": "ad07c3cc-052b-459a-a6b5-b11515ff1232"
    },
    {
      "cell_type": "markdown",
      "metadata": {},
      "source": [
        "# Anisotropy\n",
        "\n",
        "-   PSP_SWP_SPI_SF00_L3_MOM\n",
        "\n",
        "    -   Notes: Partial moments of the Proton distribution function in the SPAN-Ion instrument, PSP spacecraft, and RTN coordinate systems. User should be aware that the full ion distribution is typically NOT in the FOV of the instrument.\n",
        "\n",
        "    -   `T_TENSOR` Partial Moment Temperature Tensor in instrument frame\n",
        "\n",
        "-   WI_H0_SWE\n",
        "\n",
        "    -   `Te_anisotropy` Temperature anisotropy = Te_para / Te_perp\n",
        "\n",
        "-   WI_PLSP_3DP\n",
        "\n",
        "    -   `MOM.P.MAGT3` —\\> \\[P.SYMM_MAGT3\\] Proton temperature tensor… rotated into a field-aligned coordinate basis and then taking the diagonal elements only\n",
        "\n",
        "-   WI_ELM2_3DP : Wind 3dp, PESA Low (~24 sec resolution) energy spectra with ion moments\n",
        "\n",
        "    -   `MAGT3` —\\> \\[MAGT3\\] electron temperature tensor… rotated into a field-aligned coordinate basis and then taking the diagonal elements only\n",
        "\n",
        "-   THB_L2_ESA\n",
        "\n",
        "    -   `thb_peeb_magt3Q` —–Electron Temperature, Field Aligned (Tprp1FA, Tprp2FA, TparFA)\n",
        "\n",
        "    -   `thb_peef_magt3Q` —–Electron Temperature, Field Aligned (Tprp1FA, Tprp2FA, TparFA)\n",
        "\n",
        "    -   `thb_peif_magt3Q` —–Temperature, Field Aligned (TprpFA1, TprpFA2, TparFA)\n",
        "\n",
        "-   THB_L2_MOM\n",
        "\n",
        "    -   `thb_peem_ptens_magQ` —–Electron Pressure Tensor, Field Aligned\n",
        "\n",
        "    -   `thb_peem_t3_magQ` —–Electron Temperature, Field Aligned (TprpFA1, TprpFA2, TparFA)\n",
        "\n",
        "    -   `thb_peim_ptens_magQ` —–Ion Pressure Tensor, Field Aligned\n",
        "\n",
        "    -   `thb_peim_t3_magQ` —–Ion Temperature, Field Aligned (TprpFA1, TprpFA2, TparFA)"
      ],
      "id": "8c586190-56dc-4abc-9a27-52aeb2db5057"
    }
  ],
  "nbformat": 4,
  "nbformat_minor": 5,
  "metadata": {
    "kernelspec": {
      "name": "python3",
      "display_name": "cool_planet",
      "language": "python"
    },
    "language_info": {
      "name": "python",
      "codemirror_mode": {
        "name": "ipython",
        "version": "3"
      },
      "file_extension": ".py",
      "mimetype": "text/x-python",
      "nbconvert_exporter": "python",
      "pygments_lexer": "ipython3",
      "version": "3.11.9"
    }
  }
}
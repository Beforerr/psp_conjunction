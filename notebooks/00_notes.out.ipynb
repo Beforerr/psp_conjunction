{
  "cells": [
    {
      "cell_type": "markdown",
      "metadata": {},
      "source": [
        "# Notes"
      ],
      "id": "9fab5862-6a43-49b5-a1d0-99576ee3fe56"
    },
    {
      "cell_type": "code",
      "execution_count": null,
      "metadata": {},
      "outputs": [],
      "source": [
        "import polars as pl"
      ],
      "id": "cell-1"
    },
    {
      "cell_type": "code",
      "execution_count": 3,
      "metadata": {},
      "outputs": [],
      "source": [
        "df = pl.read_csv('../data/psp_events.csv', try_parse_dates=True)\n",
        "df.to_pandas()"
      ],
      "id": "571378a5-6497-4da7-978f-e971aa113712"
    },
    {
      "cell_type": "markdown",
      "metadata": {},
      "source": [
        "# Anisotropy\n",
        "\n",
        "-   PSP_SWP_SPI_SF00_L3_MOM\n",
        "\n",
        "    -   Notes: Partial moments of the Proton distribution function in\n",
        "        the SPAN-Ion instrument, PSP spacecraft, and RTN coordinate\n",
        "        systems. User should be aware that the full ion distribution is\n",
        "        typically NOT in the FOV of the instrument.\n",
        "\n",
        "    -   `T_TENSOR` Partial Moment Temperature Tensor in instrument frame\n",
        "\n",
        "-   WI_H0_SWE\n",
        "\n",
        "    -   `Te_anisotropy` Temperature anisotropy = Te_para / Te_perp\n",
        "\n",
        "-   WI_PLSP_3DP\n",
        "\n",
        "    -   `MOM.P.MAGT3` —\\> \\[P.SYMM_MAGT3\\] Proton temperature tensor…\n",
        "        rotated into a field-aligned coordinate basis and then taking\n",
        "        the diagonal elements only\n",
        "\n",
        "-   WI_ELM2_3DP : Wind 3dp, PESA Low (~24 sec resolution) energy spectra\n",
        "    with ion moments\n",
        "\n",
        "    -   `MAGT3` —\\> \\[MAGT3\\] electron temperature tensor… rotated into\n",
        "        a field-aligned coordinate basis and then taking the diagonal\n",
        "        elements only\n",
        "\n",
        "-   THB_L2_ESA\n",
        "\n",
        "    -   `thb_peeb_magt3Q` —–Electron Temperature, Field Aligned\n",
        "        (Tprp1FA, Tprp2FA, TparFA)\n",
        "\n",
        "    -   `thb_peef_magt3Q` —–Electron Temperature, Field Aligned\n",
        "        (Tprp1FA, Tprp2FA, TparFA)\n",
        "\n",
        "    -   `thb_peif_magt3Q` —–Temperature, Field Aligned (TprpFA1,\n",
        "        TprpFA2, TparFA)\n",
        "\n",
        "-   THB_L2_MOM\n",
        "\n",
        "    -   `thb_peem_ptens_magQ` —–Electron Pressure Tensor, Field Aligned\n",
        "\n",
        "    -   `thb_peem_t3_magQ` —–Electron Temperature, Field Aligned\n",
        "        (TprpFA1, TprpFA2, TparFA)\n",
        "\n",
        "    -   `thb_peim_ptens_magQ` —–Ion Pressure Tensor, Field Aligned\n",
        "\n",
        "    -   `thb_peim_t3_magQ` —–Ion Temperature, Field Aligned (TprpFA1,\n",
        "        TprpFA2, TparFA)"
      ],
      "id": "7b795d2d-ee47-4d5b-b338-65ac47374f52"
    }
  ],
  "nbformat": 4,
  "nbformat_minor": 5,
  "metadata": {
    "kernelspec": {
      "name": "python3",
      "display_name": "cool_planet",
      "language": "python"
    },
    "language_info": {
      "name": "python",
      "codemirror_mode": {
        "name": "ipython",
        "version": "3"
      },
      "file_extension": ".py",
      "mimetype": "text/x-python",
      "nbconvert_exporter": "python",
      "pygments_lexer": "ipython3",
      "version": "3.10.12"
    }
  }
}
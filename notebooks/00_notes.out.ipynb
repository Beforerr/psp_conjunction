{
 "cells": [
  {
   "cell_type": "markdown",
   "metadata": {},
   "source": [
    "# Notes"
   ],
   "id": "53d492b0-6dc0-4121-93e0-aaee37aa001c"
  },
  {
   "cell_type": "code",
   "execution_count": null,
   "metadata": {},
   "outputs": [],
   "source": [
    "import polars as pl"
   ],
   "id": "cell-1"
  },
  {
   "cell_type": "code",
   "execution_count": 3,
   "metadata": {},
   "outputs": [],
   "source": [
    "df = pl.read_csv('../data/psp_events.csv', try_parse_dates=True)\n",
    "df.to_pandas()"
   ],
   "id": "28722801-469b-4035-b62d-b75c2d7180a0"
  }
 ],
 "nbformat": 4,
 "nbformat_minor": 5,
 "metadata": {}
}

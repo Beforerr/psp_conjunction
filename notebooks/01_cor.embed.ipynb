{
 "cells": [
  {
   "cell_type": "markdown",
   "metadata": {},
   "source": [
    "#"
   ],
   "id": "b1c54537-ee8e-458b-8b50-57a74fbe50cb"
  },
  {
   "cell_type": "markdown",
   "metadata": {},
   "source": [
    "``` {julia}\n",
    "using Pkg\n",
    "Pkg.activate(\".\")\n",
    "Pkg.add([\"PythonCall\", \"CondaPkg\"])\n",
    "```\n",
    "\n",
    "``` {julia}\n",
    "using PythonCall\n",
    "using CondaPkg\n",
    "```\n",
    "\n",
    "``` {julia}\n",
    "CondaPkg.add(\"pytables\")\n",
    "CondaPkg.add_pip(\"pyspedas\")\n",
    "```\n",
    "\n",
    "``` {julia}\n",
    "pyspedas = pyimport(\"pyspedas\")\n",
    "```"
   ],
   "id": "2646702c"
  }
 ],
 "nbformat": 4,
 "nbformat_minor": 5,
 "metadata": {}
}

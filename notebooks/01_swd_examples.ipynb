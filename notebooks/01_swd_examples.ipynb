{
 "cells": [
  {
   "cell_type": "markdown",
   "metadata": {},
   "source": [
    "# Examples"
   ]
  },
  {
   "cell_type": "code",
   "execution_count": null,
   "metadata": {},
   "outputs": [],
   "source": [
    "#| hide\n",
    "%load_ext autoreload\n",
    "%autoreload 2"
   ]
  },
  {
   "cell_type": "code",
   "execution_count": null,
   "metadata": {},
   "outputs": [],
   "source": [
    "from discontinuitypy.core.pipeline import ids_finder\n",
    "from discontinuitypy.datasets import IDsDataset\n",
    "from discontinuitypy.utils.basic import resample\n",
    "import polars as pl\n",
    "from beforerr.polars import pl_norm\n",
    "\n",
    "from sunpy.time import TimeRange\n",
    "from datetime import timedelta\n",
    "from space_analysis.utils.speasy import Variables"
   ]
  },
  {
   "cell_type": "code",
   "execution_count": null,
   "metadata": {},
   "outputs": [],
   "source": [
    "start = '2019-04-06T12:00'\n",
    "start = '2019-04-07T01:00'\n",
    "end = '2019-04-07T12:00'\n",
    "\n",
    "earth_start = '2019-04-09'\n",
    "earth_end = '2019-04-14'\n",
    "\n",
    "# tau = timedelta(seconds=60)\n",
    "tau = timedelta(seconds=10)\n",
    "ts = timedelta(seconds=1/264)"
   ]
  },
  {
   "cell_type": "code",
   "execution_count": null,
   "metadata": {},
   "outputs": [],
   "source": [
    "psp_timerange = TimeRange(start, end)\n",
    "timerange_earth = TimeRange(earth_start, earth_end)"
   ]
  },
  {
   "cell_type": "code",
   "execution_count": null,
   "metadata": {},
   "outputs": [],
   "source": [
    "def validate(timerange):\n",
    "    if isinstance(timerange, TimeRange):\n",
    "        return [timerange.start.to_string(), timerange.end.to_string()]"
   ]
  },
  {
   "cell_type": "code",
   "execution_count": null,
   "metadata": {},
   "outputs": [],
   "source": [
    "psp_mag_data = Variables(\n",
    "    dataset=\"PSP_FLD_L2_MAG_RTN\",\n",
    "    parameters=[\"psp_fld_l2_mag_RTN\"],\n",
    "    timerange=validate(psp_timerange),\n",
    ")"
   ]
  },
  {
   "cell_type": "code",
   "execution_count": null,
   "metadata": {},
   "outputs": [],
   "source": [
    "psp_ids_dataset = IDsDataset(\n",
    "    mag_data=psp_mag_data.to_polars(),\n",
    "    tau=tau,\n",
    "    ts=ts,\n",
    ")"
   ]
  },
  {
   "cell_type": "code",
   "execution_count": null,
   "metadata": {},
   "outputs": [],
   "source": [
    "psp_ids_dataset.find_events()"
   ]
  },
  {
   "cell_type": "code",
   "execution_count": null,
   "metadata": {},
   "outputs": [],
   "source": [
    "psp_ids_dataset.export(\"../data/psp_ids_dataset.parquet\")"
   ]
  },
  {
   "cell_type": "markdown",
   "metadata": {},
   "source": [
    "## Examples of discontinuities observed by PSP"
   ]
  },
  {
   "cell_type": "code",
   "execution_count": null,
   "metadata": {},
   "outputs": [],
   "source": [
    "#| column: screen\n",
    "#| layout-ncol: 3\n",
    "outs = psp_ids_dataset.plot_candidates(plot_fit_data=True)"
   ]
  },
  {
   "cell_type": "markdown",
   "metadata": {},
   "source": [
    "## Resampled dataset\n",
    "\n",
    "By visually inspecting data, the most strong discontinuities kind of have time duration about 1-3 seconds. \n",
    "So it is reasonable to downsample the data to a lower frequency so that \n",
    "\n",
    "- the detection method is more robust, excluding very high frequency wave/noise?\n",
    "- it is better to apply the derivative method to get the properties of the discontinuities.\n",
    "- Match `Wind` time resolution.\n",
    "\n",
    "Or we could fit the $B_l$ to get the properties of the discontinuities."
   ]
  },
  {
   "cell_type": "code",
   "execution_count": null,
   "metadata": {},
   "outputs": [],
   "source": [
    "every = timedelta(seconds=1/11)\n",
    "ts = timedelta(seconds=1/11)\n",
    "\n",
    "data_r = resample(psp_mag_data, every)"
   ]
  },
  {
   "cell_type": "code",
   "execution_count": null,
   "metadata": {},
   "outputs": [],
   "source": [
    "candidates_r = ids_finder(data_r, tau, ts)"
   ]
  },
  {
   "cell_type": "code",
   "execution_count": null,
   "metadata": {},
   "outputs": [],
   "source": [
    "dataset = \"PSP_SWP_SPI_SF00_L3_MOM\"\n",
    "parameters = [\"DENS\", \"VEL_RTN_SUN\", \"TEMP\", \"SUN_DIST\"]"
   ]
  },
  {
   "cell_type": "code",
   "execution_count": null,
   "metadata": {},
   "outputs": [],
   "source": [
    "psp_plasma = Variables(\n",
    "    dataset=dataset, parameters=parameters, timerange=validate(psp_timerange)\n",
    ").get_data()"
   ]
  },
  {
   "cell_type": "code",
   "execution_count": null,
   "metadata": {},
   "outputs": [],
   "source": [
    "vec_cols = [\"Vx RTN\", \"Vy RTN\", \"Vz RTN\"]\n",
    "\n",
    "psp_plasma_r = (\n",
    "    psp_plasma.to_polars()\n",
    "    .pipe(resample, every=tau)\n",
    "    .with_columns(plasma_speed=pl_norm(vec_cols))\n",
    "    .rename(\n",
    "        {\n",
    "            \"Density\": \"plasma_density\",\n",
    "            \"Temperature\": \"plasma_temperature\",\n",
    "        }\n",
    "    )\n",
    ")"
   ]
  },
  {
   "cell_type": "code",
   "execution_count": null,
   "metadata": {},
   "outputs": [],
   "source": [
    "psp_ids_dataset = IDsDataset(\n",
    "    candidates = candidates_r,\n",
    "    data = data_r,\n",
    "    plasma_data = psp_plasma_r,\n",
    "    vec_cols = vec_cols\n",
    ")\n",
    "\n",
    "psp_ids_dataset.update_candidates_with_plasma_data()"
   ]
  },
  {
   "cell_type": "code",
   "execution_count": null,
   "metadata": {},
   "outputs": [],
   "source": [
    "def ids_filter(df: pl.DataFrame):\n",
    "    return df.filter(\n",
    "        pl.col('index_diff')>1, # interested in strong discontinuities\n",
    "        pl.col('fit.stat.rsquared')>0.9, # interested in good fits\n",
    "    )"
   ]
  },
  {
   "cell_type": "code",
   "execution_count": null,
   "metadata": {},
   "outputs": [],
   "source": [
    "#| column: screen\n",
    "#| layout-ncol: 3\n",
    "outs = psp_ids_dataset.plot_candidates(add_plasma_params=True, plot_fit_data=True)"
   ]
  }
 ],
 "metadata": {
  "kernelspec": {
   "display_name": "cool_planet",
   "language": "python",
   "name": "python3"
  },
  "language_info": {
   "codemirror_mode": {
    "name": "ipython",
    "version": 3
   },
   "file_extension": ".py",
   "mimetype": "text/x-python",
   "name": "python",
   "nbconvert_exporter": "python",
   "pygments_lexer": "ipython3",
   "version": "3.11.7"
  }
 },
 "nbformat": 4,
 "nbformat_minor": 2
}

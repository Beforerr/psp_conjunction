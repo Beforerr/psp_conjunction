{
 "cells": [
  {
   "cell_type": "markdown",
   "metadata": {},
   "source": [
    "---\n",
    "title: 2019-04-07\n",
    "---\n",
    "\n",
    "``` txt\n",
    "file:///Users/zijin/projects/autoplot/psp_mag_sw.vap?timerange=2019-04-06+through+2019-04-08\n",
    "file:///Users/zijin/projects/autoplot/ace.vap?timerange=2019-04-08+through+2019-04-10\n",
    "file:///Users/zijin/projects/autoplot/ace.vap?timerange=2019-04-11+through+2019-04-14\n",
    "file:///Users/zijin/projects/autoplot/wind_plasma.vap?timerange=2019-04-08+through+2019-04-10\n",
    "file:///Users/zijin/projects/autoplot/dscovr.vap?timerange=2019-04-08+through+2019-04-10\n",
    "```\n",
    "\n",
    "[ENLIL Solar Wind Prediction - Parker Solar Probe - Perihelion 02](http://helioweather.net/missions/psp/per02/)\n",
    "\n",
    "::: {.column-page layout-nrow=\"1\"}\n",
    "{{< video http://helioweather.net/missions/psp/per02/anim/tuz-a7b1-d4t05x1-d200t1-donki_den1-psp-x15wifs3z1fo_med_201903-201904.mp4 >}}\n",
    "\n",
    "{{< video http://helioweather.net/missions/psp/per02/anim/tuz-a7b1-d4t05x1-d200t1-donki_vel2e1-psp-x15ifs3z1fr_med_201903-201904.mp4 >}}\n",
    ":::\n",
    "\n",
    "![](../images/paste-15.png)\n",
    "\n",
    "\n",
    "::: {.column-page layout-nrow=\"1\"}\n",
    "\n",
    "![PSP observation](../images/paste-18.png)\n",
    "\n",
    "![ACE observation](../images/paste-16.png)\n",
    "\n",
    "![ACE observation (continued)](../images/paste-17.png)\n",
    ":::\n",
    "\n",
    "Summary plot\n",
    "\n",
    "::: {.column-page layout-nrow=\"1\"}\n",
    "\n",
    "![](https://psp-gateway.jhuapl.edu/backend/data/summary_plots/Summary_Plot_20190405.png)\n",
    "\n",
    "![](https://psp-gateway.jhuapl.edu/backend/data/summary_plots/Summary_Plot_20190406.png)\n",
    "\n",
    "![](https://psp-gateway.jhuapl.edu/backend/data/summary_plots/Summary_Plot_20190407.png)\n",
    "\n",
    "![](https://psp-gateway.jhuapl.edu/backend/data/summary_plots/Summary_Plot_20190408.png)\n",
    "\n",
    ":::"
   ]
  }
 ],
 "metadata": {
  "language_info": {
   "name": "python"
  }
 },
 "nbformat": 4,
 "nbformat_minor": 2
}

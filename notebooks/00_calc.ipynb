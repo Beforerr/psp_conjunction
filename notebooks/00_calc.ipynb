{
 "cells": [
  {
   "cell_type": "code",
   "execution_count": 2,
   "metadata": {},
   "outputs": [],
   "source": [
    "from plasmapy.formulary.dimensionless import beta"
   ]
  },
  {
   "cell_type": "code",
   "execution_count": 3,
   "metadata": {},
   "outputs": [
    {
     "data": {
      "text/latex": [
       "$0.40267091 \\; \\mathrm{}$"
      ],
      "text/plain": [
       "<Quantity 0.40267091>"
      ]
     },
     "execution_count": 3,
     "metadata": {},
     "output_type": "execute_result"
    }
   ],
   "source": [
    "import astropy.units as u\n",
    "\n",
    "beta(1*u.K, 1*u.cm**-3, 1*u.nT)\n",
    "\n",
    "beta(1*u.eV, 1*u.cm**-3, 1*u.nT)"
   ]
  },
  {
   "cell_type": "code",
   "execution_count": 6,
   "metadata": {},
   "outputs": [
    {
     "name": "stdout",
     "output_type": "stream",
     "text": [
      "1.0821605230034723 d\n",
      "2.885761394675926 d\n"
     ]
    }
   ],
   "source": [
    "r = 0.5*u.AU\n",
    "v_fast = 800*u.km/u.s\n",
    "v_slow = 300*u.km/u.s\n",
    "\n",
    "t_min = r/v_fast\n",
    "t_max = r/v_slow\n",
    "\n",
    "print(t_min.to(u.day))\n",
    "print(t_max.to(u.day))"
   ]
  },
  {
   "cell_type": "code",
   "execution_count": null,
   "metadata": {},
   "outputs": [],
   "source": []
  }
 ],
 "metadata": {
  "kernelspec": {
   "display_name": "Python 3",
   "language": "python",
   "name": "python3"
  },
  "language_info": {
   "codemirror_mode": {
    "name": "ipython",
    "version": 3
   },
   "file_extension": ".py",
   "mimetype": "text/x-python",
   "name": "python",
   "nbconvert_exporter": "python",
   "pygments_lexer": "ipython3",
   "version": "3.10.12"
  }
 },
 "nbformat": 4,
 "nbformat_minor": 2
}

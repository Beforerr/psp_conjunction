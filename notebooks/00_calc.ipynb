{
 "cells": [
  {
   "cell_type": "code",
   "execution_count": 2,
   "metadata": {},
   "outputs": [],
   "source": [
    "from plasmapy.formulary import beta\n",
    "import astropy.units as u"
   ]
  },
  {
   "cell_type": "code",
   "execution_count": 4,
   "metadata": {},
   "outputs": [
    {
     "name": "stdout",
     "output_type": "stream",
     "text": [
      "Coeficiente for beta at T=1K, n=1cm^-3, B=1nT:  3.469949406357831e-05\n",
      "Coeficiente for beta at T=1eV, n=1cm^-3, B=1nT:  0.402670907669414\n"
     ]
    }
   ],
   "source": [
    "c1 = beta(1 * u.K, 1 * u.cm**-3, 1 * u.nT)\n",
    "c2 = beta(1 * u.eV, 1 * u.cm**-3, 1 * u.nT)\n",
    "\n",
    "print(\"Coeficiente for beta at T=1K, n=1cm^-3, B=1nT: \", c1)\n",
    "print(\"Coeficiente for beta at T=1eV, n=1cm^-3, B=1nT: \", c2)"
   ]
  },
  {
   "cell_type": "markdown",
   "metadata": {},
   "source": [
    "## Time of arrival"
   ]
  },
  {
   "cell_type": "code",
   "execution_count": 13,
   "metadata": {},
   "outputs": [
    {
     "name": "stdout",
     "output_type": "stream",
     "text": [
      "Fast wind (800.0 km / s) to travel 1 AU : 2.1643210460069446 d\n",
      "Slow wind (300.0 km / s) to travel 1 AU : 5.771522789351852 d\n"
     ]
    }
   ],
   "source": [
    "r = 1 * u.AU\n",
    "v_fast = 800 * u.km / u.s\n",
    "v_slow = 300 * u.km / u.s\n",
    "\n",
    "t_min = r / v_fast\n",
    "t_max = r / v_slow\n",
    "\n",
    "\n",
    "print(f\"Fast wind ({v_fast}) to travel 1 AU : {t_min.to(u.day)}\")\n",
    "print(f\"Slow wind ({v_slow}) to travel 1 AU : {t_max.to(u.day)}\")"
   ]
  }
 ],
 "metadata": {
  "kernelspec": {
   "display_name": "Python 3",
   "language": "python",
   "name": "python3"
  },
  "language_info": {
   "codemirror_mode": {
    "name": "ipython",
    "version": 3
   },
   "file_extension": ".py",
   "mimetype": "text/x-python",
   "name": "python",
   "nbconvert_exporter": "python",
   "pygments_lexer": "ipython3",
   "version": "3.10.13"
  }
 },
 "nbformat": 4,
 "nbformat_minor": 2
}

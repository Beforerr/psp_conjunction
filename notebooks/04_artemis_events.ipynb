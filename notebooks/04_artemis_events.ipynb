{
 "cells": [
  {
   "cell_type": "markdown",
   "metadata": {},
   "source": [
    "# ARTEMIS\n",
    "\n",
    "- [ ] Why sometimes we don't have pressure tensor but have temperature tensor?\n",
    "\n",
    "- THB_L2_MOM\n",
    "\n",
    "  - `thb_peem_ptens_magQ` -----Electron Pressure Tensor, Field Aligned\n",
    "\n",
    "  - `thb_peem_t3_magQ` -----Electron Temperature, Field Aligned (TprpFA1, TprpFA2, TparFA)\n",
    "\n",
    "  - `thb_peim_ptens_magQ` -----Ion Pressure Tensor, Field Aligned\n",
    "\n",
    "  - `thb_peim_t3_magQ` -----Ion Temperature, Field Aligned (TprpFA1, TprpFA2, TparFA)\n"
   ]
  },
  {
   "cell_type": "code",
   "execution_count": 34,
   "metadata": {},
   "outputs": [
    {
     "name": "stdout",
     "output_type": "stream",
     "text": [
      "The autoreload extension is already loaded. To reload it, use:\n",
      "  %reload_ext autoreload\n"
     ]
    }
   ],
   "source": [
    "%load_ext autoreload\n",
    "%autoreload 2"
   ]
  },
  {
   "cell_type": "code",
   "execution_count": 35,
   "metadata": {},
   "outputs": [],
   "source": [
    "from utils import IDsConfig, WindConfig, THEMISConfig\n",
    "from rich import print"
   ]
  },
  {
   "cell_type": "code",
   "execution_count": 36,
   "metadata": {},
   "outputs": [
    {
     "data": {
      "text/html": [
       "<pre style=\"white-space:pre;overflow-x:auto;line-height:normal;font-family:Menlo,'DejaVu Sans Mono',consolas,'Courier New',monospace\"><span style=\"color: #800080; text-decoration-color: #800080; font-weight: bold\">WindConfig</span><span style=\"font-weight: bold\">(</span>\n",
       "    <span style=\"color: #808000; text-decoration-color: #808000\">tau</span>=<span style=\"color: #800080; text-decoration-color: #800080; font-weight: bold\">datetime</span><span style=\"color: #800080; text-decoration-color: #800080; font-weight: bold\">.timedelta</span><span style=\"font-weight: bold\">(</span><span style=\"color: #808000; text-decoration-color: #808000\">seconds</span>=<span style=\"color: #008080; text-decoration-color: #008080; font-weight: bold\">30</span><span style=\"font-weight: bold\">)</span>,\n",
       "    <span style=\"color: #808000; text-decoration-color: #808000\">ts</span>=<span style=\"color: #800080; text-decoration-color: #800080; font-weight: bold\">datetime</span><span style=\"color: #800080; text-decoration-color: #800080; font-weight: bold\">.timedelta</span><span style=\"font-weight: bold\">(</span><span style=\"color: #808000; text-decoration-color: #808000\">microseconds</span>=<span style=\"color: #008080; text-decoration-color: #008080; font-weight: bold\">90909</span><span style=\"font-weight: bold\">)</span>,\n",
       "    <span style=\"color: #808000; text-decoration-color: #808000\">timerange</span>=<span style=\"font-weight: bold\">[</span><span style=\"color: #008000; text-decoration-color: #008000\">'2019-04-09'</span>, <span style=\"color: #008000; text-decoration-color: #008000\">'2019-04-12'</span><span style=\"font-weight: bold\">]</span>,\n",
       "    <span style=\"color: #808000; text-decoration-color: #808000\">mag_meta</span>=<span style=\"color: #800080; text-decoration-color: #800080; font-weight: bold\">Meta</span><span style=\"font-weight: bold\">(</span><span style=\"color: #808000; text-decoration-color: #808000\">dataset</span>=<span style=\"color: #008000; text-decoration-color: #008000\">'WI_H2_MFI'</span>, <span style=\"color: #808000; text-decoration-color: #808000\">parameters</span>=<span style=\"font-weight: bold\">[</span><span style=\"color: #008000; text-decoration-color: #008000\">'BGSE'</span><span style=\"font-weight: bold\">])</span>,\n",
       "    <span style=\"color: #808000; text-decoration-color: #808000\">plasma_meta</span>=<span style=\"color: #800080; text-decoration-color: #800080; font-weight: bold\">PlasmaMeta</span><span style=\"font-weight: bold\">(</span>\n",
       "        <span style=\"color: #808000; text-decoration-color: #808000\">dataset</span>=<span style=\"color: #008000; text-decoration-color: #008000\">'WI_PM_3DP'</span>,\n",
       "        <span style=\"color: #808000; text-decoration-color: #808000\">parameters</span>=<span style=\"font-weight: bold\">[</span><span style=\"color: #008000; text-decoration-color: #008000\">'P_DENS'</span>, <span style=\"color: #008000; text-decoration-color: #008000\">'P_VELS'</span>, <span style=\"color: #008000; text-decoration-color: #008000\">'P_TEMP'</span><span style=\"font-weight: bold\">]</span>,\n",
       "        <span style=\"color: #808000; text-decoration-color: #808000\">density_col</span>=<span style=\"color: #800080; text-decoration-color: #800080; font-style: italic\">None</span>,\n",
       "        <span style=\"color: #808000; text-decoration-color: #808000\">velocity_cols</span>=<span style=\"color: #800080; text-decoration-color: #800080; font-style: italic\">None</span>,\n",
       "        <span style=\"color: #808000; text-decoration-color: #808000\">speed_col</span>=<span style=\"color: #800080; text-decoration-color: #800080; font-style: italic\">None</span>,\n",
       "        <span style=\"color: #808000; text-decoration-color: #808000\">temperature_col</span>=<span style=\"color: #800080; text-decoration-color: #800080; font-style: italic\">None</span>\n",
       "    <span style=\"font-weight: bold\">)</span>,\n",
       "    <span style=\"color: #808000; text-decoration-color: #808000\">ion_temp_meta</span>=<span style=\"color: #800080; text-decoration-color: #800080; font-weight: bold\">TempMeta</span><span style=\"font-weight: bold\">(</span>\n",
       "        <span style=\"color: #808000; text-decoration-color: #808000\">dataset</span>=<span style=\"color: #008000; text-decoration-color: #008000\">'WI_PLSP_3DP'</span>,\n",
       "        <span style=\"color: #808000; text-decoration-color: #808000\">parameters</span>=<span style=\"font-weight: bold\">[</span><span style=\"color: #008000; text-decoration-color: #008000\">'MOM.P.MAGT3'</span><span style=\"font-weight: bold\">]</span>,\n",
       "        <span style=\"color: #808000; text-decoration-color: #808000\">para_col</span>=<span style=\"color: #008000; text-decoration-color: #008000\">'proton_MagT3_Z'</span>,\n",
       "        <span style=\"color: #808000; text-decoration-color: #808000\">perp_cols</span>=<span style=\"font-weight: bold\">[</span><span style=\"color: #008000; text-decoration-color: #008000\">'proton_MagT3_X'</span>, <span style=\"color: #008000; text-decoration-color: #008000\">'proton_MagT3_Y'</span><span style=\"font-weight: bold\">]</span>\n",
       "    <span style=\"font-weight: bold\">)</span>,\n",
       "    <span style=\"color: #808000; text-decoration-color: #808000\">e_temp_meta</span>=<span style=\"color: #800080; text-decoration-color: #800080; font-weight: bold\">TempMeta</span><span style=\"font-weight: bold\">(</span>\n",
       "        <span style=\"color: #808000; text-decoration-color: #808000\">dataset</span>=<span style=\"color: #008000; text-decoration-color: #008000\">'WI_ELM2_3DP'</span>,\n",
       "        <span style=\"color: #808000; text-decoration-color: #808000\">parameters</span>=<span style=\"font-weight: bold\">[</span><span style=\"color: #008000; text-decoration-color: #008000\">'MAGT3'</span><span style=\"font-weight: bold\">]</span>,\n",
       "        <span style=\"color: #808000; text-decoration-color: #808000\">para_col</span>=<span style=\"color: #008000; text-decoration-color: #008000\">'electron_MagT3_Para'</span>,\n",
       "        <span style=\"color: #808000; text-decoration-color: #808000\">perp_cols</span>=<span style=\"font-weight: bold\">[</span><span style=\"color: #008000; text-decoration-color: #008000\">'electron_MagT3_Perp1'</span>, <span style=\"color: #008000; text-decoration-color: #008000\">'electron_MagT3_Perp2'</span><span style=\"font-weight: bold\">]</span>\n",
       "    <span style=\"font-weight: bold\">)</span>,\n",
       "    <span style=\"color: #808000; text-decoration-color: #808000\">fname</span>=<span style=\"color: #008000; text-decoration-color: #008000\">'wind_ids_ds'</span>,\n",
       "    <span style=\"color: #808000; text-decoration-color: #808000\">fmt</span>=<span style=\"color: #008000; text-decoration-color: #008000\">'arrow'</span>\n",
       "<span style=\"font-weight: bold\">)</span>\n",
       "</pre>\n"
      ],
      "text/plain": [
       "\u001b[1;35mWindConfig\u001b[0m\u001b[1m(\u001b[0m\n",
       "    \u001b[33mtau\u001b[0m=\u001b[1;35mdatetime\u001b[0m\u001b[1;35m.timedelta\u001b[0m\u001b[1m(\u001b[0m\u001b[33mseconds\u001b[0m=\u001b[1;36m30\u001b[0m\u001b[1m)\u001b[0m,\n",
       "    \u001b[33mts\u001b[0m=\u001b[1;35mdatetime\u001b[0m\u001b[1;35m.timedelta\u001b[0m\u001b[1m(\u001b[0m\u001b[33mmicroseconds\u001b[0m=\u001b[1;36m90909\u001b[0m\u001b[1m)\u001b[0m,\n",
       "    \u001b[33mtimerange\u001b[0m=\u001b[1m[\u001b[0m\u001b[32m'2019-04-09'\u001b[0m, \u001b[32m'2019-04-12'\u001b[0m\u001b[1m]\u001b[0m,\n",
       "    \u001b[33mmag_meta\u001b[0m=\u001b[1;35mMeta\u001b[0m\u001b[1m(\u001b[0m\u001b[33mdataset\u001b[0m=\u001b[32m'WI_H2_MFI'\u001b[0m, \u001b[33mparameters\u001b[0m=\u001b[1m[\u001b[0m\u001b[32m'BGSE'\u001b[0m\u001b[1m]\u001b[0m\u001b[1m)\u001b[0m,\n",
       "    \u001b[33mplasma_meta\u001b[0m=\u001b[1;35mPlasmaMeta\u001b[0m\u001b[1m(\u001b[0m\n",
       "        \u001b[33mdataset\u001b[0m=\u001b[32m'WI_PM_3DP'\u001b[0m,\n",
       "        \u001b[33mparameters\u001b[0m=\u001b[1m[\u001b[0m\u001b[32m'P_DENS'\u001b[0m, \u001b[32m'P_VELS'\u001b[0m, \u001b[32m'P_TEMP'\u001b[0m\u001b[1m]\u001b[0m,\n",
       "        \u001b[33mdensity_col\u001b[0m=\u001b[3;35mNone\u001b[0m,\n",
       "        \u001b[33mvelocity_cols\u001b[0m=\u001b[3;35mNone\u001b[0m,\n",
       "        \u001b[33mspeed_col\u001b[0m=\u001b[3;35mNone\u001b[0m,\n",
       "        \u001b[33mtemperature_col\u001b[0m=\u001b[3;35mNone\u001b[0m\n",
       "    \u001b[1m)\u001b[0m,\n",
       "    \u001b[33mion_temp_meta\u001b[0m=\u001b[1;35mTempMeta\u001b[0m\u001b[1m(\u001b[0m\n",
       "        \u001b[33mdataset\u001b[0m=\u001b[32m'WI_PLSP_3DP'\u001b[0m,\n",
       "        \u001b[33mparameters\u001b[0m=\u001b[1m[\u001b[0m\u001b[32m'MOM.P.MAGT3'\u001b[0m\u001b[1m]\u001b[0m,\n",
       "        \u001b[33mpara_col\u001b[0m=\u001b[32m'proton_MagT3_Z'\u001b[0m,\n",
       "        \u001b[33mperp_cols\u001b[0m=\u001b[1m[\u001b[0m\u001b[32m'proton_MagT3_X'\u001b[0m, \u001b[32m'proton_MagT3_Y'\u001b[0m\u001b[1m]\u001b[0m\n",
       "    \u001b[1m)\u001b[0m,\n",
       "    \u001b[33me_temp_meta\u001b[0m=\u001b[1;35mTempMeta\u001b[0m\u001b[1m(\u001b[0m\n",
       "        \u001b[33mdataset\u001b[0m=\u001b[32m'WI_ELM2_3DP'\u001b[0m,\n",
       "        \u001b[33mparameters\u001b[0m=\u001b[1m[\u001b[0m\u001b[32m'MAGT3'\u001b[0m\u001b[1m]\u001b[0m,\n",
       "        \u001b[33mpara_col\u001b[0m=\u001b[32m'electron_MagT3_Para'\u001b[0m,\n",
       "        \u001b[33mperp_cols\u001b[0m=\u001b[1m[\u001b[0m\u001b[32m'electron_MagT3_Perp1'\u001b[0m, \u001b[32m'electron_MagT3_Perp2'\u001b[0m\u001b[1m]\u001b[0m\n",
       "    \u001b[1m)\u001b[0m,\n",
       "    \u001b[33mfname\u001b[0m=\u001b[32m'wind_ids_ds'\u001b[0m,\n",
       "    \u001b[33mfmt\u001b[0m=\u001b[32m'arrow'\u001b[0m\n",
       "\u001b[1m)\u001b[0m\n"
      ]
     },
     "metadata": {},
     "output_type": "display_data"
    },
    {
     "data": {
      "text/html": [
       "<pre style=\"white-space:pre;overflow-x:auto;line-height:normal;font-family:Menlo,'DejaVu Sans Mono',consolas,'Courier New',monospace\"><span style=\"color: #800080; text-decoration-color: #800080; font-weight: bold\">THEMISConfig</span><span style=\"font-weight: bold\">(</span>\n",
       "    <span style=\"color: #808000; text-decoration-color: #808000\">tau</span>=<span style=\"color: #800080; text-decoration-color: #800080; font-weight: bold\">datetime</span><span style=\"color: #800080; text-decoration-color: #800080; font-weight: bold\">.timedelta</span><span style=\"font-weight: bold\">(</span><span style=\"color: #808000; text-decoration-color: #808000\">seconds</span>=<span style=\"color: #008080; text-decoration-color: #008080; font-weight: bold\">30</span><span style=\"font-weight: bold\">)</span>,\n",
       "    <span style=\"color: #808000; text-decoration-color: #808000\">ts</span>=<span style=\"color: #800080; text-decoration-color: #800080; font-weight: bold\">datetime</span><span style=\"color: #800080; text-decoration-color: #800080; font-weight: bold\">.timedelta</span><span style=\"font-weight: bold\">(</span><span style=\"color: #808000; text-decoration-color: #808000\">seconds</span>=<span style=\"color: #008080; text-decoration-color: #008080; font-weight: bold\">1</span><span style=\"font-weight: bold\">)</span>,\n",
       "    <span style=\"color: #808000; text-decoration-color: #808000\">timerange</span>=<span style=\"font-weight: bold\">[</span><span style=\"color: #008000; text-decoration-color: #008000\">'2019-04-09'</span>, <span style=\"color: #008000; text-decoration-color: #008000\">'2019-04-12'</span><span style=\"font-weight: bold\">]</span>,\n",
       "    <span style=\"color: #808000; text-decoration-color: #808000\">mag_meta</span>=<span style=\"color: #800080; text-decoration-color: #800080; font-weight: bold\">Meta</span><span style=\"font-weight: bold\">(</span><span style=\"color: #808000; text-decoration-color: #808000\">dataset</span>=<span style=\"color: #008000; text-decoration-color: #008000\">'THB_L2_FGM'</span>, <span style=\"color: #808000; text-decoration-color: #808000\">parameters</span>=<span style=\"font-weight: bold\">[</span><span style=\"color: #008000; text-decoration-color: #008000\">'thb_fgl_gse'</span><span style=\"font-weight: bold\">])</span>,\n",
       "    <span style=\"color: #808000; text-decoration-color: #808000\">plasma_meta</span>=<span style=\"color: #800080; text-decoration-color: #800080; font-weight: bold\">PlasmaMeta</span><span style=\"font-weight: bold\">(</span>\n",
       "        <span style=\"color: #808000; text-decoration-color: #808000\">dataset</span>=<span style=\"color: #008000; text-decoration-color: #008000\">'THB_L2_MOM'</span>,\n",
       "        <span style=\"color: #808000; text-decoration-color: #808000\">parameters</span>=<span style=\"font-weight: bold\">[</span><span style=\"color: #008000; text-decoration-color: #008000\">'thb_peim_densityQ'</span>, <span style=\"color: #008000; text-decoration-color: #008000\">'thb_peim_velocity_gseQ'</span>, <span style=\"color: #008000; text-decoration-color: #008000\">'thb_peim_ptotQ'</span><span style=\"font-weight: bold\">]</span>,\n",
       "        <span style=\"color: #808000; text-decoration-color: #808000\">density_col</span>=<span style=\"color: #800080; text-decoration-color: #800080; font-style: italic\">None</span>,\n",
       "        <span style=\"color: #808000; text-decoration-color: #808000\">velocity_cols</span>=<span style=\"color: #800080; text-decoration-color: #800080; font-style: italic\">None</span>,\n",
       "        <span style=\"color: #808000; text-decoration-color: #808000\">speed_col</span>=<span style=\"color: #800080; text-decoration-color: #800080; font-style: italic\">None</span>,\n",
       "        <span style=\"color: #808000; text-decoration-color: #808000\">temperature_col</span>=<span style=\"color: #800080; text-decoration-color: #800080; font-style: italic\">None</span>\n",
       "    <span style=\"font-weight: bold\">)</span>,\n",
       "    <span style=\"color: #808000; text-decoration-color: #808000\">ion_temp_meta</span>=<span style=\"color: #800080; text-decoration-color: #800080; font-weight: bold\">TempMeta</span><span style=\"font-weight: bold\">(</span>\n",
       "        <span style=\"color: #808000; text-decoration-color: #808000\">dataset</span>=<span style=\"color: #008000; text-decoration-color: #008000\">'THB_L2_MOM'</span>,\n",
       "        <span style=\"color: #808000; text-decoration-color: #808000\">parameters</span>=<span style=\"font-weight: bold\">[</span><span style=\"color: #008000; text-decoration-color: #008000\">'thb_peim_t3_magQ'</span><span style=\"font-weight: bold\">]</span>,\n",
       "        <span style=\"color: #808000; text-decoration-color: #808000\">para_col</span>=<span style=\"color: #008000; text-decoration-color: #008000\">'Tz_ion FA MOM ESA-B'</span>,\n",
       "        <span style=\"color: #808000; text-decoration-color: #808000\">perp_cols</span>=<span style=\"font-weight: bold\">[</span><span style=\"color: #008000; text-decoration-color: #008000\">'Tx_ion FA MOM ESA-B'</span>, <span style=\"color: #008000; text-decoration-color: #008000\">'Ty_ion FA MOM ESA-B'</span><span style=\"font-weight: bold\">]</span>\n",
       "    <span style=\"font-weight: bold\">)</span>,\n",
       "    <span style=\"color: #808000; text-decoration-color: #808000\">e_temp_meta</span>=<span style=\"color: #800080; text-decoration-color: #800080; font-weight: bold\">TempMeta</span><span style=\"font-weight: bold\">(</span>\n",
       "        <span style=\"color: #808000; text-decoration-color: #808000\">dataset</span>=<span style=\"color: #008000; text-decoration-color: #008000\">'THB_L2_MOM'</span>,\n",
       "        <span style=\"color: #808000; text-decoration-color: #808000\">parameters</span>=<span style=\"font-weight: bold\">[</span><span style=\"color: #008000; text-decoration-color: #008000\">'thb_peem_t3_magQ'</span><span style=\"font-weight: bold\">]</span>,\n",
       "        <span style=\"color: #808000; text-decoration-color: #808000\">para_col</span>=<span style=\"color: #008000; text-decoration-color: #008000\">'Tz_elec FA MOM ESA-B'</span>,\n",
       "        <span style=\"color: #808000; text-decoration-color: #808000\">perp_cols</span>=<span style=\"font-weight: bold\">[</span><span style=\"color: #008000; text-decoration-color: #008000\">'Tx_elec FA MOM ESA-B'</span>, <span style=\"color: #008000; text-decoration-color: #008000\">'Ty_elec FA MOM ESA-B'</span><span style=\"font-weight: bold\">]</span>\n",
       "    <span style=\"font-weight: bold\">)</span>,\n",
       "    <span style=\"color: #808000; text-decoration-color: #808000\">fname</span>=<span style=\"color: #008000; text-decoration-color: #008000\">'thm_ids_ds'</span>,\n",
       "    <span style=\"color: #808000; text-decoration-color: #808000\">fmt</span>=<span style=\"color: #008000; text-decoration-color: #008000\">'arrow'</span>\n",
       "<span style=\"font-weight: bold\">)</span>\n",
       "</pre>\n"
      ],
      "text/plain": [
       "\u001b[1;35mTHEMISConfig\u001b[0m\u001b[1m(\u001b[0m\n",
       "    \u001b[33mtau\u001b[0m=\u001b[1;35mdatetime\u001b[0m\u001b[1;35m.timedelta\u001b[0m\u001b[1m(\u001b[0m\u001b[33mseconds\u001b[0m=\u001b[1;36m30\u001b[0m\u001b[1m)\u001b[0m,\n",
       "    \u001b[33mts\u001b[0m=\u001b[1;35mdatetime\u001b[0m\u001b[1;35m.timedelta\u001b[0m\u001b[1m(\u001b[0m\u001b[33mseconds\u001b[0m=\u001b[1;36m1\u001b[0m\u001b[1m)\u001b[0m,\n",
       "    \u001b[33mtimerange\u001b[0m=\u001b[1m[\u001b[0m\u001b[32m'2019-04-09'\u001b[0m, \u001b[32m'2019-04-12'\u001b[0m\u001b[1m]\u001b[0m,\n",
       "    \u001b[33mmag_meta\u001b[0m=\u001b[1;35mMeta\u001b[0m\u001b[1m(\u001b[0m\u001b[33mdataset\u001b[0m=\u001b[32m'THB_L2_FGM'\u001b[0m, \u001b[33mparameters\u001b[0m=\u001b[1m[\u001b[0m\u001b[32m'thb_fgl_gse'\u001b[0m\u001b[1m]\u001b[0m\u001b[1m)\u001b[0m,\n",
       "    \u001b[33mplasma_meta\u001b[0m=\u001b[1;35mPlasmaMeta\u001b[0m\u001b[1m(\u001b[0m\n",
       "        \u001b[33mdataset\u001b[0m=\u001b[32m'THB_L2_MOM'\u001b[0m,\n",
       "        \u001b[33mparameters\u001b[0m=\u001b[1m[\u001b[0m\u001b[32m'thb_peim_densityQ'\u001b[0m, \u001b[32m'thb_peim_velocity_gseQ'\u001b[0m, \u001b[32m'thb_peim_ptotQ'\u001b[0m\u001b[1m]\u001b[0m,\n",
       "        \u001b[33mdensity_col\u001b[0m=\u001b[3;35mNone\u001b[0m,\n",
       "        \u001b[33mvelocity_cols\u001b[0m=\u001b[3;35mNone\u001b[0m,\n",
       "        \u001b[33mspeed_col\u001b[0m=\u001b[3;35mNone\u001b[0m,\n",
       "        \u001b[33mtemperature_col\u001b[0m=\u001b[3;35mNone\u001b[0m\n",
       "    \u001b[1m)\u001b[0m,\n",
       "    \u001b[33mion_temp_meta\u001b[0m=\u001b[1;35mTempMeta\u001b[0m\u001b[1m(\u001b[0m\n",
       "        \u001b[33mdataset\u001b[0m=\u001b[32m'THB_L2_MOM'\u001b[0m,\n",
       "        \u001b[33mparameters\u001b[0m=\u001b[1m[\u001b[0m\u001b[32m'thb_peim_t3_magQ'\u001b[0m\u001b[1m]\u001b[0m,\n",
       "        \u001b[33mpara_col\u001b[0m=\u001b[32m'Tz_ion FA MOM ESA-B'\u001b[0m,\n",
       "        \u001b[33mperp_cols\u001b[0m=\u001b[1m[\u001b[0m\u001b[32m'Tx_ion FA MOM ESA-B'\u001b[0m, \u001b[32m'Ty_ion FA MOM ESA-B'\u001b[0m\u001b[1m]\u001b[0m\n",
       "    \u001b[1m)\u001b[0m,\n",
       "    \u001b[33me_temp_meta\u001b[0m=\u001b[1;35mTempMeta\u001b[0m\u001b[1m(\u001b[0m\n",
       "        \u001b[33mdataset\u001b[0m=\u001b[32m'THB_L2_MOM'\u001b[0m,\n",
       "        \u001b[33mparameters\u001b[0m=\u001b[1m[\u001b[0m\u001b[32m'thb_peem_t3_magQ'\u001b[0m\u001b[1m]\u001b[0m,\n",
       "        \u001b[33mpara_col\u001b[0m=\u001b[32m'Tz_elec FA MOM ESA-B'\u001b[0m,\n",
       "        \u001b[33mperp_cols\u001b[0m=\u001b[1m[\u001b[0m\u001b[32m'Tx_elec FA MOM ESA-B'\u001b[0m, \u001b[32m'Ty_elec FA MOM ESA-B'\u001b[0m\u001b[1m]\u001b[0m\n",
       "    \u001b[1m)\u001b[0m,\n",
       "    \u001b[33mfname\u001b[0m=\u001b[32m'thm_ids_ds'\u001b[0m,\n",
       "    \u001b[33mfmt\u001b[0m=\u001b[32m'arrow'\u001b[0m\n",
       "\u001b[1m)\u001b[0m\n"
      ]
     },
     "metadata": {},
     "output_type": "display_data"
    }
   ],
   "source": [
    "enc = 2\n",
    "# timerange = [\"2019-04-10\", \"2019-04-10T01\"]\n",
    "timerange = [\"2019-04-09\", \"2019-04-12\"]\n",
    "dir = f\"../data/enc{enc}/\"\n",
    "\n",
    "wind_conf = WindConfig(\n",
    "    timerange =timerange,\n",
    "    tau=30,\n",
    ")\n",
    "\n",
    "thm_conf = THEMISConfig(\n",
    "    timerange =timerange,\n",
    "    tau=30,\n",
    ")\n",
    "\n",
    "# fname = f\"wind_ids_dataset_{enc}\"\n",
    "confs : list[IDsConfig] = [wind_conf, thm_conf]\n",
    "print(wind_conf)\n",
    "print(thm_conf)"
   ]
  },
  {
   "cell_type": "code",
   "execution_count": 37,
   "metadata": {},
   "outputs": [
    {
     "name": "stderr",
     "output_type": "stream",
     "text": [
      "22-Feb-24 09:18:59: UserWarning: Distributing <class 'pandas.core.frame.DataFrame'> object. This may take some time.\n",
      "\n"
     ]
    },
    {
     "data": {
      "application/vnd.jupyter.widget-view+json": {
       "model_id": "c6284541174c4276b280622afc101a84",
       "version_major": 2,
       "version_minor": 0
      },
      "text/plain": [
       "Distributing Dataframe:   0%           Elapsed time: 00:00, estimated remaining time: ?"
      ]
     },
     "metadata": {},
     "output_type": "display_data"
    },
    {
     "data": {
      "application/vnd.jupyter.widget-view+json": {
       "model_id": "049e6ae007994d0dbfea1d579da5065b",
       "version_major": 2,
       "version_minor": 0
      },
      "text/plain": [
       "Estimated completion of line 4:   0%           Elapsed time: 00:00, estimated remaining time: ?"
      ]
     },
     "metadata": {},
     "output_type": "display_data"
    },
    {
     "name": "stderr",
     "output_type": "stream",
     "text": [
      "22-Feb-24 09:19:02: UserWarning: Distributing <class 'pandas.core.frame.DataFrame'> object. This may take some time.\n",
      "\n"
     ]
    },
    {
     "data": {
      "application/vnd.jupyter.widget-view+json": {
       "model_id": "5417caa3e1684a8d928eac92e1176a63",
       "version_major": 2,
       "version_minor": 0
      },
      "text/plain": [
       "Distributing Dataframe:   0%           Elapsed time: 00:00, estimated remaining time: ?"
      ]
     },
     "metadata": {},
     "output_type": "display_data"
    }
   ],
   "source": [
    "from utils import calc_pressure_anisotropy\n",
    "\n",
    "for conf in confs:\n",
    "    ids = conf.get_and_process_data().find_events().update_candidates_with_plasma_data()\n",
    "    path = f\"{dir}/{conf.fname}.{conf.fmt}\"\n",
    "    \n",
    "    ids.events = ids.events.sort(\"time\").join_asof(\n",
    "        conf.e_temp_df.collect().sort(\"time\"), on =\"time\"\n",
    "    ).join_asof(\n",
    "        conf.ion_temp_df.collect().sort(\"time\"), on =\"time\"\n",
    "    ).pipe(calc_pressure_anisotropy)\n",
    "    \n",
    "    ids.export(path)"
   ]
  },
  {
   "cell_type": "code",
   "execution_count": null,
   "metadata": {},
   "outputs": [],
   "source": [
    "# | label: fig-data-products\n",
    "import speasy as spz\n",
    "from speasy import SpeasyVariable\n",
    "import matplotlib.pyplot as plt\n",
    "\n",
    "products = [\n",
    "    \"cda/THB_L2_MOM/thb_peem_t3_magQ\",\n",
    "    \"cda/THB_L2_MOM/thb_peim_t3_magQ\",\n",
    "    \"cda/WI_ELM2_3DP/MAGT3\",\n",
    "    # \"cda/WI_PLSP_3DP/MOM.P.MAGF\",\n",
    "]"
   ]
  },
  {
   "cell_type": "code",
   "execution_count": null,
   "metadata": {},
   "outputs": [],
   "source": [
    "earth_start = \"2019-04-09\"\n",
    "earth_end = \"2019-04-12\"\n",
    "timerange = (earth_start, earth_end)"
   ]
  }
 ],
 "metadata": {
  "kernelspec": {
   "display_name": "Python 3",
   "language": "python",
   "name": "python3"
  },
  "language_info": {
   "codemirror_mode": {
    "name": "ipython",
    "version": 3
   },
   "file_extension": ".py",
   "mimetype": "text/x-python",
   "name": "python",
   "nbconvert_exporter": "python",
   "pygments_lexer": "ipython3",
   "version": "3.11.7"
  }
 },
 "nbformat": 4,
 "nbformat_minor": 2
}

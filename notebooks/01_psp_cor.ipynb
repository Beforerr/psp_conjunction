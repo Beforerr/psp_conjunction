{
 "cells": [
  {
   "cell_type": "code",
   "execution_count": 135,
   "metadata": {},
   "outputs": [],
   "source": [
    "\n",
    "import pyspedas\n",
    "from pytplot import tplot, get_data\n",
    "from pyspedas import tinterp\n",
    "from pyspedas.analysis.tvectot import tvectot\n",
    "import matplotlib.pyplot as plt\n",
    "\n",
    "import xarray as xr\n",
    "import polars as pl\n",
    "import polars.selectors as cs\n",
    "\n",
    "import hvplot.polars\n",
    "\n",
    "import scipy.stats\n",
    "import dcor\n",
    "\n",
    "import astropy.units as u\n"
   ]
  },
  {
   "cell_type": "code",
   "execution_count": 110,
   "metadata": {},
   "outputs": [],
   "source": [
    "from datetimerange import DateTimeRange\n",
    "from sunpy.time import TimeRange\n",
    "from numpy import timedelta64\n",
    "from datetime import datetime, timedelta"
   ]
  },
  {
   "cell_type": "code",
   "execution_count": 111,
   "metadata": {},
   "outputs": [],
   "source": [
    "start = '2019-04-06T12:00'\n",
    "end = '2019-04-07T12:00'\n",
    "\n",
    "earth_start = '2019-04-09'\n",
    "earth_end = '2019-04-14'"
   ]
  },
  {
   "cell_type": "code",
   "execution_count": 112,
   "metadata": {},
   "outputs": [],
   "source": [
    "psp_timerange = TimeRange(start, end)\n",
    "\n",
    "timerange_earth = TimeRange(earth_start, earth_end)"
   ]
  },
  {
   "cell_type": "code",
   "execution_count": 115,
   "metadata": {},
   "outputs": [],
   "source": [
    "\n",
    "def validate(timerange):\n",
    "    if isinstance(timerange, DateTimeRange):\n",
    "        return [timerange.get_start_time_str(), timerange.get_end_time_str()]\n",
    "    if isinstance(timerange, TimeRange):\n",
    "        return [timerange.start.to_string(), timerange.end.to_string()]"
   ]
  },
  {
   "cell_type": "markdown",
   "metadata": {},
   "source": [
    "## Estimate of arrival time"
   ]
  },
  {
   "cell_type": "code",
   "execution_count": 138,
   "metadata": {},
   "outputs": [
    {
     "name": "stderr",
     "output_type": "stream",
     "text": [
      "29-Jan-24 15:33:27: Downloading remote index: https://spdf.gsfc.nasa.gov/pub/data/psp/sweap/spi/l3/spi_sf00_l3_mom/2019/\n"
     ]
    },
    {
     "name": "stdout",
     "output_type": "stream",
     "text": [
      "Using LEVEL=L3\n"
     ]
    },
    {
     "name": "stderr",
     "output_type": "stream",
     "text": [
      "29-Jan-24 15:33:28: File is current: /Users/zijin/data/psp/sweap/spi/l3/spi_sf00_l3_mom/2019/psp_swp_spi_sf00_l3_mom_20190406_v04.cdf\n",
      "29-Jan-24 15:33:28: File is current: /Users/zijin/data/psp/sweap/spi/l3/spi_sf00_l3_mom/2019/psp_swp_spi_sf00_l3_mom_20190407_v04.cdf\n"
     ]
    }
   ],
   "source": [
    "psp_spi_vars = pyspedas.psp.spi(trange=validate(psp_timerange), time_clip=True)\n",
    "\n",
    "tvar = tvectot(\"psp_spi_VEL_RTN_SUN\")\n",
    "psp_ion_speed: xr.DataArray = get_data(tvar, xarray=True)\n",
    "\n",
    "r_psp = get_data('psp_spi_SUN_DIST', xarray=True)\n",
    "# r_psp = pl.DataFrame(r_psp.to_dataframe().reset_index())"
   ]
  },
  {
   "cell_type": "code",
   "execution_count": 140,
   "metadata": {},
   "outputs": [],
   "source": [
    "df_info = pl.DataFrame(r_psp.to_dataframe().join(psp_ion_speed.to_dataframe()).reset_index())"
   ]
  },
  {
   "cell_type": "code",
   "execution_count": 143,
   "metadata": {},
   "outputs": [
    {
     "data": {
      "text/html": [
       "<div><style>\n",
       ".dataframe > thead > tr,\n",
       ".dataframe > tbody > tr {\n",
       "  text-align: right;\n",
       "  white-space: pre-wrap;\n",
       "}\n",
       "</style>\n",
       "<small>shape: (24, 11)</small><table border=\"1\" class=\"dataframe\"><thead><tr><th>time</th><th>psp_spi_SUN_DIST</th><th>psp_spi_VEL_RTN_SUN_tot</th><th>distance2sun</th><th>distance2earth</th><th>dt2arrival</th><th>dt2arrival_slow</th><th>dt2arrival_fast</th><th>time2arrival</th><th>time2arrival_slow</th><th>time2arrival_fast</th></tr><tr><td>datetime[ns]</td><td>f64</td><td>f32</td><td>f64</td><td>f64</td><td>duration[μs]</td><td>duration[μs]</td><td>duration[μs]</td><td>datetime[μs]</td><td>datetime[μs]</td><td>datetime[μs]</td></tr></thead><tbody><tr><td>2019-04-06 12:00:00</td><td>2.6162e7</td><td>289.611786</td><td>0.174885</td><td>0.825115</td><td>4d 22h 23m 30s</td><td>5d 17h 9m 1s</td><td>2d 20h 34m 30s</td><td>2019-04-11 10:23:30</td><td>2019-04-12 05:09:01</td><td>2019-04-09 08:34:30</td></tr><tr><td>2019-04-06 13:00:00</td><td>2.6231e7</td><td>273.515167</td><td>0.175347</td><td>0.824653</td><td>5d 5h 17m 20s</td><td>5d 17h 4m 25s</td><td>2d 20h 32m 12s</td><td>2019-04-11 18:17:20</td><td>2019-04-12 06:04:25</td><td>2019-04-09 09:32:12</td></tr><tr><td>2019-04-06 14:00:00</td><td>2.6302e7</td><td>255.006729</td><td>0.175819</td><td>0.824181</td><td>5d 14h 18m 20s</td><td>5d 16h 59m 43s</td><td>2d 20h 29m 51s</td><td>2019-04-12 04:18:20</td><td>2019-04-12 06:59:43</td><td>2019-04-09 10:29:51</td></tr><tr><td>2019-04-06 15:00:00</td><td>2.6374e7</td><td>243.91748</td><td>0.1763</td><td>0.8237</td><td>5d 20h 19m 46s</td><td>5d 16h 54m 55s</td><td>2d 20h 27m 27s</td><td>2019-04-12 11:19:46</td><td>2019-04-12 07:54:55</td><td>2019-04-09 11:27:27</td></tr><tr><td>2019-04-06 16:00:00</td><td>2.6448e7</td><td>244.805847</td><td>0.176796</td><td>0.823204</td><td>5d 19h 44m 9s</td><td>5d 16h 49m 58s</td><td>2d 20h 24m 59s</td><td>2019-04-12 11:44:09</td><td>2019-04-12 08:49:58</td><td>2019-04-09 12:24:59</td></tr><tr><td>2019-04-06 17:00:00</td><td>2.6523e7</td><td>232.988617</td><td>0.177294</td><td>0.822706</td><td>6d 2h 44m 4s</td><td>5d 16h 45m</td><td>2d 20h 22m 30s</td><td>2019-04-12 19:44:04</td><td>2019-04-12 09:45:00</td><td>2019-04-09 13:22:30</td></tr><tr><td>2019-04-06 18:00:00</td><td>2.6599e7</td><td>224.188614</td><td>0.177805</td><td>0.822195</td><td>6d 8h 23m 58s</td><td>5d 16h 39m 54s</td><td>2d 20h 19m 57s</td><td>2019-04-13 02:23:58</td><td>2019-04-12 10:39:54</td><td>2019-04-09 14:19:57</td></tr><tr><td>2019-04-06 19:00:00</td><td>2.6677e7</td><td>222.26709</td><td>0.178326</td><td>0.821674</td><td>6d 9h 37m 11s</td><td>5d 16h 34m 42s</td><td>2d 20h 17m 21s</td><td>2019-04-13 04:37:11</td><td>2019-04-12 11:34:42</td><td>2019-04-09 15:17:21</td></tr><tr><td>2019-04-06 20:00:00</td><td>2.6757e7</td><td>234.130203</td><td>0.178857</td><td>0.821143</td><td>6d 1h 44m 30s</td><td>5d 16h 29m 25s</td><td>2d 20h 14m 42s</td><td>2019-04-12 21:44:30</td><td>2019-04-12 12:29:25</td><td>2019-04-09 16:14:42</td></tr><tr><td>2019-04-06 21:00:00</td><td>2.6837e7</td><td>237.631592</td><td>0.179396</td><td>0.820604</td><td>5d 23h 30m</td><td>5d 16h 24m 2s</td><td>2d 20h 12m 1s</td><td>2019-04-12 20:30:00</td><td>2019-04-12 13:24:02</td><td>2019-04-09 17:12:01</td></tr><tr><td>2019-04-06 22:00:00</td><td>2.6919e7</td><td>307.80896</td><td>0.179945</td><td>0.820055</td><td>4d 14h 42m 34s</td><td>5d 16h 18m 34s</td><td>2d 20h 9m 17s</td><td>2019-04-11 12:42:34</td><td>2019-04-12 14:18:34</td><td>2019-04-09 18:09:17</td></tr><tr><td>2019-04-06 23:00:00</td><td>2.7003e7</td><td>344.912201</td><td>0.180502</td><td>0.819498</td><td>4d 2h 43m 58s</td><td>5d 16h 13m</td><td>2d 20h 6m 30s</td><td>2019-04-11 01:43:58</td><td>2019-04-12 15:13:00</td><td>2019-04-09 19:06:30</td></tr><tr><td>2019-04-07 00:00:00</td><td>2.7087e7</td><td>355.850494</td><td>0.181069</td><td>0.818931</td><td>3d 23h 37m 54s</td><td>5d 16h 7m 21s</td><td>2d 20h 3m 40s</td><td>2019-04-10 23:37:54</td><td>2019-04-12 16:07:21</td><td>2019-04-09 20:03:40</td></tr><tr><td>2019-04-07 01:00:00</td><td>2.7174e7</td><td>392.575317</td><td>0.181644</td><td>0.818356</td><td>3d 14h 37m 29s</td><td>5d 16h 1m 37s</td><td>2d 20h 48s</td><td>2019-04-10 15:37:29</td><td>2019-04-12 17:01:37</td><td>2019-04-09 21:00:48</td></tr><tr><td>2019-04-07 02:00:00</td><td>2.7261e7</td><td>362.412781</td><td>0.182228</td><td>0.817772</td><td>3d 21h 46m 2s</td><td>5d 15h 55m 47s</td><td>2d 19h 57m 53s</td><td>2019-04-10 23:46:02</td><td>2019-04-12 17:55:47</td><td>2019-04-09 21:57:53</td></tr><tr><td>2019-04-07 03:00:00</td><td>2.7349e7</td><td>379.650299</td><td>0.182819</td><td>0.817181</td><td>3d 17h 26m 42s</td><td>5d 15h 49m 53s</td><td>2d 19h 54m 56s</td><td>2019-04-10 20:26:42</td><td>2019-04-12 18:49:53</td><td>2019-04-09 22:54:56</td></tr><tr><td>2019-04-07 04:00:00</td><td>2.7440e7</td><td>395.427307</td><td>0.183425</td><td>0.816575</td><td>3d 13h 48m 46s</td><td>5d 15h 43m 51s</td><td>2d 19h 51m 55s</td><td>2019-04-10 17:48:46</td><td>2019-04-12 19:43:51</td><td>2019-04-09 23:51:55</td></tr><tr><td>2019-04-07 05:00:00</td><td>2.7530e7</td><td>390.717957</td><td>0.184029</td><td>0.815971</td><td>3d 14h 46m 58s</td><td>5d 15h 37m 49s</td><td>2d 19h 48m 54s</td><td>2019-04-10 19:46:58</td><td>2019-04-12 20:37:49</td><td>2019-04-10 00:48:54</td></tr><tr><td>2019-04-07 06:00:00</td><td>2.7623e7</td><td>403.930115</td><td>0.184646</td><td>0.815354</td><td>3d 11h 52m 51s</td><td>5d 15h 31m 40s</td><td>2d 19h 45m 50s</td><td>2019-04-10 17:52:51</td><td>2019-04-12 21:31:40</td><td>2019-04-10 01:45:50</td></tr><tr><td>2019-04-07 07:00:00</td><td>2.7716e7</td><td>413.059479</td><td>0.185271</td><td>0.814729</td><td>3d 9h 57m 50s</td><td>5d 15h 25m 26s</td><td>2d 19h 42m 43s</td><td>2019-04-10 16:57:50</td><td>2019-04-12 22:25:26</td><td>2019-04-10 02:42:43</td></tr><tr><td>2019-04-07 08:00:00</td><td>2.7811e7</td><td>388.398651</td><td>0.185904</td><td>0.814096</td><td>3d 15h 6m 2s</td><td>5d 15h 19m 8s</td><td>2d 19h 39m 34s</td><td>2019-04-10 23:06:02</td><td>2019-04-12 23:19:08</td><td>2019-04-10 03:39:34</td></tr><tr><td>2019-04-07 09:00:00</td><td>2.7907e7</td><td>369.630157</td><td>0.186544</td><td>0.813456</td><td>3d 19h 27m 4s</td><td>5d 15h 12m 45s</td><td>2d 19h 36m 22s</td><td>2019-04-11 04:27:04</td><td>2019-04-13 00:12:45</td><td>2019-04-10 04:36:22</td></tr><tr><td>2019-04-07 10:00:00</td><td>2.8003e7</td><td>330.248749</td><td>0.187192</td><td>0.812808</td><td>4d 6h 16m 30s</td><td>5d 15h 6m 17s</td><td>2d 19h 33m 8s</td><td>2019-04-11 16:16:30</td><td>2019-04-13 01:06:17</td><td>2019-04-10 05:33:08</td></tr><tr><td>2019-04-07 11:00:00</td><td>2.8102e7</td><td>299.601105</td><td>0.187847</td><td>0.812153</td><td>4d 16h 38m 47s</td><td>5d 14h 59m 45s</td><td>2d 19h 29m 52s</td><td>2019-04-12 03:38:47</td><td>2019-04-13 01:59:45</td><td>2019-04-10 06:29:52</td></tr></tbody></table></div>"
      ],
      "text/plain": [
       "shape: (24, 11)\n",
       "┌───────────┬───────────┬───────────┬───────────┬───┬───────────┬───────────┬───────────┬──────────┐\n",
       "│ time      ┆ psp_spi_S ┆ psp_spi_V ┆ distance2 ┆ … ┆ dt2arriva ┆ time2arri ┆ time2arri ┆ time2arr │\n",
       "│ ---       ┆ UN_DIST   ┆ EL_RTN_SU ┆ sun       ┆   ┆ l_fast    ┆ val       ┆ val_slow  ┆ ival_fas │\n",
       "│ datetime[ ┆ ---       ┆ N_tot     ┆ ---       ┆   ┆ ---       ┆ ---       ┆ ---       ┆ t        │\n",
       "│ ns]       ┆ f64       ┆ ---       ┆ f64       ┆   ┆ duration[ ┆ datetime[ ┆ datetime[ ┆ ---      │\n",
       "│           ┆           ┆ f32       ┆           ┆   ┆ μs]       ┆ μs]       ┆ μs]       ┆ datetime │\n",
       "│           ┆           ┆           ┆           ┆   ┆           ┆           ┆           ┆ [μs]     │\n",
       "╞═══════════╪═══════════╪═══════════╪═══════════╪═══╪═══════════╪═══════════╪═══════════╪══════════╡\n",
       "│ 2019-04-0 ┆ 2.6162e7  ┆ 289.61178 ┆ 0.174885  ┆ … ┆ 2d 20h    ┆ 2019-04-1 ┆ 2019-04-1 ┆ 2019-04- │\n",
       "│ 6         ┆           ┆ 6         ┆           ┆   ┆ 34m 30s   ┆ 1         ┆ 2         ┆ 09       │\n",
       "│ 12:00:00  ┆           ┆           ┆           ┆   ┆           ┆ 10:23:30  ┆ 05:09:01  ┆ 08:34:30 │\n",
       "│ 2019-04-0 ┆ 2.6231e7  ┆ 273.51516 ┆ 0.175347  ┆ … ┆ 2d 20h    ┆ 2019-04-1 ┆ 2019-04-1 ┆ 2019-04- │\n",
       "│ 6         ┆           ┆ 7         ┆           ┆   ┆ 32m 12s   ┆ 1         ┆ 2         ┆ 09       │\n",
       "│ 13:00:00  ┆           ┆           ┆           ┆   ┆           ┆ 18:17:20  ┆ 06:04:25  ┆ 09:32:12 │\n",
       "│ 2019-04-0 ┆ 2.6302e7  ┆ 255.00672 ┆ 0.175819  ┆ … ┆ 2d 20h    ┆ 2019-04-1 ┆ 2019-04-1 ┆ 2019-04- │\n",
       "│ 6         ┆           ┆ 9         ┆           ┆   ┆ 29m 51s   ┆ 2         ┆ 2         ┆ 09       │\n",
       "│ 14:00:00  ┆           ┆           ┆           ┆   ┆           ┆ 04:18:20  ┆ 06:59:43  ┆ 10:29:51 │\n",
       "│ 2019-04-0 ┆ 2.6374e7  ┆ 243.91748 ┆ 0.1763    ┆ … ┆ 2d 20h    ┆ 2019-04-1 ┆ 2019-04-1 ┆ 2019-04- │\n",
       "│ 6         ┆           ┆           ┆           ┆   ┆ 27m 27s   ┆ 2         ┆ 2         ┆ 09       │\n",
       "│ 15:00:00  ┆           ┆           ┆           ┆   ┆           ┆ 11:19:46  ┆ 07:54:55  ┆ 11:27:27 │\n",
       "│ 2019-04-0 ┆ 2.6448e7  ┆ 244.80584 ┆ 0.176796  ┆ … ┆ 2d 20h    ┆ 2019-04-1 ┆ 2019-04-1 ┆ 2019-04- │\n",
       "│ 6         ┆           ┆ 7         ┆           ┆   ┆ 24m 59s   ┆ 2         ┆ 2         ┆ 09       │\n",
       "│ 16:00:00  ┆           ┆           ┆           ┆   ┆           ┆ 11:44:09  ┆ 08:49:58  ┆ 12:24:59 │\n",
       "│ …         ┆ …         ┆ …         ┆ …         ┆ … ┆ …         ┆ …         ┆ …         ┆ …        │\n",
       "│ 2019-04-0 ┆ 2.7716e7  ┆ 413.05947 ┆ 0.185271  ┆ … ┆ 2d 19h    ┆ 2019-04-1 ┆ 2019-04-1 ┆ 2019-04- │\n",
       "│ 7         ┆           ┆ 9         ┆           ┆   ┆ 42m 43s   ┆ 0         ┆ 2         ┆ 10       │\n",
       "│ 07:00:00  ┆           ┆           ┆           ┆   ┆           ┆ 16:57:50  ┆ 22:25:26  ┆ 02:42:43 │\n",
       "│ 2019-04-0 ┆ 2.7811e7  ┆ 388.39865 ┆ 0.185904  ┆ … ┆ 2d 19h    ┆ 2019-04-1 ┆ 2019-04-1 ┆ 2019-04- │\n",
       "│ 7         ┆           ┆ 1         ┆           ┆   ┆ 39m 34s   ┆ 0         ┆ 2         ┆ 10       │\n",
       "│ 08:00:00  ┆           ┆           ┆           ┆   ┆           ┆ 23:06:02  ┆ 23:19:08  ┆ 03:39:34 │\n",
       "│ 2019-04-0 ┆ 2.7907e7  ┆ 369.63015 ┆ 0.186544  ┆ … ┆ 2d 19h    ┆ 2019-04-1 ┆ 2019-04-1 ┆ 2019-04- │\n",
       "│ 7         ┆           ┆ 7         ┆           ┆   ┆ 36m 22s   ┆ 1         ┆ 3         ┆ 10       │\n",
       "│ 09:00:00  ┆           ┆           ┆           ┆   ┆           ┆ 04:27:04  ┆ 00:12:45  ┆ 04:36:22 │\n",
       "│ 2019-04-0 ┆ 2.8003e7  ┆ 330.24874 ┆ 0.187192  ┆ … ┆ 2d 19h    ┆ 2019-04-1 ┆ 2019-04-1 ┆ 2019-04- │\n",
       "│ 7         ┆           ┆ 9         ┆           ┆   ┆ 33m 8s    ┆ 1         ┆ 3         ┆ 10       │\n",
       "│ 10:00:00  ┆           ┆           ┆           ┆   ┆           ┆ 16:16:30  ┆ 01:06:17  ┆ 05:33:08 │\n",
       "│ 2019-04-0 ┆ 2.8102e7  ┆ 299.60110 ┆ 0.187847  ┆ … ┆ 2d 19h    ┆ 2019-04-1 ┆ 2019-04-1 ┆ 2019-04- │\n",
       "│ 7         ┆           ┆ 5         ┆           ┆   ┆ 29m 52s   ┆ 2         ┆ 3         ┆ 10       │\n",
       "│ 11:00:00  ┆           ┆           ┆           ┆   ┆           ┆ 03:38:47  ┆ 01:59:45  ┆ 06:29:52 │\n",
       "└───────────┴───────────┴───────────┴───────────┴───┴───────────┴───────────┴───────────┴──────────┘"
      ]
     },
     "execution_count": 143,
     "metadata": {},
     "output_type": "execute_result"
    }
   ],
   "source": [
    "km2au = u.km.to(u.AU)\n",
    "r_earth = 1 * u.AU.to(u.km)\n",
    "v_sw_slow = 250 * u.km / u.s\n",
    "v_sw_fast = 500 * u.km / u.s\n",
    "\n",
    "df_info.sort('time').group_by_dynamic('time', every='1h').agg(cs.float().mean()).with_columns(\n",
    "    distance2sun = pl.col('psp_spi_SUN_DIST'),\n",
    "    distance2earth = r_earth - pl.col('psp_spi_SUN_DIST')\n",
    ").with_columns(\n",
    "    dt2arrival = pl.duration(seconds = pl.col('distance2earth') / pl.col('psp_spi_VEL_RTN_SUN_tot')),\n",
    "    dt2arrival_slow = pl.duration(seconds = pl.col('distance2earth') / v_sw_slow),\n",
    "    dt2arrival_fast = pl.duration(seconds = pl.col('distance2earth') / v_sw_fast)\n",
    ").with_columns(\n",
    "    time2arrival = pl.col('time') + pl.col('dt2arrival'),\n",
    "    time2arrival_slow = pl.col('time') + pl.col('dt2arrival_slow'),\n",
    "    time2arrival_fast = pl.col('time') + pl.col('dt2arrival_fast')\n",
    ").with_columns(\n",
    "    distance2sun = pl.col('distance2sun') * km2au,\n",
    "    distance2earth = pl.col('distance2earth') * km2au\n",
    ")"
   ]
  },
  {
   "cell_type": "markdown",
   "metadata": {},
   "source": [
    "## Get velocity"
   ]
  },
  {
   "cell_type": "code",
   "execution_count": 118,
   "metadata": {},
   "outputs": [
    {
     "name": "stderr",
     "output_type": "stream",
     "text": [
      "29-Jan-24 14:35:31: Downloading remote index: https://spdf.gsfc.nasa.gov/pub/data/psp/sweap/spi/l3/spi_sf00_l3_mom/2019/\n"
     ]
    },
    {
     "name": "stdout",
     "output_type": "stream",
     "text": [
      "Using LEVEL=L3\n"
     ]
    },
    {
     "name": "stderr",
     "output_type": "stream",
     "text": [
      "29-Jan-24 14:35:31: File is current: /Users/zijin/data/psp/sweap/spi/l3/spi_sf00_l3_mom/2019/psp_swp_spi_sf00_l3_mom_20190406_v04.cdf\n",
      "29-Jan-24 14:35:31: File is current: /Users/zijin/data/psp/sweap/spi/l3/spi_sf00_l3_mom/2019/psp_swp_spi_sf00_l3_mom_20190407_v04.cdf\n",
      "29-Jan-24 14:35:32: Downloading remote index: https://spdf.gsfc.nasa.gov/pub/data/ace/swepam/level_2_cdaweb/swe_h0/2019/\n",
      "29-Jan-24 14:35:32: File is current: /Users/zijin/data/ace/swepam/level_2_cdaweb/swe_h0/2019/ac_h0_swe_20190409_v11.cdf\n",
      "29-Jan-24 14:35:33: File is current: /Users/zijin/data/ace/swepam/level_2_cdaweb/swe_h0/2019/ac_h0_swe_20190410_v11.cdf\n",
      "29-Jan-24 14:35:33: File is current: /Users/zijin/data/ace/swepam/level_2_cdaweb/swe_h0/2019/ac_h0_swe_20190411_v11.cdf\n",
      "29-Jan-24 14:35:33: File is current: /Users/zijin/data/ace/swepam/level_2_cdaweb/swe_h0/2019/ac_h0_swe_20190412_v11.cdf\n",
      "29-Jan-24 14:35:33: File is current: /Users/zijin/data/ace/swepam/level_2_cdaweb/swe_h0/2019/ac_h0_swe_20190413_v11.cdf\n"
     ]
    }
   ],
   "source": [
    "psp_spi_vars = pyspedas.psp.spi(trange=validate(psp_timerange), time_clip=True)\n",
    "swe_vars = pyspedas.ace.swe(trange=validate(timerange_earth), datatype = 'h0')"
   ]
  },
  {
   "cell_type": "code",
   "execution_count": 119,
   "metadata": {},
   "outputs": [],
   "source": [
    "tvar = tvectot(\"psp_spi_VEL_RTN_SUN\")\n",
    "psp_ion_speed: xr.DataArray = get_data(tvar, xarray=True)\n",
    "\n",
    "ace_ion_speed: xr.DataArray = get_data(\"Vp\", xarray=True)"
   ]
  },
  {
   "cell_type": "code",
   "execution_count": 120,
   "metadata": {},
   "outputs": [
    {
     "name": "stderr",
     "output_type": "stream",
     "text": [
      "29-Jan-24 14:35:35: /Users/zijin/micromamba/envs/psp_conjunction/lib/python3.11/site-packages/dcor/_fast_dcov_avl.py:554: UserWarning: Falling back to uncompiled AVL fast distance covariance terms because of TypeError exception raised: No matching definition for argument type(s) array(float64, 1d, C), array(float32, 1d, C), bool. Rembember: only floating point values can be used in the compiled implementations.\n",
      "  warnings.warn(\n",
      "\n"
     ]
    }
   ],
   "source": [
    "def calc_correlation(\n",
    "    v1: xr.DataArray,\n",
    "    v2: xr.DataArray,\n",
    "    v1_timerange: TimeRange,\n",
    "    v2_timerange: TimeRange,\n",
    "    cadence: timedelta = timedelta(minutes=10),\n",
    "    window: timedelta = timedelta(hours=1),\n",
    "):\n",
    "    v1 = v1.dropna(\"time\").sel(time=slice(v1_timerange.start.to_datetime(), v1_timerange.end.to_datetime()))\n",
    "    v2 = v2.dropna(\"time\").sel(time=slice(v2_timerange.start.to_datetime(), v2_timerange.end.to_datetime()))\n",
    "    v1_start = v1_timerange.start.to_datetime()\n",
    "    v1_end = v1_timerange.end.to_datetime()\n",
    "    \n",
    "    results = []\n",
    "    for temp_tr in v2_timerange.window(cadence=cadence, window=window):\n",
    "        v2_temp_start = temp_tr.start.to_datetime()\n",
    "        v2_temp_end = temp_tr.end.to_datetime()\n",
    "        \n",
    "        v2_temp = v2.sel(time = slice(v2_temp_start, v2_temp_end))\n",
    "        v2_temp[\"time\"] = v2_temp[\"time\"] - timedelta64(v2_temp_start - v1_start)\n",
    "        v1_temp = v1.interp_like(v2_temp)\n",
    "\n",
    "        pearsonr = scipy.stats.pearsonr(v1_temp, v2_temp).statistic\n",
    "        distance_correlation = dcor.distance_correlation(v1_temp, v2_temp)\n",
    "        results.append([v1_start, v1_end, v2_temp_start, v2_temp_end, pearsonr, distance_correlation])\n",
    "\n",
    "    return pl.DataFrame(results, schema=[\"v1_start\", \"v1_end\", \"v2_start\", \"v2_end\", \"Pearson correlation\", \"Distance correlation\"])\n"
   ]
  },
  {
   "cell_type": "code",
   "execution_count": null,
   "metadata": {},
   "outputs": [],
   "source": [
    "\n",
    "window = (psp_timerange.end - psp_timerange.start)\n",
    "cadence = timedelta(minutes=10)\n",
    "\n",
    "df = calc_correlation(\n",
    "    psp_ion_speed,\n",
    "    ace_ion_speed,\n",
    "    psp_timerange,\n",
    "    timerange_earth,\n",
    "    cadence = cadence,\n",
    "    window = window,\n",
    ")"
   ]
  },
  {
   "cell_type": "code",
   "execution_count": 129,
   "metadata": {},
   "outputs": [
    {
     "data": {
      "text/html": [
       "<div><style>\n",
       ".dataframe > thead > tr,\n",
       ".dataframe > tbody > tr {\n",
       "  text-align: right;\n",
       "  white-space: pre-wrap;\n",
       "}\n",
       "</style>\n",
       "<small>shape: (578, 6)</small><table border=\"1\" class=\"dataframe\"><thead><tr><th>v1_start</th><th>v1_end</th><th>v2_start</th><th>v2_end</th><th>Pearson correlation</th><th>Distance correlation</th></tr><tr><td>datetime[μs]</td><td>datetime[μs]</td><td>datetime[μs]</td><td>datetime[μs]</td><td>f64</td><td>f64</td></tr></thead><tbody><tr><td>2019-04-06 12:00:00</td><td>2019-04-07 12:00:00</td><td>2019-04-09 00:00:00</td><td>2019-04-10 00:00:00</td><td>0.129733</td><td>0.295187</td></tr><tr><td>2019-04-06 12:00:00</td><td>2019-04-07 12:00:00</td><td>2019-04-09 00:10:00</td><td>2019-04-10 00:10:00</td><td>0.115776</td><td>0.290461</td></tr><tr><td>2019-04-06 12:00:00</td><td>2019-04-07 12:00:00</td><td>2019-04-09 00:20:00</td><td>2019-04-10 00:20:00</td><td>0.125829</td><td>0.295799</td></tr><tr><td>2019-04-06 12:00:00</td><td>2019-04-07 12:00:00</td><td>2019-04-09 00:30:00</td><td>2019-04-10 00:30:00</td><td>0.134056</td><td>0.299338</td></tr><tr><td>2019-04-06 12:00:00</td><td>2019-04-07 12:00:00</td><td>2019-04-09 00:40:00</td><td>2019-04-10 00:40:00</td><td>0.141806</td><td>0.309491</td></tr><tr><td>2019-04-06 12:00:00</td><td>2019-04-07 12:00:00</td><td>2019-04-09 00:50:00</td><td>2019-04-10 00:50:00</td><td>0.137222</td><td>0.310114</td></tr><tr><td>2019-04-06 12:00:00</td><td>2019-04-07 12:00:00</td><td>2019-04-09 01:00:00</td><td>2019-04-10 01:00:00</td><td>0.130128</td><td>0.307473</td></tr><tr><td>2019-04-06 12:00:00</td><td>2019-04-07 12:00:00</td><td>2019-04-09 01:10:00</td><td>2019-04-10 01:10:00</td><td>0.132468</td><td>0.314047</td></tr><tr><td>2019-04-06 12:00:00</td><td>2019-04-07 12:00:00</td><td>2019-04-09 01:20:00</td><td>2019-04-10 01:20:00</td><td>0.137969</td><td>0.310688</td></tr><tr><td>2019-04-06 12:00:00</td><td>2019-04-07 12:00:00</td><td>2019-04-09 01:30:00</td><td>2019-04-10 01:30:00</td><td>0.153246</td><td>0.316048</td></tr><tr><td>2019-04-06 12:00:00</td><td>2019-04-07 12:00:00</td><td>2019-04-09 01:40:00</td><td>2019-04-10 01:40:00</td><td>0.169566</td><td>0.320866</td></tr><tr><td>2019-04-06 12:00:00</td><td>2019-04-07 12:00:00</td><td>2019-04-09 01:50:00</td><td>2019-04-10 01:50:00</td><td>0.167484</td><td>0.325138</td></tr><tr><td>&hellip;</td><td>&hellip;</td><td>&hellip;</td><td>&hellip;</td><td>&hellip;</td><td>&hellip;</td></tr><tr><td>2019-04-06 12:00:00</td><td>2019-04-07 12:00:00</td><td>2019-04-12 22:20:00</td><td>2019-04-13 22:20:00</td><td>-0.75871</td><td>0.797919</td></tr><tr><td>2019-04-06 12:00:00</td><td>2019-04-07 12:00:00</td><td>2019-04-12 22:30:00</td><td>2019-04-13 22:30:00</td><td>-0.769157</td><td>0.807681</td></tr><tr><td>2019-04-06 12:00:00</td><td>2019-04-07 12:00:00</td><td>2019-04-12 22:40:00</td><td>2019-04-13 22:40:00</td><td>-0.772618</td><td>0.81499</td></tr><tr><td>2019-04-06 12:00:00</td><td>2019-04-07 12:00:00</td><td>2019-04-12 22:50:00</td><td>2019-04-13 22:50:00</td><td>-0.78226</td><td>0.825125</td></tr><tr><td>2019-04-06 12:00:00</td><td>2019-04-07 12:00:00</td><td>2019-04-12 23:00:00</td><td>2019-04-13 23:00:00</td><td>-0.788294</td><td>0.830554</td></tr><tr><td>2019-04-06 12:00:00</td><td>2019-04-07 12:00:00</td><td>2019-04-12 23:10:00</td><td>2019-04-13 23:10:00</td><td>-0.783344</td><td>0.829585</td></tr><tr><td>2019-04-06 12:00:00</td><td>2019-04-07 12:00:00</td><td>2019-04-12 23:20:00</td><td>2019-04-13 23:20:00</td><td>-0.788571</td><td>0.834751</td></tr><tr><td>2019-04-06 12:00:00</td><td>2019-04-07 12:00:00</td><td>2019-04-12 23:30:00</td><td>2019-04-13 23:30:00</td><td>-0.787044</td><td>0.837541</td></tr><tr><td>2019-04-06 12:00:00</td><td>2019-04-07 12:00:00</td><td>2019-04-12 23:40:00</td><td>2019-04-13 23:40:00</td><td>-0.788278</td><td>0.841798</td></tr><tr><td>2019-04-06 12:00:00</td><td>2019-04-07 12:00:00</td><td>2019-04-12 23:50:00</td><td>2019-04-13 23:50:00</td><td>-0.785141</td><td>0.839557</td></tr><tr><td>2019-04-06 12:00:00</td><td>2019-04-07 12:00:00</td><td>2019-04-13 00:00:00</td><td>2019-04-14 00:00:00</td><td>-0.777335</td><td>0.835922</td></tr><tr><td>2019-04-06 12:00:00</td><td>2019-04-07 12:00:00</td><td>2019-04-13 00:10:00</td><td>2019-04-14 00:10:00</td><td>-0.779654</td><td>0.840022</td></tr></tbody></table></div>"
      ],
      "text/plain": [
       "shape: (578, 6)\n",
       "┌────────────────┬────────────────┬────────────────┬───────────────┬───────────────┬───────────────┐\n",
       "│ v1_start       ┆ v1_end         ┆ v2_start       ┆ v2_end        ┆ Pearson       ┆ Distance      │\n",
       "│ ---            ┆ ---            ┆ ---            ┆ ---           ┆ correlation   ┆ correlation   │\n",
       "│ datetime[μs]   ┆ datetime[μs]   ┆ datetime[μs]   ┆ datetime[μs]  ┆ ---           ┆ ---           │\n",
       "│                ┆                ┆                ┆               ┆ f64           ┆ f64           │\n",
       "╞════════════════╪════════════════╪════════════════╪═══════════════╪═══════════════╪═══════════════╡\n",
       "│ 2019-04-06     ┆ 2019-04-07     ┆ 2019-04-09     ┆ 2019-04-10    ┆ 0.129733      ┆ 0.295187      │\n",
       "│ 12:00:00       ┆ 12:00:00       ┆ 00:00:00       ┆ 00:00:00      ┆               ┆               │\n",
       "│ 2019-04-06     ┆ 2019-04-07     ┆ 2019-04-09     ┆ 2019-04-10    ┆ 0.115776      ┆ 0.290461      │\n",
       "│ 12:00:00       ┆ 12:00:00       ┆ 00:10:00       ┆ 00:10:00      ┆               ┆               │\n",
       "│ 2019-04-06     ┆ 2019-04-07     ┆ 2019-04-09     ┆ 2019-04-10    ┆ 0.125829      ┆ 0.295799      │\n",
       "│ 12:00:00       ┆ 12:00:00       ┆ 00:20:00       ┆ 00:20:00      ┆               ┆               │\n",
       "│ 2019-04-06     ┆ 2019-04-07     ┆ 2019-04-09     ┆ 2019-04-10    ┆ 0.134056      ┆ 0.299338      │\n",
       "│ 12:00:00       ┆ 12:00:00       ┆ 00:30:00       ┆ 00:30:00      ┆               ┆               │\n",
       "│ 2019-04-06     ┆ 2019-04-07     ┆ 2019-04-09     ┆ 2019-04-10    ┆ 0.141806      ┆ 0.309491      │\n",
       "│ 12:00:00       ┆ 12:00:00       ┆ 00:40:00       ┆ 00:40:00      ┆               ┆               │\n",
       "│ …              ┆ …              ┆ …              ┆ …             ┆ …             ┆ …             │\n",
       "│ 2019-04-06     ┆ 2019-04-07     ┆ 2019-04-12     ┆ 2019-04-13    ┆ -0.787044     ┆ 0.837541      │\n",
       "│ 12:00:00       ┆ 12:00:00       ┆ 23:30:00       ┆ 23:30:00      ┆               ┆               │\n",
       "│ 2019-04-06     ┆ 2019-04-07     ┆ 2019-04-12     ┆ 2019-04-13    ┆ -0.788278     ┆ 0.841798      │\n",
       "│ 12:00:00       ┆ 12:00:00       ┆ 23:40:00       ┆ 23:40:00      ┆               ┆               │\n",
       "│ 2019-04-06     ┆ 2019-04-07     ┆ 2019-04-12     ┆ 2019-04-13    ┆ -0.785141     ┆ 0.839557      │\n",
       "│ 12:00:00       ┆ 12:00:00       ┆ 23:50:00       ┆ 23:50:00      ┆               ┆               │\n",
       "│ 2019-04-06     ┆ 2019-04-07     ┆ 2019-04-13     ┆ 2019-04-14    ┆ -0.777335     ┆ 0.835922      │\n",
       "│ 12:00:00       ┆ 12:00:00       ┆ 00:00:00       ┆ 00:00:00      ┆               ┆               │\n",
       "│ 2019-04-06     ┆ 2019-04-07     ┆ 2019-04-13     ┆ 2019-04-14    ┆ -0.779654     ┆ 0.840022      │\n",
       "│ 12:00:00       ┆ 12:00:00       ┆ 00:10:00       ┆ 00:10:00      ┆               ┆               │\n",
       "└────────────────┴────────────────┴────────────────┴───────────────┴───────────────┴───────────────┘"
      ]
     },
     "execution_count": 129,
     "metadata": {},
     "output_type": "execute_result"
    }
   ],
   "source": [
    "df"
   ]
  },
  {
   "cell_type": "code",
   "execution_count": 128,
   "metadata": {},
   "outputs": [
    {
     "data": {},
     "metadata": {},
     "output_type": "display_data"
    },
    {
     "data": {
      "application/vnd.holoviews_exec.v0+json": "",
      "text/html": [
       "<div id='p1080'>\n",
       "  <div id=\"eb40eeea-0224-4caa-84a3-ba6ce31edef3\" data-root-id=\"p1080\" style=\"display: contents;\"></div>\n",
       "</div>\n",
       "<script type=\"application/javascript\">(function(root) {\n",
       "  var docs_json = {\"32d75456-7476-442d-b8e6-c85d00319264\":{\"version\":\"3.3.4\",\"title\":\"Bokeh Application\",\"roots\":[{\"type\":\"object\",\"name\":\"Row\",\"id\":\"p1080\",\"attributes\":{\"name\":\"Row01084\",\"tags\":[\"embedded\"],\"stylesheets\":[\"\\n:host(.pn-loading.pn-arc):before, .pn-loading.pn-arc:before {\\n  background-image: url(\\\"data:image/svg+xml;base64,PHN2ZyB4bWxucz0iaHR0cDovL3d3dy53My5vcmcvMjAwMC9zdmciIHN0eWxlPSJtYXJnaW46IGF1dG87IGJhY2tncm91bmQ6IG5vbmU7IGRpc3BsYXk6IGJsb2NrOyBzaGFwZS1yZW5kZXJpbmc6IGF1dG87IiB2aWV3Qm94PSIwIDAgMTAwIDEwMCIgcHJlc2VydmVBc3BlY3RSYXRpbz0ieE1pZFlNaWQiPiAgPGNpcmNsZSBjeD0iNTAiIGN5PSI1MCIgZmlsbD0ibm9uZSIgc3Ryb2tlPSIjYzNjM2MzIiBzdHJva2Utd2lkdGg9IjEwIiByPSIzNSIgc3Ryb2tlLWRhc2hhcnJheT0iMTY0LjkzMzYxNDMxMzQ2NDE1IDU2Ljk3Nzg3MTQzNzgyMTM4Ij4gICAgPGFuaW1hdGVUcmFuc2Zvcm0gYXR0cmlidXRlTmFtZT0idHJhbnNmb3JtIiB0eXBlPSJyb3RhdGUiIHJlcGVhdENvdW50PSJpbmRlZmluaXRlIiBkdXI9IjFzIiB2YWx1ZXM9IjAgNTAgNTA7MzYwIDUwIDUwIiBrZXlUaW1lcz0iMDsxIj48L2FuaW1hdGVUcmFuc2Zvcm0+ICA8L2NpcmNsZT48L3N2Zz4=\\\");\\n  background-size: auto calc(min(50%, 400px));\\n}\",{\"type\":\"object\",\"name\":\"ImportedStyleSheet\",\"id\":\"p1083\",\"attributes\":{\"url\":\"https://cdn.holoviz.org/panel/1.3.8/dist/css/loading.css\"}},{\"type\":\"object\",\"name\":\"ImportedStyleSheet\",\"id\":\"p1170\",\"attributes\":{\"url\":\"https://cdn.holoviz.org/panel/1.3.8/dist/css/listpanel.css\"}},{\"type\":\"object\",\"name\":\"ImportedStyleSheet\",\"id\":\"p1081\",\"attributes\":{\"url\":\"https://cdn.holoviz.org/panel/1.3.8/dist/bundled/theme/default.css\"}},{\"type\":\"object\",\"name\":\"ImportedStyleSheet\",\"id\":\"p1082\",\"attributes\":{\"url\":\"https://cdn.holoviz.org/panel/1.3.8/dist/bundled/theme/native.css\"}}],\"min_width\":700,\"margin\":0,\"sizing_mode\":\"stretch_width\",\"align\":\"start\",\"children\":[{\"type\":\"object\",\"name\":\"Spacer\",\"id\":\"p1084\",\"attributes\":{\"name\":\"HSpacer01091\",\"stylesheets\":[\"\\n:host(.pn-loading.pn-arc):before, .pn-loading.pn-arc:before {\\n  background-image: url(\\\"data:image/svg+xml;base64,PHN2ZyB4bWxucz0iaHR0cDovL3d3dy53My5vcmcvMjAwMC9zdmciIHN0eWxlPSJtYXJnaW46IGF1dG87IGJhY2tncm91bmQ6IG5vbmU7IGRpc3BsYXk6IGJsb2NrOyBzaGFwZS1yZW5kZXJpbmc6IGF1dG87IiB2aWV3Qm94PSIwIDAgMTAwIDEwMCIgcHJlc2VydmVBc3BlY3RSYXRpbz0ieE1pZFlNaWQiPiAgPGNpcmNsZSBjeD0iNTAiIGN5PSI1MCIgZmlsbD0ibm9uZSIgc3Ryb2tlPSIjYzNjM2MzIiBzdHJva2Utd2lkdGg9IjEwIiByPSIzNSIgc3Ryb2tlLWRhc2hhcnJheT0iMTY0LjkzMzYxNDMxMzQ2NDE1IDU2Ljk3Nzg3MTQzNzgyMTM4Ij4gICAgPGFuaW1hdGVUcmFuc2Zvcm0gYXR0cmlidXRlTmFtZT0idHJhbnNmb3JtIiB0eXBlPSJyb3RhdGUiIHJlcGVhdENvdW50PSJpbmRlZmluaXRlIiBkdXI9IjFzIiB2YWx1ZXM9IjAgNTAgNTA7MzYwIDUwIDUwIiBrZXlUaW1lcz0iMDsxIj48L2FuaW1hdGVUcmFuc2Zvcm0+ICA8L2NpcmNsZT48L3N2Zz4=\\\");\\n  background-size: auto calc(min(50%, 400px));\\n}\",{\"id\":\"p1083\"},{\"id\":\"p1081\"},{\"id\":\"p1082\"}],\"margin\":0,\"sizing_mode\":\"stretch_width\",\"align\":\"start\"}},{\"type\":\"object\",\"name\":\"Figure\",\"id\":\"p1095\",\"attributes\":{\"width\":700,\"height\":300,\"margin\":[5,10],\"sizing_mode\":\"fixed\",\"align\":\"start\",\"x_range\":{\"type\":\"object\",\"name\":\"Range1d\",\"id\":\"p1085\",\"attributes\":{\"tags\":[[[\"v2_start\",\"v2_start\",null]],[]],\"start\":1554768000000.0,\"end\":1555114200000.0,\"reset_start\":1554768000000.0,\"reset_end\":1555114200000.0}},\"y_range\":{\"type\":\"object\",\"name\":\"Range1d\",\"id\":\"p1086\",\"attributes\":{\"tags\":[[[\"value\",\"value\",null]],{\"type\":\"map\",\"entries\":[[\"invert_yaxis\",false],[\"autorange\",false]]}],\"start\":-0.9516078112104553,\"end\":1.0048343645644784,\"reset_start\":-0.9516078112104553,\"reset_end\":1.0048343645644784}},\"x_scale\":{\"type\":\"object\",\"name\":\"LinearScale\",\"id\":\"p1105\"},\"y_scale\":{\"type\":\"object\",\"name\":\"LinearScale\",\"id\":\"p1106\"},\"title\":{\"type\":\"object\",\"name\":\"Title\",\"id\":\"p1098\",\"attributes\":{\"text_color\":\"black\",\"text_font_size\":\"12pt\"}},\"renderers\":[{\"type\":\"object\",\"name\":\"GlyphRenderer\",\"id\":\"p1147\",\"attributes\":{\"name\":\"Pearson correlation\",\"data_source\":{\"type\":\"object\",\"name\":\"ColumnDataSource\",\"id\":\"p1138\",\"attributes\":{\"selected\":{\"type\":\"object\",\"name\":\"Selection\",\"id\":\"p1139\",\"attributes\":{\"indices\":[],\"line_indices\":[]}},\"selection_policy\":{\"type\":\"object\",\"name\":\"UnionRenderers\",\"id\":\"p1140\"},\"data\":{\"type\":\"map\",\"entries\":[[\"v2_start\",{\"type\":\"ndarray\",\"array\":{\"type\":\"bytes\",\"data\":\"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\"},\"shape\":[578],\"dtype\":\"float64\",\"order\":\"little\"}],[\"value\",{\"type\":\"ndarray\",\"array\":{\"type\":\"bytes\",\"data\":\"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\"},\"shape\":[578],\"dtype\":\"float64\",\"order\":\"little\"}],[\"Variable\",[\"Pearson correlation\",\"Pearson correlation\",\"Pearson correlation\",\"Pearson correlation\",\"Pearson correlation\",\"Pearson correlation\",\"Pearson correlation\",\"Pearson correlation\",\"Pearson correlation\",\"Pearson correlation\",\"Pearson correlation\",\"Pearson correlation\",\"Pearson correlation\",\"Pearson correlation\",\"Pearson correlation\",\"Pearson correlation\",\"Pearson correlation\",\"Pearson correlation\",\"Pearson correlation\",\"Pearson correlation\",\"Pearson correlation\",\"Pearson correlation\",\"Pearson correlation\",\"Pearson correlation\",\"Pearson correlation\",\"Pearson correlation\",\"Pearson correlation\",\"Pearson correlation\",\"Pearson correlation\",\"Pearson correlation\",\"Pearson correlation\",\"Pearson correlation\",\"Pearson correlation\",\"Pearson correlation\",\"Pearson correlation\",\"Pearson correlation\",\"Pearson correlation\",\"Pearson correlation\",\"Pearson correlation\",\"Pearson correlation\",\"Pearson correlation\",\"Pearson correlation\",\"Pearson correlation\",\"Pearson correlation\",\"Pearson correlation\",\"Pearson correlation\",\"Pearson correlation\",\"Pearson correlation\",\"Pearson correlation\",\"Pearson correlation\",\"Pearson correlation\",\"Pearson correlation\",\"Pearson correlation\",\"Pearson correlation\",\"Pearson correlation\",\"Pearson correlation\",\"Pearson correlation\",\"Pearson correlation\",\"Pearson correlation\",\"Pearson correlation\",\"Pearson correlation\",\"Pearson correlation\",\"Pearson correlation\",\"Pearson correlation\",\"Pearson correlation\",\"Pearson correlation\",\"Pearson correlation\",\"Pearson correlation\",\"Pearson correlation\",\"Pearson correlation\",\"Pearson correlation\",\"Pearson correlation\",\"Pearson correlation\",\"Pearson correlation\",\"Pearson correlation\",\"Pearson correlation\",\"Pearson correlation\",\"Pearson correlation\",\"Pearson correlation\",\"Pearson correlation\",\"Pearson correlation\",\"Pearson correlation\",\"Pearson correlation\",\"Pearson correlation\",\"Pearson correlation\",\"Pearson correlation\",\"Pearson correlation\",\"Pearson correlation\",\"Pearson correlation\",\"Pearson correlation\",\"Pearson correlation\",\"Pearson correlation\",\"Pearson correlation\",\"Pearson correlation\",\"Pearson correlation\",\"Pearson correlation\",\"Pearson correlation\",\"Pearson correlation\",\"Pearson correlation\",\"Pearson correlation\",\"Pearson correlation\",\"Pearson correlation\",\"Pearson correlation\",\"Pearson correlation\",\"Pearson correlation\",\"Pearson correlation\",\"Pearson correlation\",\"Pearson correlation\",\"Pearson correlation\",\"Pearson correlation\",\"Pearson correlation\",\"Pearson correlation\",\"Pearson correlation\",\"Pearson correlation\",\"Pearson correlation\",\"Pearson correlation\",\"Pearson correlation\",\"Pearson correlation\",\"Pearson correlation\",\"Pearson correlation\",\"Pearson correlation\",\"Pearson correlation\",\"Pearson correlation\",\"Pearson correlation\",\"Pearson correlation\",\"Pearson correlation\",\"Pearson correlation\",\"Pearson correlation\",\"Pearson correlation\",\"Pearson correlation\",\"Pearson correlation\",\"Pearson correlation\",\"Pearson correlation\",\"Pearson correlation\",\"Pearson correlation\",\"Pearson correlation\",\"Pearson correlation\",\"Pearson correlation\",\"Pearson correlation\",\"Pearson correlation\",\"Pearson correlation\",\"Pearson correlation\",\"Pearson correlation\",\"Pearson correlation\",\"Pearson correlation\",\"Pearson correlation\",\"Pearson correlation\",\"Pearson correlation\",\"Pearson correlation\",\"Pearson correlation\",\"Pearson correlation\",\"Pearson correlation\",\"Pearson correlation\",\"Pearson correlation\",\"Pearson correlation\",\"Pearson correlation\",\"Pearson correlation\",\"Pearson correlation\",\"Pearson correlation\",\"Pearson correlation\",\"Pearson correlation\",\"Pearson correlation\",\"Pearson correlation\",\"Pearson correlation\",\"Pearson correlation\",\"Pearson correlation\",\"Pearson correlation\",\"Pearson correlation\",\"Pearson correlation\",\"Pearson correlation\",\"Pearson correlation\",\"Pearson correlation\",\"Pearson correlation\",\"Pearson correlation\",\"Pearson correlation\",\"Pearson correlation\",\"Pearson correlation\",\"Pearson correlation\",\"Pearson correlation\",\"Pearson correlation\",\"Pearson correlation\",\"Pearson correlation\",\"Pearson correlation\",\"Pearson correlation\",\"Pearson correlation\",\"Pearson correlation\",\"Pearson correlation\",\"Pearson correlation\",\"Pearson correlation\",\"Pearson correlation\",\"Pearson correlation\",\"Pearson correlation\",\"Pearson correlation\",\"Pearson correlation\",\"Pearson correlation\",\"Pearson correlation\",\"Pearson correlation\",\"Pearson correlation\",\"Pearson correlation\",\"Pearson correlation\",\"Pearson correlation\",\"Pearson correlation\",\"Pearson correlation\",\"Pearson correlation\",\"Pearson correlation\",\"Pearson correlation\",\"Pearson correlation\",\"Pearson correlation\",\"Pearson correlation\",\"Pearson correlation\",\"Pearson correlation\",\"Pearson correlation\",\"Pearson correlation\",\"Pearson correlation\",\"Pearson correlation\",\"Pearson correlation\",\"Pearson correlation\",\"Pearson correlation\",\"Pearson correlation\",\"Pearson correlation\",\"Pearson correlation\",\"Pearson correlation\",\"Pearson correlation\",\"Pearson correlation\",\"Pearson correlation\",\"Pearson correlation\",\"Pearson correlation\",\"Pearson correlation\",\"Pearson correlation\",\"Pearson correlation\",\"Pearson correlation\",\"Pearson correlation\",\"Pearson correlation\",\"Pearson correlation\",\"Pearson correlation\",\"Pearson correlation\",\"Pearson correlation\",\"Pearson correlation\",\"Pearson correlation\",\"Pearson correlation\",\"Pearson correlation\",\"Pearson correlation\",\"Pearson correlation\",\"Pearson correlation\",\"Pearson correlation\",\"Pearson correlation\",\"Pearson correlation\",\"Pearson correlation\",\"Pearson correlation\",\"Pearson correlation\",\"Pearson correlation\",\"Pearson correlation\",\"Pearson correlation\",\"Pearson correlation\",\"Pearson correlation\",\"Pearson correlation\",\"Pearson correlation\",\"Pearson correlation\",\"Pearson correlation\",\"Pearson correlation\",\"Pearson correlation\",\"Pearson correlation\",\"Pearson correlation\",\"Pearson correlation\",\"Pearson correlation\",\"Pearson correlation\",\"Pearson correlation\",\"Pearson correlation\",\"Pearson correlation\",\"Pearson correlation\",\"Pearson correlation\",\"Pearson correlation\",\"Pearson correlation\",\"Pearson correlation\",\"Pearson correlation\",\"Pearson correlation\",\"Pearson correlation\",\"Pearson correlation\",\"Pearson correlation\",\"Pearson correlation\",\"Pearson correlation\",\"Pearson correlation\",\"Pearson correlation\",\"Pearson correlation\",\"Pearson correlation\",\"Pearson correlation\",\"Pearson correlation\",\"Pearson correlation\",\"Pearson correlation\",\"Pearson correlation\",\"Pearson correlation\",\"Pearson correlation\",\"Pearson correlation\",\"Pearson correlation\",\"Pearson correlation\",\"Pearson correlation\",\"Pearson correlation\",\"Pearson correlation\",\"Pearson correlation\",\"Pearson correlation\",\"Pearson correlation\",\"Pearson correlation\",\"Pearson correlation\",\"Pearson correlation\",\"Pearson correlation\",\"Pearson correlation\",\"Pearson correlation\",\"Pearson correlation\",\"Pearson correlation\",\"Pearson correlation\",\"Pearson correlation\",\"Pearson correlation\",\"Pearson correlation\",\"Pearson correlation\",\"Pearson correlation\",\"Pearson correlation\",\"Pearson correlation\",\"Pearson correlation\",\"Pearson correlation\",\"Pearson correlation\",\"Pearson correlation\",\"Pearson correlation\",\"Pearson correlation\",\"Pearson correlation\",\"Pearson correlation\",\"Pearson correlation\",\"Pearson correlation\",\"Pearson correlation\",\"Pearson correlation\",\"Pearson correlation\",\"Pearson correlation\",\"Pearson correlation\",\"Pearson correlation\",\"Pearson correlation\",\"Pearson correlation\",\"Pearson correlation\",\"Pearson correlation\",\"Pearson correlation\",\"Pearson correlation\",\"Pearson correlation\",\"Pearson correlation\",\"Pearson correlation\",\"Pearson correlation\",\"Pearson correlation\",\"Pearson correlation\",\"Pearson correlation\",\"Pearson correlation\",\"Pearson correlation\",\"Pearson correlation\",\"Pearson correlation\",\"Pearson correlation\",\"Pearson correlation\",\"Pearson correlation\",\"Pearson correlation\",\"Pearson correlation\",\"Pearson correlation\",\"Pearson correlation\",\"Pearson correlation\",\"Pearson correlation\",\"Pearson correlation\",\"Pearson correlation\",\"Pearson correlation\",\"Pearson correlation\",\"Pearson correlation\",\"Pearson correlation\",\"Pearson correlation\",\"Pearson correlation\",\"Pearson correlation\",\"Pearson correlation\",\"Pearson correlation\",\"Pearson correlation\",\"Pearson correlation\",\"Pearson correlation\",\"Pearson correlation\",\"Pearson correlation\",\"Pearson correlation\",\"Pearson correlation\",\"Pearson correlation\",\"Pearson correlation\",\"Pearson correlation\",\"Pearson correlation\",\"Pearson correlation\",\"Pearson correlation\",\"Pearson correlation\",\"Pearson correlation\",\"Pearson correlation\",\"Pearson correlation\",\"Pearson correlation\",\"Pearson correlation\",\"Pearson correlation\",\"Pearson correlation\",\"Pearson correlation\",\"Pearson correlation\",\"Pearson correlation\",\"Pearson correlation\",\"Pearson correlation\",\"Pearson correlation\",\"Pearson correlation\",\"Pearson correlation\",\"Pearson correlation\",\"Pearson correlation\",\"Pearson correlation\",\"Pearson correlation\",\"Pearson correlation\",\"Pearson correlation\",\"Pearson correlation\",\"Pearson correlation\",\"Pearson correlation\",\"Pearson correlation\",\"Pearson correlation\",\"Pearson correlation\",\"Pearson correlation\",\"Pearson correlation\",\"Pearson correlation\",\"Pearson correlation\",\"Pearson correlation\",\"Pearson correlation\",\"Pearson correlation\",\"Pearson correlation\",\"Pearson correlation\",\"Pearson correlation\",\"Pearson correlation\",\"Pearson correlation\",\"Pearson correlation\",\"Pearson correlation\",\"Pearson correlation\",\"Pearson correlation\",\"Pearson correlation\",\"Pearson correlation\",\"Pearson correlation\",\"Pearson correlation\",\"Pearson correlation\",\"Pearson correlation\",\"Pearson correlation\",\"Pearson correlation\",\"Pearson correlation\",\"Pearson correlation\",\"Pearson correlation\",\"Pearson correlation\",\"Pearson correlation\",\"Pearson correlation\",\"Pearson correlation\",\"Pearson correlation\",\"Pearson correlation\",\"Pearson correlation\",\"Pearson correlation\",\"Pearson correlation\",\"Pearson correlation\",\"Pearson correlation\",\"Pearson correlation\",\"Pearson correlation\",\"Pearson correlation\",\"Pearson correlation\",\"Pearson correlation\",\"Pearson correlation\",\"Pearson correlation\",\"Pearson correlation\",\"Pearson correlation\",\"Pearson correlation\",\"Pearson correlation\",\"Pearson correlation\",\"Pearson correlation\",\"Pearson correlation\",\"Pearson correlation\",\"Pearson correlation\",\"Pearson correlation\",\"Pearson correlation\",\"Pearson correlation\",\"Pearson correlation\",\"Pearson correlation\",\"Pearson correlation\",\"Pearson correlation\",\"Pearson correlation\",\"Pearson correlation\",\"Pearson correlation\",\"Pearson correlation\",\"Pearson correlation\",\"Pearson correlation\",\"Pearson correlation\",\"Pearson correlation\",\"Pearson correlation\",\"Pearson correlation\",\"Pearson correlation\",\"Pearson correlation\",\"Pearson correlation\",\"Pearson correlation\",\"Pearson correlation\",\"Pearson correlation\",\"Pearson correlation\",\"Pearson correlation\",\"Pearson correlation\",\"Pearson correlation\",\"Pearson correlation\",\"Pearson correlation\",\"Pearson correlation\",\"Pearson correlation\",\"Pearson correlation\",\"Pearson correlation\",\"Pearson correlation\",\"Pearson correlation\",\"Pearson correlation\",\"Pearson correlation\",\"Pearson correlation\",\"Pearson correlation\",\"Pearson correlation\",\"Pearson correlation\",\"Pearson correlation\",\"Pearson correlation\",\"Pearson correlation\",\"Pearson correlation\",\"Pearson correlation\",\"Pearson correlation\",\"Pearson correlation\",\"Pearson correlation\",\"Pearson correlation\",\"Pearson correlation\",\"Pearson correlation\",\"Pearson correlation\",\"Pearson correlation\",\"Pearson correlation\",\"Pearson correlation\",\"Pearson correlation\",\"Pearson correlation\",\"Pearson correlation\",\"Pearson correlation\",\"Pearson correlation\",\"Pearson correlation\",\"Pearson correlation\",\"Pearson correlation\",\"Pearson correlation\",\"Pearson correlation\",\"Pearson correlation\",\"Pearson correlation\",\"Pearson correlation\",\"Pearson correlation\",\"Pearson correlation\",\"Pearson correlation\",\"Pearson correlation\",\"Pearson correlation\",\"Pearson correlation\",\"Pearson correlation\",\"Pearson correlation\",\"Pearson correlation\",\"Pearson correlation\",\"Pearson correlation\",\"Pearson correlation\",\"Pearson correlation\",\"Pearson correlation\",\"Pearson correlation\",\"Pearson correlation\",\"Pearson correlation\",\"Pearson correlation\",\"Pearson correlation\",\"Pearson correlation\",\"Pearson correlation\",\"Pearson correlation\",\"Pearson correlation\",\"Pearson correlation\",\"Pearson correlation\",\"Pearson correlation\",\"Pearson correlation\",\"Pearson correlation\",\"Pearson correlation\",\"Pearson correlation\",\"Pearson correlation\",\"Pearson correlation\",\"Pearson correlation\",\"Pearson correlation\",\"Pearson correlation\",\"Pearson correlation\",\"Pearson correlation\",\"Pearson correlation\",\"Pearson correlation\",\"Pearson correlation\",\"Pearson correlation\",\"Pearson correlation\",\"Pearson correlation\",\"Pearson correlation\"]]]}}},\"view\":{\"type\":\"object\",\"name\":\"CDSView\",\"id\":\"p1148\",\"attributes\":{\"filter\":{\"type\":\"object\",\"name\":\"AllIndices\",\"id\":\"p1149\"}}},\"glyph\":{\"type\":\"object\",\"name\":\"Line\",\"id\":\"p1144\",\"attributes\":{\"tags\":[\"apply_ranges\"],\"x\":{\"type\":\"field\",\"field\":\"v2_start\"},\"y\":{\"type\":\"field\",\"field\":\"value\"},\"line_color\":\"#30a2da\",\"line_width\":2}},\"selection_glyph\":{\"type\":\"object\",\"name\":\"Line\",\"id\":\"p1152\",\"attributes\":{\"tags\":[\"apply_ranges\"],\"x\":{\"type\":\"field\",\"field\":\"v2_start\"},\"y\":{\"type\":\"field\",\"field\":\"value\"},\"line_color\":\"#30a2da\",\"line_width\":2}},\"nonselection_glyph\":{\"type\":\"object\",\"name\":\"Line\",\"id\":\"p1145\",\"attributes\":{\"tags\":[\"apply_ranges\"],\"x\":{\"type\":\"field\",\"field\":\"v2_start\"},\"y\":{\"type\":\"field\",\"field\":\"value\"},\"line_color\":\"#30a2da\",\"line_alpha\":0.1,\"line_width\":2}},\"muted_glyph\":{\"type\":\"object\",\"name\":\"Line\",\"id\":\"p1146\",\"attributes\":{\"tags\":[\"apply_ranges\"],\"x\":{\"type\":\"field\",\"field\":\"v2_start\"},\"y\":{\"type\":\"field\",\"field\":\"value\"},\"line_color\":\"#30a2da\",\"line_alpha\":0.2,\"line_width\":2}}}},{\"type\":\"object\",\"name\":\"GlyphRenderer\",\"id\":\"p1162\",\"attributes\":{\"name\":\"Distance correlation\",\"data_source\":{\"type\":\"object\",\"name\":\"ColumnDataSource\",\"id\":\"p1153\",\"attributes\":{\"selected\":{\"type\":\"object\",\"name\":\"Selection\",\"id\":\"p1154\",\"attributes\":{\"indices\":[],\"line_indices\":[]}},\"selection_policy\":{\"type\":\"object\",\"name\":\"UnionRenderers\",\"id\":\"p1155\"},\"data\":{\"type\":\"map\",\"entries\":[[\"v2_start\",{\"type\":\"ndarray\",\"array\":{\"type\":\"bytes\",\"data\":\"AABAT/afdkIAALzh9p92QgAAOHT3n3ZCAAC0BvifdkIAADCZ+J92QgAArCv5n3ZCAAAovvmfdkIAAKRQ+p92QgAAIOP6n3ZCAACcdfufdkIAABgI/J92QgAAlJr8n3ZCAAAQLf2fdkIAAIy//Z92QgAACFL+n3ZCAACE5P6fdkIAAAB3/592QgAAfAkAoHZCAAD4mwCgdkIAAHQuAaB2QgAA8MABoHZCAABsUwKgdkIAAOjlAqB2QgAAZHgDoHZCAADgCgSgdkIAAFydBKB2QgAA2C8FoHZCAABUwgWgdkIAANBUBqB2QgAATOcGoHZCAADIeQegdkIAAEQMCKB2QgAAwJ4IoHZCAAA8MQmgdkIAALjDCaB2QgAANFYKoHZCAACw6AqgdkIAACx7C6B2QgAAqA0MoHZCAAAkoAygdkIAAKAyDaB2QgAAHMUNoHZCAACYVw6gdkIAABTqDqB2QgAAkHwPoHZCAAAMDxCgdkIAAIihEKB2QgAABDQRoHZCAACAxhGgdkIAAPxYEqB2QgAAeOsSoHZCAAD0fROgdkIAAHAQFKB2QgAA7KIUoHZCAABoNRWgdkIAAOTHFaB2QgAAYFoWoHZCAADc7BagdkIAAFh/F6B2QgAA1BEYoHZCAABQpBigdkIAAMw2GaB2QgAASMkZoHZCAADEWxqgdkIAAEDuGqB2QgAAvIAboHZCAAA4ExygdkIAALSlHKB2QgAAMDgdoHZCAACsyh2gdkIAAChdHqB2QgAApO8eoHZCAAAggh+gdkIAAJwUIKB2QgAAGKcgoHZCAACUOSGgdkIAABDMIaB2QgAAjF4ioHZCAAAI8SKgdkIAAISDI6B2QgAAABYkoHZCAAB8qCSgdkIAAPg6JaB2QgAAdM0loHZCAADwXyagdkIAAGzyJqB2QgAA6IQnoHZCAABkFyigdkIAAOCpKKB2QgAAXDwpoHZCAADYzimgdkIAAFRhKqB2QgAA0PMqoHZCAABMhiugdkIAAMgYLKB2QgAARKssoHZCAADAPS2gdkIAADzQLaB2QgAAuGIuoHZCAAA09S6gdkIAALCHL6B2QgAALBowoHZCAACorDCgdkIAACQ/MaB2QgAAoNExoHZCAAAcZDKgdkIAAJj2MqB2QgAAFIkzoHZCAACQGzSgdkIAAAyuNKB2QgAAiEA1oHZCAAAE0zWgdkIAAIBlNqB2QgAA/Pc2oHZCAAB4ijegdkIAAPQcOKB2QgAAcK84oHZCAADsQTmgdkIAAGjUOaB2QgAA5GY6oHZCAABg+TqgdkIAANyLO6B2QgAAWB48oHZCAADUsDygdkIAAFBDPaB2QgAAzNU9oHZCAABIaD6gdkIAAMT6PqB2QgAAQI0/oHZCAAC8H0CgdkIAADiyQKB2QgAAtERBoHZCAAAw10GgdkIAAKxpQqB2QgAAKPxCoHZCAACkjkOgdkIAACAhRKB2QgAAnLNEoHZCAAAYRkWgdkIAAJTYRaB2QgAAEGtGoHZCAACM/UagdkIAAAiQR6B2QgAAhCJIoHZCAAAAtUigdkIAAHxHSaB2QgAA+NlJoHZCAAB0bEqgdkIAAPD+SqB2QgAAbJFLoHZCAADoI0ygdkIAAGS2TKB2QgAA4EhNoHZCAABc202gdkIAANhtTqB2QgAAVABPoHZCAADQkk+gdkIAAEwlUKB2QgAAyLdQoHZCAABESlGgdkIAAMDcUaB2QgAAPG9SoHZCAAC4AVOgdkIAADSUU6B2QgAAsCZUoHZCAAAsuVSgdkIAAKhLVaB2QgAAJN5VoHZCAACgcFagdkIAABwDV6B2QgAAmJVXoHZCAAAUKFigdkIAAJC6WKB2QgAADE1ZoHZCAACI31mgdkIAAARyWqB2QgAAgARboHZCAAD8llugdkIAAHgpXKB2QgAA9LtcoHZCAABwTl2gdkIAAOzgXaB2QgAAaHNeoHZCAADkBV+gdkIAAGCYX6B2QgAA3CpgoHZCAABYvWCgdkIAANRPYaB2QgAAUOJhoHZCAADMdGKgdkIAAEgHY6B2QgAAxJljoHZCAABALGSgdkIAALy+ZKB2QgAAOFFloHZCAAC042WgdkIAADB2ZqB2QgAArAhnoHZCAAAom2egdkIAAKQtaKB2QgAAIMBooHZCAACcUmmgdkIAABjlaaB2QgAAlHdqoHZCAAAQCmugdkIAAIyca6B2QgAACC9soHZCAACEwWygdkIAAABUbaB2QgAAfOZtoHZCAAD4eG6gdkIAAHQLb6B2QgAA8J1voHZCAABsMHCgdkIAAOjCcKB2QgAAZFVxoHZCAADg53GgdkIAAFx6cqB2QgAA2AxzoHZCAABUn3OgdkIAANAxdKB2QgAATMR0oHZCAADIVnWgdkIAAETpdaB2QgAAwHt2oHZCAAA8DnegdkIAALigd6B2QgAANDN4oHZCAACwxXigdkIAACxYeaB2QgAAqOp5oHZCAAAkfXqgdkIAAKAPe6B2QgAAHKJ7oHZCAACYNHygdkIAABTHfKB2QgAAkFl9oHZCAAAM7H2gdkIAAIh+fqB2QgAABBF/oHZCAACAo3+gdkIAAPw1gKB2QgAAeMiAoHZCAAD0WoGgdkIAAHDtgaB2QgAA7H+CoHZCAABoEoOgdkIAAOSkg6B2QgAAYDeEoHZCAADcyYSgdkIAAFhchaB2QgAA1O6FoHZCAABQgYagdkIAAMwTh6B2QgAASKaHoHZCAADEOIigdkIAAEDLiKB2QgAAvF2JoHZCAAA48ImgdkIAALSCiqB2QgAAMBWLoHZCAACsp4ugdkIAACg6jKB2QgAApMyMoHZCAAAgX42gdkIAAJzxjaB2QgAAGISOoHZCAACUFo+gdkIAABCpj6B2QgAAjDuQoHZCAAAIzpCgdkIAAIRgkaB2QgAAAPORoHZCAAB8hZKgdkIAAPgXk6B2QgAAdKqToHZCAADwPJSgdkIAAGzPlKB2QgAA6GGVoHZCAABk9JWgdkIAAOCGlqB2QgAAXBmXoHZCAADYq5egdkIAAFQ+mKB2QgAA0NCYoHZCAABMY5mgdkIAAMj1maB2QgAARIiaoHZCAADAGpugdkIAADytm6B2QgAAuD+coHZCAAA00pygdkIAALBknaB2QgAALPedoHZCAACoiZ6gdkIAACQcn6B2QgAAoK6foHZCAAAcQaCgdkIAAJjToKB2QgAAFGahoHZCAACQ+KGgdkIAAAyLoqB2QgAAiB2joHZCAAAEsKOgdkIAAIBCpKB2QgAA/NSkoHZCAAB4Z6WgdkIAAPT5paB2QgAAcIymoHZCAADsHqegdkIAAGixp6B2QgAA5EOooHZCAABg1qigdkIAANxoqaB2QgAAWPupoHZCAADUjaqgdkIAAFAgq6B2QgAAzLKroHZCAABIRaygdkIAAMTXrKB2QgAAQGqtoHZCAAC8/K2gdkIAADiPrqB2QgAAtCGvoHZCAAAwtK+gdkIAAKxGsKB2QgAAKNmwoHZCAACka7GgdkIAACD+saB2QgAAnJCyoHZCAAAYI7OgdkIAAJS1s6B2QgAAEEi0oHZCAACM2rSgdkIAAAhttaB2QgAAhP+1oHZCAAAAkragdkIAAHwkt6B2QgAA+La3oHZCAAB0SbigdkIAAPDbuKB2QgAAbG65oHZCAADoALqgdkIAAGSTuqB2QgAA4CW7oHZCAABcuLugdkIAANhKvKB2QgAAVN28oHZCAADQb72gdkIAAEwCvqB2QgAAyJS+oHZCAABEJ7+gdkIAAMC5v6B2QgAAPEzAoHZCAAC43sCgdkIAADRxwaB2QgAAsAPCoHZCAAAslsKgdkIAAKgow6B2QgAAJLvDoHZCAACgTcSgdkIAABzgxKB2QgAAmHLFoHZCAAAUBcagdkIAAJCXxqB2QgAADCrHoHZCAACIvMegdkIAAARPyKB2QgAAgOHIoHZCAAD8c8mgdkIAAHgGyqB2QgAA9JjKoHZCAABwK8ugdkIAAOy9y6B2QgAAaFDMoHZCAADk4sygdkIAAGB1zaB2QgAA3AfOoHZCAABYms6gdkIAANQsz6B2QgAAUL/PoHZCAADMUdCgdkIAAEjk0KB2QgAAxHbRoHZCAABACdKgdkIAALyb0qB2QgAAOC7ToHZCAAC0wNOgdkIAADBT1KB2QgAArOXUoHZCAAAoeNWgdkIAAKQK1qB2QgAAIJ3WoHZCAACcL9egdkIAABjC16B2QgAAlFTYoHZCAAAQ59igdkIAAIx52aB2QgAACAzaoHZCAACEntqgdkIAAAAx26B2QgAAfMPboHZCAAD4VdygdkIAAHTo3KB2QgAA8HrdoHZCAABsDd6gdkIAAOif3qB2QgAAZDLfoHZCAADgxN+gdkIAAFxX4KB2QgAA2OngoHZCAABUfOGgdkIAANAO4qB2QgAATKHioHZCAADIM+OgdkIAAETG46B2QgAAwFjkoHZCAAA86+SgdkIAALh95aB2QgAANBDmoHZCAACwouagdkIAACw156B2QgAAqMfnoHZCAAAkWuigdkIAAKDs6KB2QgAAHH/poHZCAACYEeqgdkIAABSk6qB2QgAAkDbroHZCAAAMyeugdkIAAIhb7KB2QgAABO7soHZCAACAgO2gdkIAAPwS7qB2QgAAeKXuoHZCAAD0N++gdkIAAHDK76B2QgAA7FzwoHZCAABo7/CgdkIAAOSB8aB2QgAAYBTyoHZCAADcpvKgdkIAAFg586B2QgAA1MvzoHZCAABQXvSgdkIAAMzw9KB2QgAASIP1oHZCAADEFfagdkIAAECo9qB2QgAAvDr3oHZCAAA4zfegdkIAALRf+KB2QgAAMPL4oHZCAACshPmgdkIAACgX+qB2QgAApKn6oHZCAAAgPPugdkIAAJzO+6B2QgAAGGH8oHZCAACU8/ygdkIAABCG/aB2QgAAjBj+oHZCAAAIq/6gdkIAAIQ9/6B2QgAAAND/oHZCAAB8YgChdkIAAPj0AKF2QgAAdIcBoXZCAADwGQKhdkIAAGysAqF2QgAA6D4DoXZCAABk0QOhdkIAAOBjBKF2QgAAXPYEoXZCAADYiAWhdkIAAFQbBqF2QgAA0K0GoXZCAABMQAehdkIAAMjSB6F2QgAARGUIoXZCAADA9wihdkIAADyKCaF2QgAAuBwKoXZCAAA0rwqhdkIAALBBC6F2QgAALNQLoXZCAACoZgyhdkIAACT5DKF2QgAAoIsNoXZCAAAcHg6hdkIAAJiwDqF2QgAAFEMPoXZCAACQ1Q+hdkIAAAxoEKF2QgAAiPoQoXZCAAAEjRGhdkIAAIAfEqF2QgAA/LESoXZCAAB4RBOhdkIAAPTWE6F2QgAAcGkUoXZCAADs+xShdkIAAGiOFaF2QgAA5CAWoXZCAABgsxahdkIAANxFF6F2QgAAWNgXoXZCAADUahihdkIAAFD9GKF2QgAAzI8ZoXZCAABIIhqhdkIAAMS0GqF2QgAAQEcboXZCAAC82RuhdkIAADhsHKF2QgAAtP4coXZCAAAwkR2hdkIAAKwjHqF2QgAAKLYeoXZCAACkSB+hdkIAACDbH6F2QgAAnG0goXZCAAAYACGhdkIAAJSSIaF2QgAAECUioXZCAACMtyKhdkIAAAhKI6F2QgAAhNwjoXZCAAAAbyShdkIAAHwBJaF2QgAA+JMloXZCAAB0JiahdkIAAPC4JqF2QgAAbEsnoXZCAADo3SehdkIAAGRwKKF2QgAA4AIpoXZCAABclSmhdkIAANgnKqF2QgAAVLoqoXZCAADQTCuhdkIAAEzfK6F2QgAAyHEsoXZCAABEBC2hdkIAAMCWLaF2QgAAPCkuoXZCAAC4uy6hdkIAADROL6F2QgAAsOAvoXZCAAAsczChdkIAAKgFMaF2QgAAJJgxoXZCAACgKjKhdkIAABy9MqF2QgAAmE8zoXZCAAAU4jOhdkIAAJB0NKF2QgAADAc1oXZCAACImTWhdkIAAAQsNqF2QgAAgL42oXZCAAD8UDehdkIAAHjjN6F2QgAA9HU4oXZCAABwCDmhdkIAAOyaOaF2QgAAaC06oXZCAADkvzqhdkIAAGBSO6F2QgAA3OQ7oXZCAABYdzyhdkIAANQJPaF2QgAAUJw9oXZCAADMLj6hdkIAAEjBPqF2QgAAxFM/oXZCAABA5j+hdkIAALx4QKF2Qg==\"},\"shape\":[578],\"dtype\":\"float64\",\"order\":\"little\"}],[\"value\",{\"type\":\"ndarray\",\"array\":{\"type\":\"bytes\",\"data\":\"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\"},\"shape\":[578],\"dtype\":\"float64\",\"order\":\"little\"}],[\"Variable\",[\"Distance correlation\",\"Distance correlation\",\"Distance correlation\",\"Distance correlation\",\"Distance correlation\",\"Distance correlation\",\"Distance correlation\",\"Distance correlation\",\"Distance correlation\",\"Distance correlation\",\"Distance correlation\",\"Distance correlation\",\"Distance correlation\",\"Distance correlation\",\"Distance correlation\",\"Distance correlation\",\"Distance correlation\",\"Distance correlation\",\"Distance correlation\",\"Distance correlation\",\"Distance correlation\",\"Distance correlation\",\"Distance correlation\",\"Distance correlation\",\"Distance correlation\",\"Distance correlation\",\"Distance correlation\",\"Distance correlation\",\"Distance correlation\",\"Distance correlation\",\"Distance correlation\",\"Distance correlation\",\"Distance correlation\",\"Distance correlation\",\"Distance correlation\",\"Distance correlation\",\"Distance correlation\",\"Distance correlation\",\"Distance correlation\",\"Distance correlation\",\"Distance correlation\",\"Distance correlation\",\"Distance correlation\",\"Distance correlation\",\"Distance correlation\",\"Distance correlation\",\"Distance correlation\",\"Distance correlation\",\"Distance correlation\",\"Distance correlation\",\"Distance correlation\",\"Distance correlation\",\"Distance correlation\",\"Distance correlation\",\"Distance correlation\",\"Distance correlation\",\"Distance correlation\",\"Distance correlation\",\"Distance correlation\",\"Distance correlation\",\"Distance correlation\",\"Distance correlation\",\"Distance correlation\",\"Distance correlation\",\"Distance correlation\",\"Distance correlation\",\"Distance correlation\",\"Distance correlation\",\"Distance correlation\",\"Distance correlation\",\"Distance correlation\",\"Distance correlation\",\"Distance correlation\",\"Distance correlation\",\"Distance correlation\",\"Distance correlation\",\"Distance correlation\",\"Distance correlation\",\"Distance correlation\",\"Distance correlation\",\"Distance correlation\",\"Distance correlation\",\"Distance correlation\",\"Distance correlation\",\"Distance correlation\",\"Distance correlation\",\"Distance correlation\",\"Distance correlation\",\"Distance correlation\",\"Distance correlation\",\"Distance correlation\",\"Distance correlation\",\"Distance correlation\",\"Distance correlation\",\"Distance correlation\",\"Distance correlation\",\"Distance correlation\",\"Distance correlation\",\"Distance correlation\",\"Distance correlation\",\"Distance correlation\",\"Distance correlation\",\"Distance correlation\",\"Distance correlation\",\"Distance correlation\",\"Distance correlation\",\"Distance correlation\",\"Distance correlation\",\"Distance correlation\",\"Distance correlation\",\"Distance correlation\",\"Distance correlation\",\"Distance correlation\",\"Distance correlation\",\"Distance correlation\",\"Distance correlation\",\"Distance correlation\",\"Distance correlation\",\"Distance correlation\",\"Distance correlation\",\"Distance correlation\",\"Distance correlation\",\"Distance correlation\",\"Distance correlation\",\"Distance correlation\",\"Distance correlation\",\"Distance correlation\",\"Distance correlation\",\"Distance correlation\",\"Distance correlation\",\"Distance correlation\",\"Distance correlation\",\"Distance correlation\",\"Distance correlation\",\"Distance correlation\",\"Distance correlation\",\"Distance correlation\",\"Distance correlation\",\"Distance correlation\",\"Distance correlation\",\"Distance correlation\",\"Distance correlation\",\"Distance correlation\",\"Distance correlation\",\"Distance correlation\",\"Distance correlation\",\"Distance correlation\",\"Distance correlation\",\"Distance correlation\",\"Distance correlation\",\"Distance correlation\",\"Distance correlation\",\"Distance correlation\",\"Distance correlation\",\"Distance correlation\",\"Distance correlation\",\"Distance correlation\",\"Distance correlation\",\"Distance correlation\",\"Distance correlation\",\"Distance correlation\",\"Distance correlation\",\"Distance correlation\",\"Distance correlation\",\"Distance correlation\",\"Distance correlation\",\"Distance correlation\",\"Distance correlation\",\"Distance correlation\",\"Distance correlation\",\"Distance correlation\",\"Distance correlation\",\"Distance correlation\",\"Distance correlation\",\"Distance correlation\",\"Distance correlation\",\"Distance correlation\",\"Distance correlation\",\"Distance correlation\",\"Distance correlation\",\"Distance correlation\",\"Distance correlation\",\"Distance correlation\",\"Distance correlation\",\"Distance correlation\",\"Distance correlation\",\"Distance correlation\",\"Distance correlation\",\"Distance correlation\",\"Distance correlation\",\"Distance correlation\",\"Distance correlation\",\"Distance correlation\",\"Distance correlation\",\"Distance correlation\",\"Distance correlation\",\"Distance correlation\",\"Distance correlation\",\"Distance correlation\",\"Distance correlation\",\"Distance correlation\",\"Distance correlation\",\"Distance correlation\",\"Distance correlation\",\"Distance correlation\",\"Distance correlation\",\"Distance correlation\",\"Distance correlation\",\"Distance correlation\",\"Distance correlation\",\"Distance correlation\",\"Distance correlation\",\"Distance correlation\",\"Distance correlation\",\"Distance correlation\",\"Distance correlation\",\"Distance correlation\",\"Distance correlation\",\"Distance correlation\",\"Distance correlation\",\"Distance correlation\",\"Distance correlation\",\"Distance correlation\",\"Distance correlation\",\"Distance correlation\",\"Distance correlation\",\"Distance correlation\",\"Distance correlation\",\"Distance correlation\",\"Distance correlation\",\"Distance correlation\",\"Distance correlation\",\"Distance correlation\",\"Distance correlation\",\"Distance correlation\",\"Distance correlation\",\"Distance correlation\",\"Distance correlation\",\"Distance correlation\",\"Distance correlation\",\"Distance correlation\",\"Distance correlation\",\"Distance correlation\",\"Distance correlation\",\"Distance correlation\",\"Distance correlation\",\"Distance correlation\",\"Distance correlation\",\"Distance correlation\",\"Distance correlation\",\"Distance correlation\",\"Distance correlation\",\"Distance correlation\",\"Distance correlation\",\"Distance correlation\",\"Distance correlation\",\"Distance correlation\",\"Distance correlation\",\"Distance correlation\",\"Distance correlation\",\"Distance correlation\",\"Distance correlation\",\"Distance correlation\",\"Distance correlation\",\"Distance correlation\",\"Distance correlation\",\"Distance correlation\",\"Distance correlation\",\"Distance correlation\",\"Distance correlation\",\"Distance correlation\",\"Distance correlation\",\"Distance correlation\",\"Distance correlation\",\"Distance correlation\",\"Distance correlation\",\"Distance correlation\",\"Distance correlation\",\"Distance correlation\",\"Distance correlation\",\"Distance correlation\",\"Distance correlation\",\"Distance correlation\",\"Distance correlation\",\"Distance correlation\",\"Distance correlation\",\"Distance correlation\",\"Distance correlation\",\"Distance correlation\",\"Distance correlation\",\"Distance correlation\",\"Distance correlation\",\"Distance correlation\",\"Distance correlation\",\"Distance correlation\",\"Distance correlation\",\"Distance correlation\",\"Distance correlation\",\"Distance correlation\",\"Distance correlation\",\"Distance correlation\",\"Distance correlation\",\"Distance correlation\",\"Distance correlation\",\"Distance correlation\",\"Distance correlation\",\"Distance correlation\",\"Distance correlation\",\"Distance correlation\",\"Distance correlation\",\"Distance correlation\",\"Distance correlation\",\"Distance correlation\",\"Distance correlation\",\"Distance correlation\",\"Distance correlation\",\"Distance correlation\",\"Distance correlation\",\"Distance correlation\",\"Distance correlation\",\"Distance correlation\",\"Distance correlation\",\"Distance correlation\",\"Distance correlation\",\"Distance correlation\",\"Distance correlation\",\"Distance correlation\",\"Distance correlation\",\"Distance correlation\",\"Distance correlation\",\"Distance correlation\",\"Distance correlation\",\"Distance correlation\",\"Distance correlation\",\"Distance correlation\",\"Distance correlation\",\"Distance correlation\",\"Distance correlation\",\"Distance correlation\",\"Distance correlation\",\"Distance correlation\",\"Distance correlation\",\"Distance correlation\",\"Distance correlation\",\"Distance correlation\",\"Distance correlation\",\"Distance correlation\",\"Distance correlation\",\"Distance correlation\",\"Distance correlation\",\"Distance correlation\",\"Distance correlation\",\"Distance correlation\",\"Distance correlation\",\"Distance correlation\",\"Distance correlation\",\"Distance correlation\",\"Distance correlation\",\"Distance correlation\",\"Distance correlation\",\"Distance correlation\",\"Distance correlation\",\"Distance correlation\",\"Distance correlation\",\"Distance correlation\",\"Distance correlation\",\"Distance correlation\",\"Distance correlation\",\"Distance correlation\",\"Distance correlation\",\"Distance correlation\",\"Distance correlation\",\"Distance correlation\",\"Distance correlation\",\"Distance correlation\",\"Distance correlation\",\"Distance correlation\",\"Distance correlation\",\"Distance correlation\",\"Distance correlation\",\"Distance correlation\",\"Distance correlation\",\"Distance correlation\",\"Distance correlation\",\"Distance correlation\",\"Distance correlation\",\"Distance correlation\",\"Distance correlation\",\"Distance correlation\",\"Distance correlation\",\"Distance correlation\",\"Distance correlation\",\"Distance correlation\",\"Distance correlation\",\"Distance correlation\",\"Distance correlation\",\"Distance correlation\",\"Distance correlation\",\"Distance correlation\",\"Distance correlation\",\"Distance correlation\",\"Distance correlation\",\"Distance correlation\",\"Distance correlation\",\"Distance correlation\",\"Distance correlation\",\"Distance correlation\",\"Distance correlation\",\"Distance correlation\",\"Distance correlation\",\"Distance correlation\",\"Distance correlation\",\"Distance correlation\",\"Distance correlation\",\"Distance correlation\",\"Distance correlation\",\"Distance correlation\",\"Distance correlation\",\"Distance correlation\",\"Distance correlation\",\"Distance correlation\",\"Distance correlation\",\"Distance correlation\",\"Distance correlation\",\"Distance correlation\",\"Distance correlation\",\"Distance correlation\",\"Distance correlation\",\"Distance correlation\",\"Distance correlation\",\"Distance correlation\",\"Distance correlation\",\"Distance correlation\",\"Distance correlation\",\"Distance correlation\",\"Distance correlation\",\"Distance correlation\",\"Distance correlation\",\"Distance correlation\",\"Distance correlation\",\"Distance correlation\",\"Distance correlation\",\"Distance correlation\",\"Distance correlation\",\"Distance correlation\",\"Distance correlation\",\"Distance correlation\",\"Distance correlation\",\"Distance correlation\",\"Distance correlation\",\"Distance correlation\",\"Distance correlation\",\"Distance correlation\",\"Distance correlation\",\"Distance correlation\",\"Distance correlation\",\"Distance correlation\",\"Distance correlation\",\"Distance correlation\",\"Distance correlation\",\"Distance correlation\",\"Distance correlation\",\"Distance correlation\",\"Distance correlation\",\"Distance correlation\",\"Distance correlation\",\"Distance correlation\",\"Distance correlation\",\"Distance correlation\",\"Distance correlation\",\"Distance correlation\",\"Distance correlation\",\"Distance correlation\",\"Distance correlation\",\"Distance correlation\",\"Distance correlation\",\"Distance correlation\",\"Distance correlation\",\"Distance correlation\",\"Distance correlation\",\"Distance correlation\",\"Distance correlation\",\"Distance correlation\",\"Distance correlation\",\"Distance correlation\",\"Distance correlation\",\"Distance correlation\",\"Distance correlation\",\"Distance correlation\",\"Distance correlation\",\"Distance correlation\",\"Distance correlation\",\"Distance correlation\",\"Distance correlation\",\"Distance correlation\",\"Distance correlation\",\"Distance correlation\",\"Distance correlation\",\"Distance correlation\",\"Distance correlation\",\"Distance correlation\",\"Distance correlation\",\"Distance correlation\",\"Distance correlation\",\"Distance correlation\",\"Distance correlation\",\"Distance correlation\",\"Distance correlation\",\"Distance correlation\",\"Distance correlation\",\"Distance correlation\",\"Distance correlation\",\"Distance correlation\",\"Distance correlation\",\"Distance correlation\",\"Distance correlation\",\"Distance correlation\",\"Distance correlation\",\"Distance correlation\",\"Distance correlation\",\"Distance correlation\",\"Distance correlation\",\"Distance correlation\",\"Distance correlation\",\"Distance correlation\",\"Distance correlation\",\"Distance correlation\",\"Distance correlation\",\"Distance correlation\",\"Distance correlation\",\"Distance correlation\",\"Distance correlation\",\"Distance correlation\",\"Distance correlation\",\"Distance correlation\",\"Distance correlation\",\"Distance correlation\",\"Distance correlation\",\"Distance correlation\",\"Distance correlation\",\"Distance correlation\",\"Distance correlation\",\"Distance correlation\",\"Distance correlation\",\"Distance correlation\",\"Distance correlation\",\"Distance correlation\",\"Distance correlation\",\"Distance correlation\",\"Distance correlation\",\"Distance correlation\",\"Distance correlation\",\"Distance correlation\",\"Distance correlation\",\"Distance correlation\",\"Distance correlation\",\"Distance correlation\",\"Distance correlation\",\"Distance correlation\",\"Distance correlation\",\"Distance correlation\",\"Distance correlation\",\"Distance correlation\",\"Distance correlation\",\"Distance correlation\",\"Distance correlation\",\"Distance correlation\",\"Distance correlation\",\"Distance correlation\",\"Distance correlation\",\"Distance correlation\",\"Distance correlation\",\"Distance correlation\",\"Distance correlation\",\"Distance correlation\",\"Distance correlation\",\"Distance correlation\",\"Distance correlation\"]]]}}},\"view\":{\"type\":\"object\",\"name\":\"CDSView\",\"id\":\"p1163\",\"attributes\":{\"filter\":{\"type\":\"object\",\"name\":\"AllIndices\",\"id\":\"p1164\"}}},\"glyph\":{\"type\":\"object\",\"name\":\"Line\",\"id\":\"p1159\",\"attributes\":{\"tags\":[\"apply_ranges\"],\"x\":{\"type\":\"field\",\"field\":\"v2_start\"},\"y\":{\"type\":\"field\",\"field\":\"value\"},\"line_color\":\"#fc4f30\",\"line_width\":2}},\"selection_glyph\":{\"type\":\"object\",\"name\":\"Line\",\"id\":\"p1166\",\"attributes\":{\"tags\":[\"apply_ranges\"],\"x\":{\"type\":\"field\",\"field\":\"v2_start\"},\"y\":{\"type\":\"field\",\"field\":\"value\"},\"line_color\":\"#fc4f30\",\"line_width\":2}},\"nonselection_glyph\":{\"type\":\"object\",\"name\":\"Line\",\"id\":\"p1160\",\"attributes\":{\"tags\":[\"apply_ranges\"],\"x\":{\"type\":\"field\",\"field\":\"v2_start\"},\"y\":{\"type\":\"field\",\"field\":\"value\"},\"line_color\":\"#fc4f30\",\"line_alpha\":0.1,\"line_width\":2}},\"muted_glyph\":{\"type\":\"object\",\"name\":\"Line\",\"id\":\"p1161\",\"attributes\":{\"tags\":[\"apply_ranges\"],\"x\":{\"type\":\"field\",\"field\":\"v2_start\"},\"y\":{\"type\":\"field\",\"field\":\"value\"},\"line_color\":\"#fc4f30\",\"line_alpha\":0.2,\"line_width\":2}}}}],\"toolbar\":{\"type\":\"object\",\"name\":\"Toolbar\",\"id\":\"p1104\",\"attributes\":{\"tools\":[{\"type\":\"object\",\"name\":\"WheelZoomTool\",\"id\":\"p1090\",\"attributes\":{\"tags\":[\"hv_created\"],\"renderers\":\"auto\",\"zoom_together\":\"none\"}},{\"type\":\"object\",\"name\":\"HoverTool\",\"id\":\"p1091\",\"attributes\":{\"tags\":[\"hv_created\"],\"renderers\":[{\"id\":\"p1147\"},{\"id\":\"p1162\"}],\"tooltips\":[[\"Variable\",\"@{Variable}\"],[\"v2_start\",\"@{v2_start}{%F %T}\"],[\"value\",\"@{value}\"]],\"formatters\":{\"type\":\"map\",\"entries\":[[\"@{v2_start}\",\"datetime\"]]}}},{\"type\":\"object\",\"name\":\"SaveTool\",\"id\":\"p1129\"},{\"type\":\"object\",\"name\":\"PanTool\",\"id\":\"p1130\"},{\"type\":\"object\",\"name\":\"BoxZoomTool\",\"id\":\"p1131\",\"attributes\":{\"overlay\":{\"type\":\"object\",\"name\":\"BoxAnnotation\",\"id\":\"p1132\",\"attributes\":{\"syncable\":false,\"level\":\"overlay\",\"visible\":false,\"left\":{\"type\":\"number\",\"value\":\"nan\"},\"right\":{\"type\":\"number\",\"value\":\"nan\"},\"top\":{\"type\":\"number\",\"value\":\"nan\"},\"bottom\":{\"type\":\"number\",\"value\":\"nan\"},\"left_units\":\"canvas\",\"right_units\":\"canvas\",\"top_units\":\"canvas\",\"bottom_units\":\"canvas\",\"line_color\":\"black\",\"line_alpha\":1.0,\"line_width\":2,\"line_dash\":[4,4],\"fill_color\":\"lightgrey\",\"fill_alpha\":0.5}}}},{\"type\":\"object\",\"name\":\"ResetTool\",\"id\":\"p1137\"}],\"active_drag\":{\"id\":\"p1130\"},\"active_scroll\":{\"id\":\"p1090\"}}},\"left\":[{\"type\":\"object\",\"name\":\"LinearAxis\",\"id\":\"p1124\",\"attributes\":{\"ticker\":{\"type\":\"object\",\"name\":\"BasicTicker\",\"id\":\"p1125\",\"attributes\":{\"mantissas\":[1,2,5]}},\"formatter\":{\"type\":\"object\",\"name\":\"BasicTickFormatter\",\"id\":\"p1126\"},\"axis_label\":\"\",\"major_label_policy\":{\"type\":\"object\",\"name\":\"AllLabels\",\"id\":\"p1127\"}}}],\"right\":[{\"type\":\"object\",\"name\":\"Legend\",\"id\":\"p1150\",\"attributes\":{\"location\":[0,0],\"title\":\"Variable\",\"click_policy\":\"mute\",\"items\":[{\"type\":\"object\",\"name\":\"LegendItem\",\"id\":\"p1151\",\"attributes\":{\"label\":{\"type\":\"value\",\"value\":\"Pearson correlation\"},\"renderers\":[{\"id\":\"p1147\"}]}},{\"type\":\"object\",\"name\":\"LegendItem\",\"id\":\"p1165\",\"attributes\":{\"label\":{\"type\":\"value\",\"value\":\"Distance correlation\"},\"renderers\":[{\"id\":\"p1162\"}]}}]}}],\"below\":[{\"type\":\"object\",\"name\":\"DatetimeAxis\",\"id\":\"p1107\",\"attributes\":{\"ticker\":{\"type\":\"object\",\"name\":\"DatetimeTicker\",\"id\":\"p1108\",\"attributes\":{\"num_minor_ticks\":5,\"tickers\":[{\"type\":\"object\",\"name\":\"AdaptiveTicker\",\"id\":\"p1109\",\"attributes\":{\"num_minor_ticks\":0,\"mantissas\":[1,2,5],\"max_interval\":500.0}},{\"type\":\"object\",\"name\":\"AdaptiveTicker\",\"id\":\"p1110\",\"attributes\":{\"num_minor_ticks\":0,\"base\":60,\"mantissas\":[1,2,5,10,15,20,30],\"min_interval\":1000.0,\"max_interval\":1800000.0}},{\"type\":\"object\",\"name\":\"AdaptiveTicker\",\"id\":\"p1111\",\"attributes\":{\"num_minor_ticks\":0,\"base\":24,\"mantissas\":[1,2,4,6,8,12],\"min_interval\":3600000.0,\"max_interval\":43200000.0}},{\"type\":\"object\",\"name\":\"DaysTicker\",\"id\":\"p1112\",\"attributes\":{\"days\":[1,2,3,4,5,6,7,8,9,10,11,12,13,14,15,16,17,18,19,20,21,22,23,24,25,26,27,28,29,30,31]}},{\"type\":\"object\",\"name\":\"DaysTicker\",\"id\":\"p1113\",\"attributes\":{\"days\":[1,4,7,10,13,16,19,22,25,28]}},{\"type\":\"object\",\"name\":\"DaysTicker\",\"id\":\"p1114\",\"attributes\":{\"days\":[1,8,15,22]}},{\"type\":\"object\",\"name\":\"DaysTicker\",\"id\":\"p1115\",\"attributes\":{\"days\":[1,15]}},{\"type\":\"object\",\"name\":\"MonthsTicker\",\"id\":\"p1116\",\"attributes\":{\"months\":[0,1,2,3,4,5,6,7,8,9,10,11]}},{\"type\":\"object\",\"name\":\"MonthsTicker\",\"id\":\"p1117\",\"attributes\":{\"months\":[0,2,4,6,8,10]}},{\"type\":\"object\",\"name\":\"MonthsTicker\",\"id\":\"p1118\",\"attributes\":{\"months\":[0,4,8]}},{\"type\":\"object\",\"name\":\"MonthsTicker\",\"id\":\"p1119\",\"attributes\":{\"months\":[0,6]}},{\"type\":\"object\",\"name\":\"YearsTicker\",\"id\":\"p1120\"}]}},\"formatter\":{\"type\":\"object\",\"name\":\"DatetimeTickFormatter\",\"id\":\"p1121\"},\"axis_label\":\"v2_start\",\"major_label_policy\":{\"type\":\"object\",\"name\":\"AllLabels\",\"id\":\"p1122\"}}}],\"center\":[{\"type\":\"object\",\"name\":\"Grid\",\"id\":\"p1123\",\"attributes\":{\"axis\":{\"id\":\"p1107\"},\"grid_line_color\":null}},{\"type\":\"object\",\"name\":\"Grid\",\"id\":\"p1128\",\"attributes\":{\"dimension\":1,\"axis\":{\"id\":\"p1124\"},\"grid_line_color\":null}}],\"min_border_top\":10,\"min_border_bottom\":10,\"min_border_left\":10,\"min_border_right\":10,\"output_backend\":\"webgl\"}},{\"type\":\"object\",\"name\":\"Spacer\",\"id\":\"p1168\",\"attributes\":{\"name\":\"HSpacer01092\",\"stylesheets\":[\"\\n:host(.pn-loading.pn-arc):before, .pn-loading.pn-arc:before {\\n  background-image: url(\\\"data:image/svg+xml;base64,PHN2ZyB4bWxucz0iaHR0cDovL3d3dy53My5vcmcvMjAwMC9zdmciIHN0eWxlPSJtYXJnaW46IGF1dG87IGJhY2tncm91bmQ6IG5vbmU7IGRpc3BsYXk6IGJsb2NrOyBzaGFwZS1yZW5kZXJpbmc6IGF1dG87IiB2aWV3Qm94PSIwIDAgMTAwIDEwMCIgcHJlc2VydmVBc3BlY3RSYXRpbz0ieE1pZFlNaWQiPiAgPGNpcmNsZSBjeD0iNTAiIGN5PSI1MCIgZmlsbD0ibm9uZSIgc3Ryb2tlPSIjYzNjM2MzIiBzdHJva2Utd2lkdGg9IjEwIiByPSIzNSIgc3Ryb2tlLWRhc2hhcnJheT0iMTY0LjkzMzYxNDMxMzQ2NDE1IDU2Ljk3Nzg3MTQzNzgyMTM4Ij4gICAgPGFuaW1hdGVUcmFuc2Zvcm0gYXR0cmlidXRlTmFtZT0idHJhbnNmb3JtIiB0eXBlPSJyb3RhdGUiIHJlcGVhdENvdW50PSJpbmRlZmluaXRlIiBkdXI9IjFzIiB2YWx1ZXM9IjAgNTAgNTA7MzYwIDUwIDUwIiBrZXlUaW1lcz0iMDsxIj48L2FuaW1hdGVUcmFuc2Zvcm0+ICA8L2NpcmNsZT48L3N2Zz4=\\\");\\n  background-size: auto calc(min(50%, 400px));\\n}\",{\"id\":\"p1083\"},{\"id\":\"p1081\"},{\"id\":\"p1082\"}],\"margin\":0,\"sizing_mode\":\"stretch_width\",\"align\":\"start\"}}]}}],\"defs\":[{\"type\":\"model\",\"name\":\"ReactiveHTML1\"},{\"type\":\"model\",\"name\":\"FlexBox1\",\"properties\":[{\"name\":\"align_content\",\"kind\":\"Any\",\"default\":\"flex-start\"},{\"name\":\"align_items\",\"kind\":\"Any\",\"default\":\"flex-start\"},{\"name\":\"flex_direction\",\"kind\":\"Any\",\"default\":\"row\"},{\"name\":\"flex_wrap\",\"kind\":\"Any\",\"default\":\"wrap\"},{\"name\":\"justify_content\",\"kind\":\"Any\",\"default\":\"flex-start\"}]},{\"type\":\"model\",\"name\":\"FloatPanel1\",\"properties\":[{\"name\":\"config\",\"kind\":\"Any\",\"default\":{\"type\":\"map\"}},{\"name\":\"contained\",\"kind\":\"Any\",\"default\":true},{\"name\":\"position\",\"kind\":\"Any\",\"default\":\"right-top\"},{\"name\":\"offsetx\",\"kind\":\"Any\",\"default\":null},{\"name\":\"offsety\",\"kind\":\"Any\",\"default\":null},{\"name\":\"theme\",\"kind\":\"Any\",\"default\":\"primary\"},{\"name\":\"status\",\"kind\":\"Any\",\"default\":\"normalized\"}]},{\"type\":\"model\",\"name\":\"GridStack1\",\"properties\":[{\"name\":\"mode\",\"kind\":\"Any\",\"default\":\"warn\"},{\"name\":\"ncols\",\"kind\":\"Any\",\"default\":null},{\"name\":\"nrows\",\"kind\":\"Any\",\"default\":null},{\"name\":\"allow_resize\",\"kind\":\"Any\",\"default\":true},{\"name\":\"allow_drag\",\"kind\":\"Any\",\"default\":true},{\"name\":\"state\",\"kind\":\"Any\",\"default\":[]}]},{\"type\":\"model\",\"name\":\"drag1\",\"properties\":[{\"name\":\"slider_width\",\"kind\":\"Any\",\"default\":5},{\"name\":\"slider_color\",\"kind\":\"Any\",\"default\":\"black\"},{\"name\":\"value\",\"kind\":\"Any\",\"default\":50}]},{\"type\":\"model\",\"name\":\"click1\",\"properties\":[{\"name\":\"terminal_output\",\"kind\":\"Any\",\"default\":\"\"},{\"name\":\"debug_name\",\"kind\":\"Any\",\"default\":\"\"},{\"name\":\"clears\",\"kind\":\"Any\",\"default\":0}]},{\"type\":\"model\",\"name\":\"copy_to_clipboard1\",\"properties\":[{\"name\":\"fill\",\"kind\":\"Any\",\"default\":\"none\"},{\"name\":\"value\",\"kind\":\"Any\",\"default\":null}]},{\"type\":\"model\",\"name\":\"FastWrapper1\",\"properties\":[{\"name\":\"object\",\"kind\":\"Any\",\"default\":null},{\"name\":\"style\",\"kind\":\"Any\",\"default\":null}]},{\"type\":\"model\",\"name\":\"NotificationAreaBase1\",\"properties\":[{\"name\":\"js_events\",\"kind\":\"Any\",\"default\":{\"type\":\"map\"}},{\"name\":\"position\",\"kind\":\"Any\",\"default\":\"bottom-right\"},{\"name\":\"_clear\",\"kind\":\"Any\",\"default\":0}]},{\"type\":\"model\",\"name\":\"NotificationArea1\",\"properties\":[{\"name\":\"js_events\",\"kind\":\"Any\",\"default\":{\"type\":\"map\"}},{\"name\":\"notifications\",\"kind\":\"Any\",\"default\":[]},{\"name\":\"position\",\"kind\":\"Any\",\"default\":\"bottom-right\"},{\"name\":\"_clear\",\"kind\":\"Any\",\"default\":0},{\"name\":\"types\",\"kind\":\"Any\",\"default\":[{\"type\":\"map\",\"entries\":[[\"type\",\"warning\"],[\"background\",\"#ffc107\"],[\"icon\",{\"type\":\"map\",\"entries\":[[\"className\",\"fas fa-exclamation-triangle\"],[\"tagName\",\"i\"],[\"color\",\"white\"]]}]]},{\"type\":\"map\",\"entries\":[[\"type\",\"info\"],[\"background\",\"#007bff\"],[\"icon\",{\"type\":\"map\",\"entries\":[[\"className\",\"fas fa-info-circle\"],[\"tagName\",\"i\"],[\"color\",\"white\"]]}]]}]}]},{\"type\":\"model\",\"name\":\"Notification\",\"properties\":[{\"name\":\"background\",\"kind\":\"Any\",\"default\":null},{\"name\":\"duration\",\"kind\":\"Any\",\"default\":3000},{\"name\":\"icon\",\"kind\":\"Any\",\"default\":null},{\"name\":\"message\",\"kind\":\"Any\",\"default\":\"\"},{\"name\":\"notification_type\",\"kind\":\"Any\",\"default\":null},{\"name\":\"_destroyed\",\"kind\":\"Any\",\"default\":false}]},{\"type\":\"model\",\"name\":\"TemplateActions1\",\"properties\":[{\"name\":\"open_modal\",\"kind\":\"Any\",\"default\":0},{\"name\":\"close_modal\",\"kind\":\"Any\",\"default\":0}]},{\"type\":\"model\",\"name\":\"BootstrapTemplateActions1\",\"properties\":[{\"name\":\"open_modal\",\"kind\":\"Any\",\"default\":0},{\"name\":\"close_modal\",\"kind\":\"Any\",\"default\":0}]},{\"type\":\"model\",\"name\":\"MaterialTemplateActions1\",\"properties\":[{\"name\":\"open_modal\",\"kind\":\"Any\",\"default\":0},{\"name\":\"close_modal\",\"kind\":\"Any\",\"default\":0}]}]}};\n",
       "  var render_items = [{\"docid\":\"32d75456-7476-442d-b8e6-c85d00319264\",\"roots\":{\"p1080\":\"eb40eeea-0224-4caa-84a3-ba6ce31edef3\"},\"root_ids\":[\"p1080\"]}];\n",
       "  var docs = Object.values(docs_json)\n",
       "  if (!docs) {\n",
       "    return\n",
       "  }\n",
       "  const py_version = docs[0].version.replace('rc', '-rc.').replace('.dev', '-dev.')\n",
       "  function embed_document(root) {\n",
       "    var Bokeh = get_bokeh(root)\n",
       "    Bokeh.embed.embed_items_notebook(docs_json, render_items);\n",
       "    for (const render_item of render_items) {\n",
       "      for (const root_id of render_item.root_ids) {\n",
       "\tconst id_el = document.getElementById(root_id)\n",
       "\tif (id_el.children.length && (id_el.children[0].className === 'bk-root')) {\n",
       "\t  const root_el = id_el.children[0]\n",
       "\t  root_el.id = root_el.id + '-rendered'\n",
       "\t}\n",
       "      }\n",
       "    }\n",
       "  }\n",
       "  function get_bokeh(root) {\n",
       "    if (root.Bokeh === undefined) {\n",
       "      return null\n",
       "    } else if (root.Bokeh.version !== py_version) {\n",
       "      if (root.Bokeh.versions === undefined || !root.Bokeh.versions.has(py_version)) {\n",
       "\treturn null\n",
       "      }\n",
       "      return root.Bokeh.versions.get(py_version);\n",
       "    } else if (root.Bokeh.version === py_version) {\n",
       "      return root.Bokeh\n",
       "    }\n",
       "    return null\n",
       "  }\n",
       "  function is_loaded(root) {\n",
       "    var Bokeh = get_bokeh(root)\n",
       "    return (Bokeh != null && Bokeh.Panel !== undefined)\n",
       "  }\n",
       "  if (is_loaded(root)) {\n",
       "    embed_document(root);\n",
       "  } else {\n",
       "    var attempts = 0;\n",
       "    var timer = setInterval(function(root) {\n",
       "      if (is_loaded(root)) {\n",
       "        clearInterval(timer);\n",
       "        embed_document(root);\n",
       "      } else if (document.readyState == \"complete\") {\n",
       "        attempts++;\n",
       "        if (attempts > 200) {\n",
       "          clearInterval(timer);\n",
       "\t  var Bokeh = get_bokeh(root)\n",
       "\t  if (Bokeh == null || Bokeh.Panel == null) {\n",
       "            console.warn(\"Panel: ERROR: Unable to run Panel code because Bokeh or Panel library is missing\");\n",
       "\t  } else {\n",
       "\t    console.warn(\"Panel: WARNING: Attempting to render but not all required libraries could be resolved.\")\n",
       "\t    embed_document(root)\n",
       "\t  }\n",
       "        }\n",
       "      }\n",
       "    }, 25, root)\n",
       "  }\n",
       "})(window);</script>"
      ],
      "text/plain": [
       ":NdOverlay   [Variable]\n",
       "   :Curve   [v2_start]   (value)"
      ]
     },
     "execution_count": 128,
     "metadata": {
      "application/vnd.holoviews_exec.v0+json": {
       "id": "p1080"
      }
     },
     "output_type": "execute_result"
    }
   ],
   "source": [
    "df.hvplot('v2_start', ['Pearson correlation', 'Distance correlation'])"
   ]
  }
 ],
 "metadata": {
  "kernelspec": {
   "display_name": "cool_planet",
   "language": "python",
   "name": "python3"
  },
  "language_info": {
   "codemirror_mode": {
    "name": "ipython",
    "version": 3
   },
   "file_extension": ".py",
   "mimetype": "text/x-python",
   "name": "python",
   "nbconvert_exporter": "python",
   "pygments_lexer": "ipython3",
   "version": "3.12.1"
  }
 },
 "nbformat": 4,
 "nbformat_minor": 2
}
